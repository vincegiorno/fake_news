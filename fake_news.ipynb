{
 "cells": [
  {
   "cell_type": "code",
   "execution_count": 1,
   "metadata": {
    "collapsed": true
   },
   "outputs": [],
   "source": [
    "import pandas as pd\n",
    "import numpy as np\n",
    "import matplotlib.pyplot as plt\n",
    "import seaborn as sns\n",
    "import pickle\n",
    "\n",
    "%matplotlib inline"
   ]
  },
  {
   "cell_type": "code",
   "execution_count": 33,
   "metadata": {
    "collapsed": true
   },
   "outputs": [],
   "source": [
    "credible = pd.read_csv('corpus/credible.csv', header=None, names=['id', 'type', 'domain', 'content'])"
   ]
  },
  {
   "cell_type": "code",
   "execution_count": 34,
   "metadata": {},
   "outputs": [
    {
     "data": {
      "text/plain": [
       "array(['baptistnews.com', 'nationalreview.com', 'weeklystandard.com',\n",
       "       'theintercept.com', 'foreignpolicyjournal.com', 'www.latimes.com',\n",
       "       'www.cbsnews.com', 'www.nytimes.com', 'in.reuters.com',\n",
       "       'af.reuters.com', 'www.msn.com', 'abcnews.go.com', 'uk.reuters.com',\n",
       "       'www.usatoday.com', 'www.npr.org', 'www.wsj.com',\n",
       "       'washpost.bloomberg.com', 'www.theatlantic.com',\n",
       "       'www.washingtonpost.com', 'www.theguardian.com', 'www.reuters.com',\n",
       "       'www.bloomberg.com', 'feeds.reuters.com', 'www.politico.com',\n",
       "       'www.buzzfeed.com', 'www.nbcnews.com', 'online.wsj.com',\n",
       "       'ca.reuters.com', 'nytimes.com'], dtype=object)"
      ]
     },
     "execution_count": 34,
     "metadata": {},
     "output_type": "execute_result"
    }
   ],
   "source": [
    "credible['domain'].unique()"
   ]
  },
  {
   "cell_type": "code",
   "execution_count": 35,
   "metadata": {
    "collapsed": true
   },
   "outputs": [],
   "source": [
    "credible = credible[(credible['domain'] != 'www.msn.com') & (credible['domain'] != 'feed.reuters.com')]"
   ]
  },
  {
   "cell_type": "code",
   "execution_count": 36,
   "metadata": {
    "collapsed": true
   },
   "outputs": [],
   "source": [
    "others = credible[~credible['domain'].isin(['nytimes.com', 'nationalreview.com', 'www.reuters.com', 'weeklystandard.com'])]"
   ]
  },
  {
   "cell_type": "code",
   "execution_count": 37,
   "metadata": {},
   "outputs": [
    {
     "data": {
      "text/plain": [
       "91269"
      ]
     },
     "execution_count": 37,
     "metadata": {},
     "output_type": "execute_result"
    }
   ],
   "source": [
    "len(others)"
   ]
  },
  {
   "cell_type": "code",
   "execution_count": 39,
   "metadata": {
    "collapsed": true
   },
   "outputs": [],
   "source": [
    "cred_sample = others.sample(22000)"
   ]
  },
  {
   "cell_type": "code",
   "execution_count": 40,
   "metadata": {
    "collapsed": true
   },
   "outputs": [],
   "source": [
    "cred_sample['content'] = cred_sample['content'].apply(reformat)"
   ]
  },
  {
   "cell_type": "code",
   "execution_count": 43,
   "metadata": {},
   "outputs": [],
   "source": [
    "cred_sample = cred_sample[~cred_sample['content'].isnull()]"
   ]
  },
  {
   "cell_type": "code",
   "execution_count": 44,
   "metadata": {},
   "outputs": [
    {
     "data": {
      "text/plain": [
       "8152"
      ]
     },
     "execution_count": 44,
     "metadata": {},
     "output_type": "execute_result"
    }
   ],
   "source": [
    "len(cred_sample)"
   ]
  },
  {
   "cell_type": "code",
   "execution_count": 45,
   "metadata": {
    "collapsed": true
   },
   "outputs": [],
   "source": [
    "with open('cleaned/cred_sample', 'wb') as datafile:\n",
    "    pickle.dump(cred_sample, datafile)"
   ]
  },
  {
   "cell_type": "code",
   "execution_count": 2,
   "metadata": {
    "collapsed": true
   },
   "outputs": [],
   "source": [
    "import spacy\n",
    "from spacy_langdetect import LanguageDetector\n",
    "nlp = spacy.load('en')\n",
    "#from spacy.pipeline import Sentencizer\n",
    "\n",
    "#sentencizer = Sentencizer(['.', '?', '!', '\\n'])\n",
    "nlp.add_pipe(LanguageDetector(), name=\"language_detector\", last=True)\n",
    "import re\n",
    "from unidecode import unidecode"
   ]
  },
  {
   "cell_type": "code",
   "execution_count": 3,
   "metadata": {
    "collapsed": true
   },
   "outputs": [],
   "source": [
    "class Cleaner(dict):\n",
    "    \"\"\" Multiple-string-substitution dict \"\"\"\n",
    "    def _make_regex(self):\n",
    "        \"\"\" Build re object based on the keys of the dictionary it is instantiated with\"\"\"\n",
    "        return re.compile(\"|\".join(map(re.escape, self.keys())))\n",
    "\n",
    "    def __call__(self, match):\n",
    "        \"\"\" Handler invoked for each regex match \"\"\"\n",
    "        return self[match.group(0)]\n",
    "\n",
    "    def clean(self, text):\n",
    "        \"\"\" Substitutes with value for each key and returns the modified text. \"\"\"\n",
    "        return self._make_regex(  ).sub(self, text)"
   ]
  },
  {
   "cell_type": "code",
   "execution_count": 4,
   "metadata": {
    "collapsed": true
   },
   "outputs": [],
   "source": [
    "replacements = {\"\\n\": \" \", # new line characters\n",
    "                \"\\t\": \" \", # tabs\n",
    "                \"-\": \" \",\n",
    "                \"...\": \" \",\n",
    "                \"won't\": \"will not\",\n",
    "                \"can't\": \"can not\",\n",
    "                \"&\": \" and \",\n",
    "                \"\\$*\": \"$\",\n",
    "                \"Loading...\": \" \",\n",
    "                \"Continued...\": \" \",\n",
    "                \"\\N{COPYRIGHT SIGN}\": \" \",\n",
    "                \"\\N{NO-BREAK SPACE}\": \" \",\n",
    "                \"\\N{LEFT-POINTING DOUBLE ANGLE QUOTATION MARK}\": \" \",\n",
    "                \"\\N{RIGHT-POINTING DOUBLE ANGLE QUOTATION MARK}\": \" \",\n",
    "                '.\"': '\".',\n",
    "                '?\"': '\"?',\n",
    "                '!\"': '\"!'\n",
    "               }"
   ]
  },
  {
   "cell_type": "code",
   "execution_count": 5,
   "metadata": {
    "collapsed": true
   },
   "outputs": [],
   "source": [
    "entities = {'PERSON': 'person',\n",
    "            'FAC': 'landmark',\n",
    "            'ORG': 'organization',\n",
    "            'GPE': 'place',\n",
    "            'LOC': 'location',\n",
    "            'EVENT': 'event',\n",
    "            'WORK_OF_ART': 'artwork',\n",
    "            'LAW': 'law',\n",
    "            'DATE': 'date',\n",
    "            'TIME': 'time',\n",
    "            'PERCENT': 'percent',\n",
    "            'MONEY': 'money',\n",
    "            'QUANTITY': 'quantity',\n",
    "            'CARDINAL': 'number'\n",
    "}\n",
    "\n",
    "ent_order = {'PERSON': 8,\n",
    "            'FAC': 2,\n",
    "            'ORG': 1,\n",
    "            'GPE': 6,\n",
    "            'LOC': 7,\n",
    "            'EVENT': 3,\n",
    "            'WORK_OF_ART': 5,\n",
    "            'LAW': 4,\n",
    "            'DATE': 9,\n",
    "            'TIME': 10,\n",
    "            'PERCENT': 12,\n",
    "            'MONEY': 11,\n",
    "            'QUANTITY': 13,\n",
    "            'CARDINAL': 14,\n",
    "}\n",
    "\n",
    "drop_ents = ['NORP', 'PRODUCT', 'LANGUAGE','ORDINAL']"
   ]
  },
  {
   "cell_type": "code",
   "execution_count": 6,
   "metadata": {
    "collapsed": true
   },
   "outputs": [],
   "source": [
    "preprocess = Cleaner(replacements)"
   ]
  },
  {
   "cell_type": "code",
   "execution_count": 7,
   "metadata": {
    "collapsed": true
   },
   "outputs": [],
   "source": [
    "def process(in_doc):\n",
    "    count = 0\n",
    "    out_doc = \"\"\n",
    "    doc = nlp(in_doc)\n",
    "    if doc._.language['language'] != 'en':\n",
    "        return np.nan\n",
    "    colon_count = 0\n",
    "    for sent in doc.sents:\n",
    "        text = sent.text\n",
    "        if not re.search('[.?!] *$', text) or re.search(r'(?i)you', text): # direct appeal to reader or not a sentence\n",
    "            continue\n",
    "        if ':' in text:\n",
    "            colon_count += 1\n",
    "        out_doc += sent.text + ' '\n",
    "        count += 1\n",
    "    if count < 13 or colon_count > 6: # too short for training or likely contains many unquoted quotations\n",
    "        return np.nan\n",
    "    ents = [ent for ent in doc.ents if ent.label_ not in drop_ents]\n",
    "    ents = sorted(ents, key=lambda ent: ent_order[ent.label_])\n",
    "    converted = set([])\n",
    "    for ent in ents:\n",
    "        if (ent.text, ent.label_) in converted: # ignore entities that have already been converted\n",
    "            continue\n",
    "        converted.add((ent.text, ent.label_))\n",
    "        if ent.text[0] == '$':\n",
    "            pattern = r'\\{}\\b'.format(ent.text)\n",
    "        else:\n",
    "            pattern = r'\\b{}\\b'.format(ent.text)\n",
    "        out_doc = re.sub(pattern, entities.get(ent.label_, ent.text), out_doc)\n",
    "    return out_doc"
   ]
  },
  {
   "cell_type": "code",
   "execution_count": 32,
   "metadata": {
    "collapsed": true
   },
   "outputs": [],
   "source": [
    "def convert_quotes(qq):\n",
    "    num = 0\n",
    "    if qq[-2] in ['.', '?', '!']:\n",
    "        punct = qq[-2]\n",
    "    else:\n",
    "        punct = ''\n",
    "    length = len(qq.split())\n",
    "    if length <= 2:\n",
    "        num = 1\n",
    "    elif length <= 12:\n",
    "        num = 2\n",
    "    elif length <= 25:\n",
    "        num = 3\n",
    "    else:\n",
    "        num = 4\n",
    "    return 'quote ' * num + punct\n",
    "\n",
    "def reformat(article):\n",
    "    text = unidecode(article)\n",
    "    if text.count('\\N{QUOTATION MARK}') % 2 != 0:\n",
    "        return np.nan\n",
    "    text = preprocess.clean(text)\n",
    "    text = re.sub(r'^(.{0,50})\\(\\w+\\)', ' ', text) # delete dateline\n",
    "    text = re.sub(r'\\|.*\\|', ' ', text) # delete category headers, bylines, etc. between pipe symbols\n",
    "    text = re.sub(r'\\S*@\\S+', 'email', text) # replace email address or Twitter handle with \"email\"\n",
    "    text = re.sub(r'[-a-zA-Z0-9@:%_\\+.~#?&\\/=]{2,256}\\.[a-z]{2,4}(\\/[-a-zA-Z0-9@:%_\\+.~#?&\\/=]*)?', ' website',\n",
    "                  text) # URLs\n",
    "    text = re.sub('[\\[\\(][^\\[\\(]*[\\]\\)]', '', text) # delete text inside parentheses or brackets\n",
    "    text = re.sub(r\"\\b(\\w*)n't\", lambda m: m.group(1) + ' not', text) # replace remaining \"xxn't\" contractions with \"xx not\"\n",
    "    text = re.sub(r'(\"[^\"]*\")', lambda m: convert_quotes(m.group(1)), text) # replace quoted text\n",
    "    text = re.sub(r\"^'|'$|(?<= )'|(?<!s)'(?= )\", '\"', text) # replace single quotes, but not apostrophes, with double quotes\n",
    "    if text.count('\\N{QUOTATION MARK}') % 2 != 0:\n",
    "        return np.nan\n",
    "    text = re.sub(r'(\"[^\"]*\")', lambda m: convert_quotes(m.group(1)), text) # replace quoted text\n",
    "    text = re.sub(r'(?i)please share this.*', '', text)\n",
    "    text = re.sub(' +', ' ', text) # reduce all multiple spaces to single spaces\n",
    "    try:\n",
    "        output = process(text)\n",
    "    except:\n",
    "        output = np.nan\n",
    "    return output"
   ]
  },
  {
   "cell_type": "code",
   "execution_count": 9,
   "metadata": {
    "collapsed": true
   },
   "outputs": [],
   "source": [
    "hate = pd.read_csv('corpus/hate.csv', header=None, names=['id', 'type', 'domain', 'content'], dtype={'id': str})"
   ]
  },
  {
   "cell_type": "code",
   "execution_count": 11,
   "metadata": {
    "collapsed": true
   },
   "outputs": [],
   "source": [
    "hate = hate[hate['domain'].isin(hate_keepers)]"
   ]
  },
  {
   "cell_type": "code",
   "execution_count": 12,
   "metadata": {},
   "outputs": [
    {
     "data": {
      "text/plain": [
       "33031"
      ]
     },
     "execution_count": 12,
     "metadata": {},
     "output_type": "execute_result"
    }
   ],
   "source": [
    "len(hate)"
   ]
  },
  {
   "cell_type": "code",
   "execution_count": 14,
   "metadata": {},
   "outputs": [],
   "source": [
    "for i in hate.index:\n",
    "    hate.loc[i, 'content'] = reformat(hate.loc[i, 'content'])"
   ]
  },
  {
   "cell_type": "code",
   "execution_count": 27,
   "metadata": {},
   "outputs": [],
   "source": [
    "hate = hate[~hate['content'].isnull()]"
   ]
  },
  {
   "cell_type": "code",
   "execution_count": 38,
   "metadata": {},
   "outputs": [
    {
     "data": {
      "text/plain": [
       "13495"
      ]
     },
     "execution_count": 38,
     "metadata": {},
     "output_type": "execute_result"
    }
   ],
   "source": [
    "len(hate)"
   ]
  },
  {
   "cell_type": "code",
   "execution_count": 31,
   "metadata": {},
   "outputs": [],
   "source": [
    "with open('cleaned/hate', 'wb') as datafile:\n",
    "    pickle.dump(hate, datafile)"
   ]
  },
  {
   "cell_type": "code",
   "execution_count": null,
   "metadata": {
    "collapsed": true
   },
   "outputs": [],
   "source": [
    "def show_articles(df):\n",
    "    for ix, row in df.sample(10).iterrows():\n",
    "        yield helper(ix, row)\n",
    "        \n",
    "def helper(ix, row):\n",
    "    print(ix, ', ', row['domain'])\n",
    "    print(reformat(row['content']))"
   ]
  },
  {
   "cell_type": "code",
   "execution_count": null,
   "metadata": {
    "collapsed": true
   },
   "outputs": [],
   "source": [
    "def show_contents(df):\n",
    "    for domain in df['domain'].unique():\n",
    "        print(domain)\n",
    "        num = min(len(df[df['domain'] == domain]), 10)\n",
    "        yield df[df['domain'] == domain].sample(num)"
   ]
  },
  {
   "cell_type": "code",
   "execution_count": null,
   "metadata": {
    "collapsed": true
   },
   "outputs": [],
   "source": [
    "hate_domains = show_contents(hate)"
   ]
  },
  {
   "cell_type": "code",
   "execution_count": null,
   "metadata": {},
   "outputs": [],
   "source": [
    "next(hate_domains)"
   ]
  },
  {
   "cell_type": "code",
   "execution_count": null,
   "metadata": {},
   "outputs": [],
   "source": [
    "hate.loc[69342, 'content']"
   ]
  },
  {
   "cell_type": "code",
   "execution_count": null,
   "metadata": {},
   "outputs": [],
   "source": [
    "hate = hate[hate['domain'].isin(hate_keepers)]"
   ]
  },
  {
   "cell_type": "code",
   "execution_count": null,
   "metadata": {},
   "outputs": [],
   "source": [
    "hate.loc[:, 'content'] = hate['content'].apply(reformat)"
   ]
  },
  {
   "cell_type": "code",
   "execution_count": null,
   "metadata": {
    "collapsed": true
   },
   "outputs": [],
   "source": [
    "hate.loc[]"
   ]
  },
  {
   "cell_type": "code",
   "execution_count": 10,
   "metadata": {
    "collapsed": true
   },
   "outputs": [],
   "source": [
    "hate_keepers = ['barenakedislam.com', 'barnesreview.org', 'ihr.org', 'drrichswier.com', 'davidduke.com',\n",
    "               'returnofkings.com', 'nationalvanguard.org', 'themuslimissue.wordpress.com', ]"
   ]
  },
  {
   "cell_type": "code",
   "execution_count": null,
   "metadata": {
    "collapsed": true
   },
   "outputs": [],
   "source": [
    "political_credible = ['baptistnews.com', 'nationalreview.com', 'mintpressnews.com', 'theintercept.com', 'jacobinmag.com',\n",
    "                     'foreignpolicyjournal.com', 'heritage.org', ]"
   ]
  },
  {
   "cell_type": "code",
   "execution_count": null,
   "metadata": {
    "collapsed": true
   },
   "outputs": [],
   "source": [
    "political_bogus = ['dailycaller.com', 'breitbart.com', 'weeklystandard.com', 'pjmedia.com', 'freedomworks.org',\n",
    "                  'alternet.org', 'conservativereview.com', 'commondreams.org', 'dailykos.com', 'thinkprogress.org',\n",
    "                  'counterpunch.org', 'americannewsx.com', 'ronpaulinstitute.org', 'theblaze.com', 'newcoldwar.org',\n",
    "                  'commentarymagazine.com', 'redstate.com', 'economicnoise.com', 'mrc.org', 'ijr.com', 'thefifthcolumnnews.com'\n",
    "                  ]"
   ]
  },
  {
   "cell_type": "code",
   "execution_count": null,
   "metadata": {},
   "outputs": [],
   "source": [
    "bogus_pol = political[political['domain'].isin(political_bogus)]\n",
    "len(bogus_pol)"
   ]
  },
  {
   "cell_type": "code",
   "execution_count": null,
   "metadata": {},
   "outputs": [],
   "source": [
    "cred_pol = political[political['domain'].isin(political_credible)]\n",
    "len(cred_pol)"
   ]
  },
  {
   "cell_type": "code",
   "execution_count": null,
   "metadata": {
    "collapsed": true
   },
   "outputs": [],
   "source": []
  },
  {
   "cell_type": "code",
   "execution_count": null,
   "metadata": {
    "collapsed": true
   },
   "outputs": [],
   "source": [
    "fake_keepers = ['thecommonsenseshow.com', 'rickwells.us', 'viralliberty.com', 'downtrend.com', 'thelastgreatstand.com',\n",
    "              'yesimright.com', 'usasupreme.com', 'usadailytime.com', 'freedomdaily.com', 'uspoln.com', 'usanewsflash.com',\n",
    "              'onepoliticalplaza.com', 'thefreepatriot.org', 'donaldtrumpnews.co', 'goneleft.com', 'onlineconservativepress.com',\n",
    "              'redrocktribune.com', 'redcountry.us', 'learnprogress.org', 'usadosenews.com', 'usafirstinformation.com',\n",
    "              'enhlive.com', 'flashnewscorner.com']"
   ]
  },
  {
   "cell_type": "code",
   "execution_count": null,
   "metadata": {
    "collapsed": true
   },
   "outputs": [],
   "source": [
    "fake = fake[fake['domain'].isin(fake_keepers)]"
   ]
  },
  {
   "cell_type": "code",
   "execution_count": null,
   "metadata": {},
   "outputs": [],
   "source": [
    "len(fake)"
   ]
  },
  {
   "cell_type": "code",
   "execution_count": null,
   "metadata": {
    "collapsed": true
   },
   "outputs": [],
   "source": [
    "bias_keepers = ['wnd.com', 'frontpagemag.com', 'americanthinker.com', 'dailywire.com', 'thegatewaypundit.com', \n",
    "               'antiwar.com', 'truthrevolt.org', 'patriotpost.us', 'russia-insider.com', 'paulcraigroberts.org',\n",
    "               'vdare.com', 'off-guardian.org', 'jamesrgrangerjr.com', 'americablog.com', 'americasfreedomfighters.com',\n",
    "               'heartland.org', 'palmerreport.com', 'thefederalistpapers.org', 'conservativetribune.com',\n",
    "               'winningdemocrats.com', '100percentfedup.com', 'cowgernation.com', 'usherald.com', 'darkpolitricks.com',\n",
    "               'newslogue.com', 'usapoliticstoday.com', 'counterjihad.com', 'platosguns.com', 'meanlefthook.com',\n",
    "               'americanpatriotdaily.com', 'endingthefed.com', 'conservativefiringline.com', 'politicalcult.com',\n",
    "               'readconservatives.news']"
   ]
  },
  {
   "cell_type": "code",
   "execution_count": null,
   "metadata": {
    "collapsed": true
   },
   "outputs": [],
   "source": [
    "bias = bias[bias['domain'].isin(bias_keepers)]"
   ]
  },
  {
   "cell_type": "code",
   "execution_count": null,
   "metadata": {},
   "outputs": [],
   "source": [
    "len(bias)"
   ]
  },
  {
   "cell_type": "markdown",
   "metadata": {},
   "source": [
    "fake['thebigriddle.com'] = junk sci/consp\n",
    "fake['itaglive.com'] = satire"
   ]
  },
  {
   "cell_type": "code",
   "execution_count": null,
   "metadata": {},
   "outputs": [],
   "source": [
    "hate.loc[3, 'content']"
   ]
  },
  {
   "cell_type": "code",
   "execution_count": null,
   "metadata": {},
   "outputs": [],
   "source": [
    "reformat(hate.loc[3, 'content'])"
   ]
  },
  {
   "cell_type": "code",
   "execution_count": null,
   "metadata": {
    "collapsed": true
   },
   "outputs": [],
   "source": [
    "import os\n",
    "scraper_data = os.listdir('./data')\n",
    "scraped = pd.DataFrame()\n",
    "for file in scraper_data:\n",
    "    try:\n",
    "        df = pd.read_json('./data/{}'.format(file))\n",
    "        scraped = pd.concat([scraped, df])\n",
    "    except:\n",
    "        pass"
   ]
  },
  {
   "cell_type": "code",
   "execution_count": null,
   "metadata": {
    "collapsed": true
   },
   "outputs": [],
   "source": [
    "len(scraped)"
   ]
  },
  {
   "cell_type": "code",
   "execution_count": null,
   "metadata": {
    "collapsed": true,
    "scrolled": true
   },
   "outputs": [],
   "source": [
    "scraped.head()"
   ]
  },
  {
   "cell_type": "code",
   "execution_count": null,
   "metadata": {
    "collapsed": true
   },
   "outputs": [],
   "source": [
    "scraped = scraped.drop_duplicates(['id'], keep='last')\n",
    "len(scraped)"
   ]
  },
  {
   "cell_type": "code",
   "execution_count": null,
   "metadata": {
    "collapsed": true
   },
   "outputs": [],
   "source": [
    "pd.set_option('display.max_colwidth', -1)"
   ]
  },
  {
   "cell_type": "code",
   "execution_count": null,
   "metadata": {
    "collapsed": true
   },
   "outputs": [],
   "source": [
    "scraped.head()"
   ]
  },
  {
   "cell_type": "code",
   "execution_count": null,
   "metadata": {
    "collapsed": true
   },
   "outputs": [],
   "source": [
    "len(df1.dropna())"
   ]
  },
  {
   "cell_type": "code",
   "execution_count": null,
   "metadata": {
    "collapsed": true
   },
   "outputs": [],
   "source": [
    "len(df1.drop('id', axis=1).dropna())"
   ]
  },
  {
   "cell_type": "code",
   "execution_count": null,
   "metadata": {
    "collapsed": true
   },
   "outputs": [],
   "source": [
    "len(df1.drop('domain', axis=1).dropna())"
   ]
  },
  {
   "cell_type": "code",
   "execution_count": null,
   "metadata": {
    "collapsed": true
   },
   "outputs": [],
   "source": [
    "df1 = df1.dropna()"
   ]
  },
  {
   "cell_type": "code",
   "execution_count": null,
   "metadata": {
    "collapsed": true
   },
   "outputs": [],
   "source": [
    "df1['type'].unique()"
   ]
  },
  {
   "cell_type": "code",
   "execution_count": null,
   "metadata": {
    "collapsed": true
   },
   "outputs": [],
   "source": [
    "len(df1[(df1['type'] != 'unreliable') & (df1['type'] !='unknown')])"
   ]
  },
  {
   "cell_type": "code",
   "execution_count": null,
   "metadata": {
    "collapsed": true
   },
   "outputs": [],
   "source": [
    "df1 = df1[(df1['type'] != 'unreliable') & (df1['type'] !='unknown')]"
   ]
  },
  {
   "cell_type": "code",
   "execution_count": null,
   "metadata": {
    "collapsed": true
   },
   "outputs": [],
   "source": [
    "df1.groupby('type').size()"
   ]
  },
  {
   "cell_type": "code",
   "execution_count": null,
   "metadata": {
    "collapsed": true
   },
   "outputs": [],
   "source": [
    "df1[df1['type'] == 'political']['domain'].unique()"
   ]
  },
  {
   "cell_type": "code",
   "execution_count": null,
   "metadata": {
    "collapsed": true
   },
   "outputs": [],
   "source": [
    "media_bias = pd.read_csv('data/media_bias.csv')"
   ]
  },
  {
   "cell_type": "code",
   "execution_count": null,
   "metadata": {
    "collapsed": true
   },
   "outputs": [],
   "source": [
    "media_bias[media_bias['Vertical Rank'] >= 40]"
   ]
  },
  {
   "cell_type": "code",
   "execution_count": null,
   "metadata": {
    "collapsed": true
   },
   "outputs": [],
   "source": [
    "import scrapy\n",
    "import re\n",
    "from scrapy.crawler import CrawlerProcess"
   ]
  },
  {
   "cell_type": "code",
   "execution_count": null,
   "metadata": {
    "collapsed": true
   },
   "outputs": [],
   "source": [
    "some_data = pd.read_json('data/abc_20181207.json')"
   ]
  },
  {
   "cell_type": "code",
   "execution_count": null,
   "metadata": {
    "collapsed": true
   },
   "outputs": [],
   "source": [
    "some_data.loc[13, 'article']"
   ]
  },
  {
   "cell_type": "code",
   "execution_count": null,
   "metadata": {
    "collapsed": true
   },
   "outputs": [],
   "source": [
    "len(some_data)"
   ]
  },
  {
   "cell_type": "code",
   "execution_count": null,
   "metadata": {
    "collapsed": true
   },
   "outputs": [],
   "source": [
    "\"https://cbsnews.com/world\".count(\"/\")"
   ]
  },
  {
   "cell_type": "code",
   "execution_count": null,
   "metadata": {
    "collapsed": true
   },
   "outputs": [],
   "source": []
  }
 ],
 "metadata": {
  "kernelspec": {
   "display_name": "Python 3",
   "language": "python",
   "name": "python3"
  },
  "language_info": {
   "codemirror_mode": {
    "name": "ipython",
    "version": 3
   },
   "file_extension": ".py",
   "mimetype": "text/x-python",
   "name": "python",
   "nbconvert_exporter": "python",
   "pygments_lexer": "ipython3",
   "version": "3.6.8"
  }
 },
 "nbformat": 4,
 "nbformat_minor": 2
}
