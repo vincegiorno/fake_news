{
 "cells": [
  {
   "cell_type": "code",
   "execution_count": 1,
   "metadata": {
    "collapsed": true
   },
   "outputs": [],
   "source": [
    "import pandas as pd\n",
    "import numpy as np\n",
    "import matplotlib.pyplot as plt\n",
    "import seaborn as sns\n",
    "import dask\n",
    "\n",
    "%matplotlib inline"
   ]
  },
  {
   "cell_type": "code",
   "execution_count": 2,
   "metadata": {},
   "outputs": [],
   "source": [
    "reader = pd.read_csv('data/news_cleaned.csv', usecols=['id', 'domain', 'type', 'content'], iterator=True)"
   ]
  },
  {
   "cell_type": "code",
   "execution_count": 3,
   "metadata": {},
   "outputs": [],
   "source": [
    "df1 = reader.get_chunk(50000)"
   ]
  },
  {
   "cell_type": "code",
   "execution_count": 4,
   "metadata": {},
   "outputs": [
    {
     "data": {
      "text/html": [
       "<div>\n",
       "<style>\n",
       "    .dataframe thead tr:only-child th {\n",
       "        text-align: right;\n",
       "    }\n",
       "\n",
       "    .dataframe thead th {\n",
       "        text-align: left;\n",
       "    }\n",
       "\n",
       "    .dataframe tbody tr th {\n",
       "        vertical-align: top;\n",
       "    }\n",
       "</style>\n",
       "<table border=\"1\" class=\"dataframe\">\n",
       "  <thead>\n",
       "    <tr style=\"text-align: right;\">\n",
       "      <th></th>\n",
       "      <th>id</th>\n",
       "      <th>domain</th>\n",
       "      <th>type</th>\n",
       "      <th>content</th>\n",
       "    </tr>\n",
       "  </thead>\n",
       "  <tbody>\n",
       "    <tr>\n",
       "      <th>0</th>\n",
       "      <td>2</td>\n",
       "      <td>express.co.uk</td>\n",
       "      <td>rumor</td>\n",
       "      <td>Life is an illusion, at least on a quantum lev...</td>\n",
       "    </tr>\n",
       "    <tr>\n",
       "      <th>1</th>\n",
       "      <td>6</td>\n",
       "      <td>barenakedislam.com</td>\n",
       "      <td>hate</td>\n",
       "      <td>Unfortunately, he hasn’t yet attacked her for ...</td>\n",
       "    </tr>\n",
       "    <tr>\n",
       "      <th>2</th>\n",
       "      <td>7</td>\n",
       "      <td>barenakedislam.com</td>\n",
       "      <td>hate</td>\n",
       "      <td>The Los Angeles Police Department has been den...</td>\n",
       "    </tr>\n",
       "    <tr>\n",
       "      <th>3</th>\n",
       "      <td>8</td>\n",
       "      <td>barenakedislam.com</td>\n",
       "      <td>hate</td>\n",
       "      <td>The White House has decided to quietly withdra...</td>\n",
       "    </tr>\n",
       "    <tr>\n",
       "      <th>4</th>\n",
       "      <td>9</td>\n",
       "      <td>barenakedislam.com</td>\n",
       "      <td>hate</td>\n",
       "      <td>“The time has come to cut off the tongues of t...</td>\n",
       "    </tr>\n",
       "  </tbody>\n",
       "</table>\n",
       "</div>"
      ],
      "text/plain": [
       "   id              domain   type  \\\n",
       "0   2       express.co.uk  rumor   \n",
       "1   6  barenakedislam.com   hate   \n",
       "2   7  barenakedislam.com   hate   \n",
       "3   8  barenakedislam.com   hate   \n",
       "4   9  barenakedislam.com   hate   \n",
       "\n",
       "                                             content  \n",
       "0  Life is an illusion, at least on a quantum lev...  \n",
       "1  Unfortunately, he hasn’t yet attacked her for ...  \n",
       "2  The Los Angeles Police Department has been den...  \n",
       "3  The White House has decided to quietly withdra...  \n",
       "4  “The time has come to cut off the tongues of t...  "
      ]
     },
     "execution_count": 4,
     "metadata": {},
     "output_type": "execute_result"
    }
   ],
   "source": [
    "df1.head()"
   ]
  },
  {
   "cell_type": "code",
   "execution_count": 5,
   "metadata": {},
   "outputs": [
    {
     "data": {
      "text/plain": [
       "array(['rumor', 'hate', 'unreliable', 'conspiracy', 'clickbait', 'satire',\n",
       "       'fake', 'reliable', 'bias', 'political', 'junksci', nan, 'unknown'], dtype=object)"
      ]
     },
     "execution_count": 5,
     "metadata": {},
     "output_type": "execute_result"
    }
   ],
   "source": [
    "df1['type'].unique()"
   ]
  },
  {
   "cell_type": "code",
   "execution_count": 6,
   "metadata": {},
   "outputs": [
    {
     "data": {
      "text/plain": [
       "46708"
      ]
     },
     "execution_count": 6,
     "metadata": {},
     "output_type": "execute_result"
    }
   ],
   "source": [
    "len(df1.dropna())"
   ]
  },
  {
   "cell_type": "code",
   "execution_count": 7,
   "metadata": {},
   "outputs": [
    {
     "data": {
      "text/plain": [
       "46708"
      ]
     },
     "execution_count": 7,
     "metadata": {},
     "output_type": "execute_result"
    }
   ],
   "source": [
    "len(df1.drop('id', axis=1).dropna())"
   ]
  },
  {
   "cell_type": "code",
   "execution_count": 8,
   "metadata": {},
   "outputs": [
    {
     "data": {
      "text/plain": [
       "46708"
      ]
     },
     "execution_count": 8,
     "metadata": {},
     "output_type": "execute_result"
    }
   ],
   "source": [
    "len(df1.drop('domain', axis=1).dropna())"
   ]
  },
  {
   "cell_type": "code",
   "execution_count": 9,
   "metadata": {
    "collapsed": true
   },
   "outputs": [],
   "source": [
    "df1 = df1.dropna()"
   ]
  },
  {
   "cell_type": "code",
   "execution_count": 10,
   "metadata": {},
   "outputs": [
    {
     "data": {
      "text/plain": [
       "array(['rumor', 'hate', 'unreliable', 'conspiracy', 'clickbait', 'satire',\n",
       "       'fake', 'reliable', 'bias', 'political', 'junksci', 'unknown'], dtype=object)"
      ]
     },
     "execution_count": 10,
     "metadata": {},
     "output_type": "execute_result"
    }
   ],
   "source": [
    "df1['type'].unique()"
   ]
  },
  {
   "cell_type": "code",
   "execution_count": 11,
   "metadata": {},
   "outputs": [
    {
     "data": {
      "text/plain": [
       "45038"
      ]
     },
     "execution_count": 11,
     "metadata": {},
     "output_type": "execute_result"
    }
   ],
   "source": [
    "len(df1[(df1['type'] != 'unreliable') & (df1['type'] !='unknown')])"
   ]
  },
  {
   "cell_type": "code",
   "execution_count": 12,
   "metadata": {
    "collapsed": true
   },
   "outputs": [],
   "source": [
    "df1 = df1[(df1['type'] != 'unreliable') & (df1['type'] !='unknown')]"
   ]
  },
  {
   "cell_type": "code",
   "execution_count": 13,
   "metadata": {},
   "outputs": [
    {
     "data": {
      "text/plain": [
       "type\n",
       "bias           1224\n",
       "clickbait       267\n",
       "conspiracy     5297\n",
       "fake          25420\n",
       "hate            272\n",
       "junksci        1361\n",
       "political     10489\n",
       "reliable        273\n",
       "rumor            96\n",
       "satire          339\n",
       "dtype: int64"
      ]
     },
     "execution_count": 13,
     "metadata": {},
     "output_type": "execute_result"
    }
   ],
   "source": [
    "df1.groupby('type').size()"
   ]
  },
  {
   "cell_type": "code",
   "execution_count": 14,
   "metadata": {},
   "outputs": [
    {
     "data": {
      "text/plain": [
       "array(['baptistnews.com', 'nationalreview.com', 'dailycaller.com',\n",
       "       'rinf.com', 'washingtonexaminer.com', 'breitbart.com',\n",
       "       'judicialwatch.org', 'guardianlv.com', 'city-journal.org',\n",
       "       'ecowatch.com', 'weeklystandard.com', 'pjmedia.com',\n",
       "       'mintpressnews.com', 'freedomworks.org', 'alternet.org',\n",
       "       'conservativereview.com', 'yellowhammernews.com',\n",
       "       'filmsforaction.org', 'rawstory.com', 'theintercept.com',\n",
       "       'commondreams.org', 'dailykos.com', 'thinkprogress.org',\n",
       "       'thedailybeast.com', 'counterpunch.org', 'observer.com',\n",
       "       'americannewsx.com', 'americanprogress.org', 'ronpaulinstitute.org',\n",
       "       'theblaze.com', 'jacobinmag.com', 'foreignpolicyjournal.com',\n",
       "       'heritage.org', 'countercurrents.org', 'newcoldwar.org',\n",
       "       'nakedcapitalism.com', 'commentarymagazine.com', 'redstate.com'], dtype=object)"
      ]
     },
     "execution_count": 14,
     "metadata": {},
     "output_type": "execute_result"
    }
   ],
   "source": [
    "df1[df1['type'] == 'political']['domain'].unique()"
   ]
  },
  {
   "cell_type": "code",
   "execution_count": 15,
   "metadata": {},
   "outputs": [],
   "source": [
    "media_bias = pd.read_csv('data/media_bias.csv')"
   ]
  },
  {
   "cell_type": "code",
   "execution_count": 16,
   "metadata": {},
   "outputs": [
    {
     "data": {
      "text/html": [
       "<div>\n",
       "<style>\n",
       "    .dataframe thead tr:only-child th {\n",
       "        text-align: right;\n",
       "    }\n",
       "\n",
       "    .dataframe thead th {\n",
       "        text-align: left;\n",
       "    }\n",
       "\n",
       "    .dataframe tbody tr th {\n",
       "        vertical-align: top;\n",
       "    }\n",
       "</style>\n",
       "<table border=\"1\" class=\"dataframe\">\n",
       "  <thead>\n",
       "    <tr style=\"text-align: right;\">\n",
       "      <th></th>\n",
       "      <th>News Source</th>\n",
       "      <th>Vertical Rank</th>\n",
       "      <th>Horizontal Rank</th>\n",
       "    </tr>\n",
       "  </thead>\n",
       "  <tbody>\n",
       "    <tr>\n",
       "      <th>0</th>\n",
       "      <td>ABC</td>\n",
       "      <td>57</td>\n",
       "      <td>0</td>\n",
       "    </tr>\n",
       "    <tr>\n",
       "      <th>1</th>\n",
       "      <td>AFP</td>\n",
       "      <td>62</td>\n",
       "      <td>0</td>\n",
       "    </tr>\n",
       "    <tr>\n",
       "      <th>2</th>\n",
       "      <td>Al Jazeera US/Canada News</td>\n",
       "      <td>54</td>\n",
       "      <td>-1</td>\n",
       "    </tr>\n",
       "    <tr>\n",
       "      <th>4</th>\n",
       "      <td>AP</td>\n",
       "      <td>62</td>\n",
       "      <td>0</td>\n",
       "    </tr>\n",
       "    <tr>\n",
       "      <th>5</th>\n",
       "      <td>Axios</td>\n",
       "      <td>52</td>\n",
       "      <td>-2</td>\n",
       "    </tr>\n",
       "    <tr>\n",
       "      <th>6</th>\n",
       "      <td>BBC</td>\n",
       "      <td>54</td>\n",
       "      <td>-3</td>\n",
       "    </tr>\n",
       "    <tr>\n",
       "      <th>8</th>\n",
       "      <td>Bloomberg</td>\n",
       "      <td>58</td>\n",
       "      <td>4</td>\n",
       "    </tr>\n",
       "    <tr>\n",
       "      <th>11</th>\n",
       "      <td>BuzzFeed News</td>\n",
       "      <td>51</td>\n",
       "      <td>-15</td>\n",
       "    </tr>\n",
       "    <tr>\n",
       "      <th>12</th>\n",
       "      <td>CBS</td>\n",
       "      <td>57</td>\n",
       "      <td>4</td>\n",
       "    </tr>\n",
       "    <tr>\n",
       "      <th>13</th>\n",
       "      <td>Christian Science Monitor</td>\n",
       "      <td>54</td>\n",
       "      <td>6</td>\n",
       "    </tr>\n",
       "    <tr>\n",
       "      <th>16</th>\n",
       "      <td>CSPAN</td>\n",
       "      <td>59</td>\n",
       "      <td>0</td>\n",
       "    </tr>\n",
       "    <tr>\n",
       "      <th>17</th>\n",
       "      <td>Daily Beast</td>\n",
       "      <td>41</td>\n",
       "      <td>-21</td>\n",
       "    </tr>\n",
       "    <tr>\n",
       "      <th>24</th>\n",
       "      <td>Democracy Now</td>\n",
       "      <td>48</td>\n",
       "      <td>-19</td>\n",
       "    </tr>\n",
       "    <tr>\n",
       "      <th>26</th>\n",
       "      <td>Financial Times</td>\n",
       "      <td>48</td>\n",
       "      <td>3</td>\n",
       "    </tr>\n",
       "    <tr>\n",
       "      <th>28</th>\n",
       "      <td>Forbes</td>\n",
       "      <td>44</td>\n",
       "      <td>3</td>\n",
       "    </tr>\n",
       "    <tr>\n",
       "      <th>29</th>\n",
       "      <td>Foreign Policy</td>\n",
       "      <td>45</td>\n",
       "      <td>9</td>\n",
       "    </tr>\n",
       "    <tr>\n",
       "      <th>30</th>\n",
       "      <td>Fortune</td>\n",
       "      <td>46</td>\n",
       "      <td>5</td>\n",
       "    </tr>\n",
       "    <tr>\n",
       "      <th>36</th>\n",
       "      <td>IJR</td>\n",
       "      <td>41</td>\n",
       "      <td>2</td>\n",
       "    </tr>\n",
       "    <tr>\n",
       "      <th>38</th>\n",
       "      <td>Intercept</td>\n",
       "      <td>49</td>\n",
       "      <td>-23</td>\n",
       "    </tr>\n",
       "    <tr>\n",
       "      <th>39</th>\n",
       "      <td>Jacobin</td>\n",
       "      <td>47</td>\n",
       "      <td>-28</td>\n",
       "    </tr>\n",
       "    <tr>\n",
       "      <th>40</th>\n",
       "      <td>LA Times</td>\n",
       "      <td>58</td>\n",
       "      <td>-6</td>\n",
       "    </tr>\n",
       "    <tr>\n",
       "      <th>41</th>\n",
       "      <td>Marketwatch</td>\n",
       "      <td>50</td>\n",
       "      <td>5</td>\n",
       "    </tr>\n",
       "    <tr>\n",
       "      <th>43</th>\n",
       "      <td>Mother Jones</td>\n",
       "      <td>40</td>\n",
       "      <td>-24</td>\n",
       "    </tr>\n",
       "    <tr>\n",
       "      <th>46</th>\n",
       "      <td>National Review</td>\n",
       "      <td>51</td>\n",
       "      <td>20</td>\n",
       "    </tr>\n",
       "    <tr>\n",
       "      <th>47</th>\n",
       "      <td>NBC</td>\n",
       "      <td>57</td>\n",
       "      <td>-3</td>\n",
       "    </tr>\n",
       "    <tr>\n",
       "      <th>48</th>\n",
       "      <td>New Republic</td>\n",
       "      <td>46</td>\n",
       "      <td>-19</td>\n",
       "    </tr>\n",
       "    <tr>\n",
       "      <th>50</th>\n",
       "      <td>New York Times</td>\n",
       "      <td>52</td>\n",
       "      <td>-5</td>\n",
       "    </tr>\n",
       "    <tr>\n",
       "      <th>52</th>\n",
       "      <td>NewsMax</td>\n",
       "      <td>43</td>\n",
       "      <td>-28</td>\n",
       "    </tr>\n",
       "    <tr>\n",
       "      <th>53</th>\n",
       "      <td>NPR</td>\n",
       "      <td>56</td>\n",
       "      <td>-5</td>\n",
       "    </tr>\n",
       "    <tr>\n",
       "      <th>56</th>\n",
       "      <td>OZY</td>\n",
       "      <td>43</td>\n",
       "      <td>0</td>\n",
       "    </tr>\n",
       "    <tr>\n",
       "      <th>59</th>\n",
       "      <td>PBS</td>\n",
       "      <td>57</td>\n",
       "      <td>-5</td>\n",
       "    </tr>\n",
       "    <tr>\n",
       "      <th>61</th>\n",
       "      <td>Politico</td>\n",
       "      <td>55</td>\n",
       "      <td>-3</td>\n",
       "    </tr>\n",
       "    <tr>\n",
       "      <th>62</th>\n",
       "      <td>ProPublica</td>\n",
       "      <td>46</td>\n",
       "      <td>-5</td>\n",
       "    </tr>\n",
       "    <tr>\n",
       "      <th>63</th>\n",
       "      <td>Quartz</td>\n",
       "      <td>44</td>\n",
       "      <td>-5</td>\n",
       "    </tr>\n",
       "    <tr>\n",
       "      <th>64</th>\n",
       "      <td>Reason</td>\n",
       "      <td>42</td>\n",
       "      <td>18</td>\n",
       "    </tr>\n",
       "    <tr>\n",
       "      <th>66</th>\n",
       "      <td>Reuters</td>\n",
       "      <td>62</td>\n",
       "      <td>0</td>\n",
       "    </tr>\n",
       "    <tr>\n",
       "      <th>69</th>\n",
       "      <td>Slate</td>\n",
       "      <td>43</td>\n",
       "      <td>-20</td>\n",
       "    </tr>\n",
       "    <tr>\n",
       "      <th>70</th>\n",
       "      <td>Talking Points Memo</td>\n",
       "      <td>41</td>\n",
       "      <td>-13</td>\n",
       "    </tr>\n",
       "    <tr>\n",
       "      <th>71</th>\n",
       "      <td>The Advocate</td>\n",
       "      <td>40</td>\n",
       "      <td>-23</td>\n",
       "    </tr>\n",
       "    <tr>\n",
       "      <th>73</th>\n",
       "      <td>The Atlantic</td>\n",
       "      <td>46</td>\n",
       "      <td>-15</td>\n",
       "    </tr>\n",
       "    <tr>\n",
       "      <th>75</th>\n",
       "      <td>The Economist</td>\n",
       "      <td>48</td>\n",
       "      <td>4</td>\n",
       "    </tr>\n",
       "    <tr>\n",
       "      <th>78</th>\n",
       "      <td>The Guardian</td>\n",
       "      <td>48</td>\n",
       "      <td>-6</td>\n",
       "    </tr>\n",
       "    <tr>\n",
       "      <th>79</th>\n",
       "      <td>The Hill</td>\n",
       "      <td>54</td>\n",
       "      <td>9</td>\n",
       "    </tr>\n",
       "    <tr>\n",
       "      <th>80</th>\n",
       "      <td>The Nation</td>\n",
       "      <td>47</td>\n",
       "      <td>-17</td>\n",
       "    </tr>\n",
       "    <tr>\n",
       "      <th>81</th>\n",
       "      <td>The New Yorker</td>\n",
       "      <td>47</td>\n",
       "      <td>-9</td>\n",
       "    </tr>\n",
       "    <tr>\n",
       "      <th>82</th>\n",
       "      <td>The Skimm</td>\n",
       "      <td>49</td>\n",
       "      <td>-2</td>\n",
       "    </tr>\n",
       "    <tr>\n",
       "      <th>83</th>\n",
       "      <td>The Week</td>\n",
       "      <td>44</td>\n",
       "      <td>-10</td>\n",
       "    </tr>\n",
       "    <tr>\n",
       "      <th>84</th>\n",
       "      <td>The Week</td>\n",
       "      <td>44</td>\n",
       "      <td>-10</td>\n",
       "    </tr>\n",
       "    <tr>\n",
       "      <th>85</th>\n",
       "      <td>The Weekly Standard</td>\n",
       "      <td>46</td>\n",
       "      <td>18</td>\n",
       "    </tr>\n",
       "    <tr>\n",
       "      <th>87</th>\n",
       "      <td>Think Progress</td>\n",
       "      <td>42</td>\n",
       "      <td>-13</td>\n",
       "    </tr>\n",
       "    <tr>\n",
       "      <th>88</th>\n",
       "      <td>Time</td>\n",
       "      <td>43</td>\n",
       "      <td>-1</td>\n",
       "    </tr>\n",
       "    <tr>\n",
       "      <th>91</th>\n",
       "      <td>USA Today</td>\n",
       "      <td>52</td>\n",
       "      <td>0</td>\n",
       "    </tr>\n",
       "    <tr>\n",
       "      <th>93</th>\n",
       "      <td>Vice</td>\n",
       "      <td>42</td>\n",
       "      <td>-10</td>\n",
       "    </tr>\n",
       "    <tr>\n",
       "      <th>94</th>\n",
       "      <td>Vox</td>\n",
       "      <td>43</td>\n",
       "      <td>-16</td>\n",
       "    </tr>\n",
       "    <tr>\n",
       "      <th>95</th>\n",
       "      <td>Wall Street Journal</td>\n",
       "      <td>53</td>\n",
       "      <td>11</td>\n",
       "    </tr>\n",
       "    <tr>\n",
       "      <th>97</th>\n",
       "      <td>Washington Free Beacon</td>\n",
       "      <td>41</td>\n",
       "      <td>24</td>\n",
       "    </tr>\n",
       "    <tr>\n",
       "      <th>99</th>\n",
       "      <td>Washington Post</td>\n",
       "      <td>51</td>\n",
       "      <td>-10</td>\n",
       "    </tr>\n",
       "  </tbody>\n",
       "</table>\n",
       "</div>"
      ],
      "text/plain": [
       "                  News Source  Vertical Rank  Horizontal Rank\n",
       "0                         ABC             57                0\n",
       "1                         AFP             62                0\n",
       "2   Al Jazeera US/Canada News             54               -1\n",
       "4                          AP             62                0\n",
       "5                       Axios             52               -2\n",
       "6                         BBC             54               -3\n",
       "8                   Bloomberg             58                4\n",
       "11              BuzzFeed News             51              -15\n",
       "12                        CBS             57                4\n",
       "13  Christian Science Monitor             54                6\n",
       "16                      CSPAN             59                0\n",
       "17                Daily Beast             41              -21\n",
       "24              Democracy Now             48              -19\n",
       "26            Financial Times             48                3\n",
       "28                     Forbes             44                3\n",
       "29             Foreign Policy             45                9\n",
       "30                    Fortune             46                5\n",
       "36                        IJR             41                2\n",
       "38                  Intercept             49              -23\n",
       "39                    Jacobin             47              -28\n",
       "40                   LA Times             58               -6\n",
       "41                Marketwatch             50                5\n",
       "43               Mother Jones             40              -24\n",
       "46            National Review             51               20\n",
       "47                        NBC             57               -3\n",
       "48               New Republic             46              -19\n",
       "50             New York Times             52               -5\n",
       "52                    NewsMax             43              -28\n",
       "53                        NPR             56               -5\n",
       "56                        OZY             43                0\n",
       "59                        PBS             57               -5\n",
       "61                   Politico             55               -3\n",
       "62                 ProPublica             46               -5\n",
       "63                     Quartz             44               -5\n",
       "64                     Reason             42               18\n",
       "66                    Reuters             62                0\n",
       "69                      Slate             43              -20\n",
       "70        Talking Points Memo             41              -13\n",
       "71               The Advocate             40              -23\n",
       "73               The Atlantic             46              -15\n",
       "75              The Economist             48                4\n",
       "78               The Guardian             48               -6\n",
       "79                   The Hill             54                9\n",
       "80                 The Nation             47              -17\n",
       "81             The New Yorker             47               -9\n",
       "82                  The Skimm             49               -2\n",
       "83                   The Week             44              -10\n",
       "84                   The Week             44              -10\n",
       "85        The Weekly Standard             46               18\n",
       "87             Think Progress             42              -13\n",
       "88                       Time             43               -1\n",
       "91                  USA Today             52                0\n",
       "93                       Vice             42              -10\n",
       "94                        Vox             43              -16\n",
       "95        Wall Street Journal             53               11\n",
       "97     Washington Free Beacon             41               24\n",
       "99            Washington Post             51              -10"
      ]
     },
     "execution_count": 16,
     "metadata": {},
     "output_type": "execute_result"
    }
   ],
   "source": [
    "media_bias[media_bias['Vertical Rank'] >= 40]"
   ]
  },
  {
   "cell_type": "code",
   "execution_count": 17,
   "metadata": {
    "collapsed": true
   },
   "outputs": [],
   "source": [
    "import scrapy\n",
    "import re\n",
    "from scrapy.crawler import CrawlerProcess"
   ]
  },
  {
   "cell_type": "code",
   "execution_count": 37,
   "metadata": {},
   "outputs": [],
   "source": [
    "some_data = pd.read_json('data/abc_20181207.json')"
   ]
  },
  {
   "cell_type": "code",
   "execution_count": 38,
   "metadata": {},
   "outputs": [
    {
     "data": {
      "text/plain": [
       "'President  Donald Trump ’s tweets regularly cause firestorms online, but a recent series of posts have raised fiery legal questions.\\n \\nHis tweets about his former lawyer Michael Cohen and longtime political advisor Roger Stone, both of whom have been  questioned by special counsel Robert Mueller’s team  about the Russian investigation prompted a quick and complicated backlash online.\\n \\n\"\\'Michael Cohen asks judge for no Prison Time.\\' You mean he can do all of the TERRIBLE, unrelated to Trump, things having to do with fraud, big loans, Taxis, etc., and not serve a long prison term? He makes up stories to get a GREAT & ALREADY reduced deal for himself, and get.........his wife and father-in-law (who has the money?) off Scott Free. He lied for this outcome and should, in my opinion, serve a full and complete sentence,\" Trump wrote in two tweets on Monday Dec. 3,  four days after reaching a new plea deal .\\n \\n “Michael Cohen asks judge for no Prison Time.” You mean he can do all of the TERRIBLE, unrelated to Trump, things having to do with fraud, big loans, Taxis, etc., and not serve a long prison term? He makes up stories to get a GREAT & ALREADY reduced deal for himself, and get..... \\n \\n ....his wife and father-in-law (who has the money?) off Scott Free. He lied for this outcome and should, in my opinion, serve a full and complete sentence. \\n \\n \\n \\nThen, 19 minutes later, he posted about Stone.\\n \\n\"\\'I will never testify against Trump.\\' This statement was recently made by Roger Stone, essentially stating that he will not be forced by a rogue and out of control prosecutor to make up lies and stories about \\'President Trump.\\' Nice to know that some people still have \\'guts!\\'\" Trump tweeted.\\n \\n “I will never testify against Trump.” This statement was recently made by Roger Stone, essentially stating that he will not be forced by a rogue and out of control prosecutor to make up lies and stories about “President Trump.” Nice to know that some people still have “guts!” \\n \\nOne reaction to his tweets that caused an uproar of its own came from George Conway, a conservative lawyer who is married to Trump\\'s senior counselor Kellyanne Conway.\\n \\nHe responded to Trump\\'s tweet by suggesting it falls under the portion of the federal code that pertains to \"interfering with the fair administration of justice.\" Specifically, a subset of the code lists it as \"endeavoring to influence a witness not to testify or to make himself/herself unavailable to testify.\"\\n \\n \\n \\n File under “18 U.S.C. §§ 1503, 1512”  https://t.co/e4ZGVn1kJi \\n \\nOther legal experts have differing views.\\n or obstruction of justice \\n“Those are both broad statutes drafted in order to protect investigations, and they’re also both statutes – like many such crimes – that turn on intent,” she said.\\n \\n \\n \\nGriffin said “the series of tweets pertaining to Michael Cohen and Roger Stone obviously suggest a juxtaposition between the two witnesses and the president\\'s advice or perhaps threat that other witnesses should act more like Roger Stone.”\\n \\n \\n \\n \\n“That said, Michael Cohen is already cooperating and it is highly inappropriate for the president to make any comment about an ongoing federal investigation or pending sentencing proceeding but it’s less clear that doing so is itself obstruction,” she said.\\n \\n“I think the comments about Michael Cohen are unprecedented, inappropriate, unseemly; whether or not they\\'re obstructive is a slightly different question than whether or not the encouragement to Roger Stone and others similarly situated to stay quiet.”\\n \\n \\n \\nRudy Mehrbani, a senior counsel at the Brennan Center for Justice, said that he sees the tweets as the latest instance of Trump \"attempting to normalize his conduct by doing it out in the open.\"\\n \\n\"Looking solely at those tweets, I would say that it adds to the already mounting evidence of obstruction,\" Mehrbani said.\\n \\n\"I think that they\\'re the most clear evidence that the president is trying to influence the investigation by having witnesses think twice about the consequences of cooperating,\" he said.\\n \\nNot everyone agrees, however. Vanderbilt University law professor Christopher Slobogin said that he thinks charges of obstruction of justice or witness tampering are “a tough sell.”\\n \\n“I think for obstruction of justice there has to be corrupt purpose as demonstrated by causing or inducing a person to withhold testimony or in some other way prevent the government from obtaining evidence,\" Slobogin said. \"In this case, Stone has already declared that he won’t testify, so at least on the face of it, Trump\\'s not trying to prevent or obstruct anything.”\\n \\n“What I’m concerned about is interpreting obstruction of justice or tampering to cover this situation expands criminal liability in a way that could come back to haunt run-of-the-mill defendants or suspects in a way that a lot of the people making this argument would not like,” he said, noting that he “could see a lot of criminal defendants” making similar statements in different cases.\\n \\nInstead, he sees the tweets as a “typical example of Trump blowing steam.”\\n \\n \\n \\n \\n \\n \\nHe did, however, concede that while he thinks the tweets are “in no way direct evidence of obstruction,” he said that “if that kind of evidence is forthcoming, the tweet would help nail the case shut.”\\n \\n“I think you could make the case that a lawyer making these kinds of comments would be acting unethically and you could also say what Trump\\'s doing is completely unpresidential based on the ways presidents have acted in the past,\" Slobogin said. \"Neither of those are crimes.”\\n \\nGriffin argues that the recent spate of tweets are not the only problematic issues, but just the latest.\\n \\n“I think we have been seeing statements and conduct by the president for a long time that fit within the definition of obstruction, and at some point we just have to determine whether the president is above the law or not,” Griffin said.\\n \\n“Not everyone agrees about the significance of” the recent tweets, she said.\\n \\n“I tend to believe its part of a chain of statements and events that all link up, and it’s a mistake to look at it in isolation.”'"
      ]
     },
     "execution_count": 38,
     "metadata": {},
     "output_type": "execute_result"
    }
   ],
   "source": [
    "some_data.loc[13, 'article']"
   ]
  },
  {
   "cell_type": "code",
   "execution_count": null,
   "metadata": {},
   "outputs": [],
   "source": [
    "len(some_data)"
   ]
  },
  {
   "cell_type": "code",
   "execution_count": 40,
   "metadata": {},
   "outputs": [
    {
     "data": {
      "text/plain": [
       "True"
      ]
     },
     "execution_count": 40,
     "metadata": {},
     "output_type": "execute_result"
    }
   ],
   "source": [
    "'AP' in 'More AP stories'"
   ]
  },
  {
   "cell_type": "code",
   "execution_count": null,
   "metadata": {
    "collapsed": true
   },
   "outputs": [],
   "source": []
  }
 ],
 "metadata": {
  "kernelspec": {
   "display_name": "Python 3",
   "language": "python",
   "name": "python3"
  },
  "language_info": {
   "codemirror_mode": {
    "name": "ipython",
    "version": 3
   },
   "file_extension": ".py",
   "mimetype": "text/x-python",
   "name": "python",
   "nbconvert_exporter": "python",
   "pygments_lexer": "ipython3",
   "version": "3.6.2"
  }
 },
 "nbformat": 4,
 "nbformat_minor": 2
}
