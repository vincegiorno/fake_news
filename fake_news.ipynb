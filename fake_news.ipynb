{
 "cells": [
  {
   "cell_type": "code",
   "execution_count": 30,
   "metadata": {
    "collapsed": true
   },
   "outputs": [],
   "source": [
    "import pandas as pd\n",
    "import numpy as np\n",
    "import matplotlib.pyplot as plt\n",
    "import seaborn as sns\n",
    "\n",
    "%matplotlib inline"
   ]
  },
  {
   "cell_type": "code",
   "execution_count": 31,
   "metadata": {},
   "outputs": [],
   "source": [
    "credible = pd.read_csv('corpus/credible.csv', header=None, names=['id', 'type', 'domain', 'content'])"
   ]
  },
  {
   "cell_type": "code",
   "execution_count": 32,
   "metadata": {},
   "outputs": [
    {
     "data": {
      "text/plain": [
       "array(['baptistnews.com', 'nationalreview.com', 'weeklystandard.com',\n",
       "       'theintercept.com', 'foreignpolicyjournal.com', 'www.latimes.com',\n",
       "       'www.cbsnews.com', 'www.nytimes.com', 'in.reuters.com',\n",
       "       'af.reuters.com', 'www.msn.com', 'abcnews.go.com', 'uk.reuters.com',\n",
       "       'www.usatoday.com', 'www.npr.org', 'www.wsj.com',\n",
       "       'washpost.bloomberg.com', 'www.theatlantic.com',\n",
       "       'www.washingtonpost.com', 'www.theguardian.com', 'www.reuters.com',\n",
       "       'www.bloomberg.com', 'feeds.reuters.com', 'www.politico.com',\n",
       "       'www.buzzfeed.com', 'www.nbcnews.com', 'online.wsj.com',\n",
       "       'ca.reuters.com', 'nytimes.com'], dtype=object)"
      ]
     },
     "execution_count": 32,
     "metadata": {},
     "output_type": "execute_result"
    }
   ],
   "source": [
    "credible['domain'].unique()"
   ]
  },
  {
   "cell_type": "code",
   "execution_count": 33,
   "metadata": {
    "collapsed": true
   },
   "outputs": [],
   "source": [
    "credible = credible[(credible['domain'] != 'www.msn.com') & (credible['domain'] != 'feed.reuters.com')]"
   ]
  },
  {
   "cell_type": "code",
   "execution_count": 34,
   "metadata": {},
   "outputs": [],
   "source": [
    "others = credible[~credible['domain'].isin(['nytimes.com', 'nationalreview.com', 'www.reuters.com', 'weeklystandard.com'])]"
   ]
  },
  {
   "cell_type": "code",
   "execution_count": 35,
   "metadata": {},
   "outputs": [
    {
     "data": {
      "text/plain": [
       "91269"
      ]
     },
     "execution_count": 35,
     "metadata": {},
     "output_type": "execute_result"
    }
   ],
   "source": [
    "len(others)"
   ]
  },
  {
   "cell_type": "code",
   "execution_count": 36,
   "metadata": {
    "collapsed": true
   },
   "outputs": [],
   "source": [
    "import spacy\n",
    "from spacy_langdetect import LanguageDetector\n",
    "nlp = spacy.load('en')\n",
    "nlp.add_pipe(LanguageDetector(), name=\"language_detector\", last=True)\n",
    "import re\n",
    "from unidecode import unidecode"
   ]
  },
  {
   "cell_type": "code",
   "execution_count": 37,
   "metadata": {
    "collapsed": true
   },
   "outputs": [],
   "source": [
    "class cleaner(dict):\n",
    "    \"\"\" Multiple-string-substitution dict \"\"\"\n",
    "    def _make_regex(self):\n",
    "        \"\"\" Build re object based on the keys of the dictionary it is instantiated with\"\"\"\n",
    "        return re.compile(\"|\".join(map(re.escape, self.keys(  ))))\n",
    "\n",
    "    def __call__(self, match):\n",
    "        \"\"\" Handler invoked for each regex match \"\"\"\n",
    "        return self[match.group(0)]\n",
    "\n",
    "    def clean(self, text):\n",
    "        \"\"\" Substitutes with value for each key and returns the modified text. \"\"\"\n",
    "        return self._make_regex(  ).sub(self, text)"
   ]
  },
  {
   "cell_type": "code",
   "execution_count": 71,
   "metadata": {},
   "outputs": [],
   "source": [
    "replacements = {\"\\n\": \"\", # new line characters\n",
    "                \"\\t\": \"\", # tabs\n",
    "                \"--\": \"-\",\n",
    "                \"won't\": \"will not\",\n",
    "                \"&\": \" and \",\n",
    "                \"Loading...\": \"\",\n",
    "                \"Continued...\": \"\",\n",
    "                \"\\N{COPYRIGHT SIGN}\": \"\",\n",
    "                \"\\N{NO-BREAK SPACE}\": \"\",\n",
    "                \"\\N{LEFT-POINTING DOUBLE ANGLE QUOTATION MARK}\": \"\",\n",
    "                \"\\N{RIGHT-POINTING DOUBLE ANGLE QUOTATION MARK}\": \"\",\n",
    "                '.\"': '\".',\n",
    "                '?\"': '\"?',\n",
    "                '!\"': '\"!'\n",
    "               }"
   ]
  },
  {
   "cell_type": "code",
   "execution_count": 82,
   "metadata": {
    "collapsed": true
   },
   "outputs": [],
   "source": [
    "entities = {'PERSON': 'person',\n",
    "            'FAC': 'landmark',\n",
    "            'ORG': 'organization',\n",
    "            'GPE': 'place',\n",
    "            'LOC': 'location',\n",
    "            'EVENT': 'event',\n",
    "            'WORK_OF_ART': 'artwork',\n",
    "            'LAW': 'law',\n",
    "            'DATE': 'date',\n",
    "            'TIME': 'time',\n",
    "            'PERCENT': 'percent',\n",
    "            'MONEY': 'money',\n",
    "            'QUANTITY': 'quantity',\n",
    "            'CARDINAL': 'number'\n",
    "}"
   ]
  },
  {
   "cell_type": "code",
   "execution_count": 73,
   "metadata": {
    "collapsed": true
   },
   "outputs": [],
   "source": [
    "preprocess = cleaner(replacements)"
   ]
  },
  {
   "cell_type": "code",
   "execution_count": 80,
   "metadata": {},
   "outputs": [],
   "source": [
    "def process(in_doc):\n",
    "    count = 0\n",
    "    out_doc = ''\n",
    "    doc = nlp(in_doc)\n",
    "    if doc._.language['language'] != 'en':\n",
    "        return np.nan\n",
    "    for sent in doc.sents:\n",
    "        ending = sent[-1]\n",
    "        if ending.pos_ != 'PUNCT':\n",
    "            continue\n",
    "        text = sent.text\n",
    "        for ent in doc.ents:\n",
    "            text = re.sub(ent.text, entities.get(ent.label_, ent.text), text)\n",
    "        out_doc += (text + ' ')\n",
    "        if ending.text in ['.', '?', '!']:\n",
    "            count += 1\n",
    "    return out_doc"
   ]
  },
  {
   "cell_type": "code",
   "execution_count": 78,
   "metadata": {},
   "outputs": [],
   "source": [
    "def reformat(article):\n",
    "    text = unidecode(article)\n",
    "    if text.count('\"') % 2 != 0:\n",
    "        return np.nan\n",
    "    text = preprocess.clean(text)\n",
    "    text = re.sub('[\\[\\(][^\\[\\(]*[\\]\\)]', '', text) # delete text inside parentheses or brackets\n",
    "    text = re.sub(r\"\\b(\\w*)n't\", \"\\1 not\", text) # replace \"xxn't\" contractions with \"xx not\"; \"won't\" already handled\n",
    "    text = re.sub(r\"^'|'$|(?<= )'|'(?= )\", '\"', text) # replace single quotes, but not apostrophes, with double quotes\n",
    "    if text.count('\\N{QUOTATION MARK}') % 2 != 0:\n",
    "        return np.nan\n",
    "    text = re.sub(r'\"[^\"]*\"', '', text)\n",
    "    text = re.sub(' +', ' ', text) # reduce all multiple spaces to single spaces\n",
    "    return process(text)"
   ]
  },
  {
   "cell_type": "code",
   "execution_count": 76,
   "metadata": {},
   "outputs": [
    {
     "data": {
      "text/html": [
       "<div>\n",
       "<style>\n",
       "    .dataframe thead tr:only-child th {\n",
       "        text-align: right;\n",
       "    }\n",
       "\n",
       "    .dataframe thead th {\n",
       "        text-align: left;\n",
       "    }\n",
       "\n",
       "    .dataframe tbody tr th {\n",
       "        vertical-align: top;\n",
       "    }\n",
       "</style>\n",
       "<table border=\"1\" class=\"dataframe\">\n",
       "  <thead>\n",
       "    <tr style=\"text-align: right;\">\n",
       "      <th></th>\n",
       "      <th>id</th>\n",
       "      <th>type</th>\n",
       "      <th>domain</th>\n",
       "      <th>content</th>\n",
       "    </tr>\n",
       "  </thead>\n",
       "  <tbody>\n",
       "    <tr>\n",
       "      <th>420090</th>\n",
       "      <td>8170626</td>\n",
       "      <td>reliable</td>\n",
       "      <td>uk.reuters.com</td>\n",
       "      <td>18pm GMT Italy PM Renzi turns on party rebels...</td>\n",
       "    </tr>\n",
       "    <tr>\n",
       "      <th>444494</th>\n",
       "      <td>8235657</td>\n",
       "      <td>reliable</td>\n",
       "      <td>www.washingtonpost.com</td>\n",
       "      <td>A Donald Trump rally in Leesburg, Va., two day...</td>\n",
       "    </tr>\n",
       "    <tr>\n",
       "      <th>18403</th>\n",
       "      <td>1038574</td>\n",
       "      <td>political</td>\n",
       "      <td>foreignpolicyjournal.com</td>\n",
       "      <td>The world will not miss Belmokhtar, but in a p...</td>\n",
       "    </tr>\n",
       "    <tr>\n",
       "      <th>48885</th>\n",
       "      <td>3288066</td>\n",
       "      <td>political</td>\n",
       "      <td>baptistnews.com</td>\n",
       "      <td>I had been a freshman in college for hardly a ...</td>\n",
       "    </tr>\n",
       "    <tr>\n",
       "      <th>422815</th>\n",
       "      <td>8178550</td>\n",
       "      <td>reliable</td>\n",
       "      <td>www.latimes.com</td>\n",
       "      <td>Nov. 5, 2016, 4:39 p.m. \\nStick around for liv...</td>\n",
       "    </tr>\n",
       "    <tr>\n",
       "      <th>415516</th>\n",
       "      <td>8158200</td>\n",
       "      <td>reliable</td>\n",
       "      <td>uk.reuters.com</td>\n",
       "      <td>What are Donald Trump's key policies? 2:24pm G...</td>\n",
       "    </tr>\n",
       "    <tr>\n",
       "      <th>376277</th>\n",
       "      <td>8045302</td>\n",
       "      <td>reliable</td>\n",
       "      <td>in.reuters.com</td>\n",
       "      <td>Technology News | Mon Nov 28, 2016 | 10:25am I...</td>\n",
       "    </tr>\n",
       "    <tr>\n",
       "      <th>360171</th>\n",
       "      <td>7998944</td>\n",
       "      <td>reliable</td>\n",
       "      <td>www.washingtonpost.com</td>\n",
       "      <td>CAIRO — Egypt has unearthed a city and cemeter...</td>\n",
       "    </tr>\n",
       "    <tr>\n",
       "      <th>382989</th>\n",
       "      <td>8065819</td>\n",
       "      <td>reliable</td>\n",
       "      <td>www.theguardian.com</td>\n",
       "      <td>Does this sound familiar? “The American people...</td>\n",
       "    </tr>\n",
       "    <tr>\n",
       "      <th>435784</th>\n",
       "      <td>8213307</td>\n",
       "      <td>reliable</td>\n",
       "      <td>online.wsj.com</td>\n",
       "      <td>Donald Trump has won the battleground states o...</td>\n",
       "    </tr>\n",
       "  </tbody>\n",
       "</table>\n",
       "</div>"
      ],
      "text/plain": [
       "             id       type                    domain  \\\n",
       "420090  8170626   reliable            uk.reuters.com   \n",
       "444494  8235657   reliable    www.washingtonpost.com   \n",
       "18403   1038574  political  foreignpolicyjournal.com   \n",
       "48885   3288066  political           baptistnews.com   \n",
       "422815  8178550   reliable           www.latimes.com   \n",
       "415516  8158200   reliable            uk.reuters.com   \n",
       "376277  8045302   reliable            in.reuters.com   \n",
       "360171  7998944   reliable    www.washingtonpost.com   \n",
       "382989  8065819   reliable       www.theguardian.com   \n",
       "435784  8213307   reliable            online.wsj.com   \n",
       "\n",
       "                                                  content  \n",
       "420090   18pm GMT Italy PM Renzi turns on party rebels...  \n",
       "444494  A Donald Trump rally in Leesburg, Va., two day...  \n",
       "18403   The world will not miss Belmokhtar, but in a p...  \n",
       "48885   I had been a freshman in college for hardly a ...  \n",
       "422815  Nov. 5, 2016, 4:39 p.m. \\nStick around for liv...  \n",
       "415516  What are Donald Trump's key policies? 2:24pm G...  \n",
       "376277  Technology News | Mon Nov 28, 2016 | 10:25am I...  \n",
       "360171  CAIRO — Egypt has unearthed a city and cemeter...  \n",
       "382989  Does this sound familiar? “The American people...  \n",
       "435784  Donald Trump has won the battleground states o...  "
      ]
     },
     "execution_count": 76,
     "metadata": {},
     "output_type": "execute_result"
    }
   ],
   "source": [
    "others.sample(10)"
   ]
  },
  {
   "cell_type": "code",
   "execution_count": 81,
   "metadata": {},
   "outputs": [
    {
     "data": {
      "text/plain": [
       "\"Let friends in your social network know what you are reading about orhanization number things you need to know date The biggest news to start your date. Post to orhanization number things you need to know date The biggest news to start your date. Check out this story on USATODAY.com: orhanization A link has been sent to your friend's email address. Posted! A link has been posted to your orhanization feed. EST date person speaks in place on date. orhanization to meet with former place Gov. person A lot has changed since person competed against place Gov. person and number other rivals for the orhanization presidential nomination. On date, the president-elect will meet with person , who may have a spot in the orhanization as head of the orhanization or orhanization departments or the landmark. person is number of several high-profile visitors who have met with orhanization, which includes date presidential candidate person, former place Mayor person and place Gov. person. Also on date, orhanization is expected to announce his economic landing teams. x Share person, former Republican presidential nominee, is under for secretary of state, Vice President-elect person said in an appearance on orhanization Sundate. law and place Texans will head south of the border as date Night Football marks the orhanization's regular-season return to place after a break of date. The game between the place Texans and person, part of the orhanization's international series, will not be typical, however. Conflicted feelings in place about their neighbors to the north following the presidential campaign and the election of person - who has called Mexicans migrating to the place criminals and racists - may cause fans to boo the national anthem . And there are concerns about how the altitude and pollution surrounding orhanization could be for both teams. x Share place City is known for its severe pollution and high altitude. So should the orhanization even consider the city for future expansion? orhanization hearing set for orhanization, the place man accused of killing number people at a black church in date, is expected to have a competency hearing on date . Authorities say person, who is white, killed the black parishinumberrs during a artwork study at orhanization in place. The trial started date with jury selection, but that was halted date after the federal judge overseeing the case determined the defendant must first undergo a competency evaluation. The district judge issued an order Wednesdate closing the hearing, saying opening it could threaten person's right to a fair trial. should they. He killed an innocent little boy Cemetery People whose rights were violated during the regime of Philippine dictator person filed petitions date asking orhanization to order the exhumation of his remains that were buried date at the country's person in suburban place, east of place, place. And the essentials : Stocks : Shares in place and place rose date but other Asian shares were listless as investors increasingly factored in a date orhanization rate cut. time : Wondering what to watch time ? TV critic person looks at orhanization, Timeless and Soundbreaking: Stories from orhanization. Most popular: See our top stories in number date digest on orhanization Messenger . If you missed the date's news, we've got you covered. You can subscribe to get the date's top news each weekdate in your inbox. \""
      ]
     },
     "execution_count": 81,
     "metadata": {},
     "output_type": "execute_result"
    }
   ],
   "source": [
    "reformat(others.loc[364073, 'content'])"
   ]
  },
  {
   "cell_type": "code",
   "execution_count": 83,
   "metadata": {},
   "outputs": [
    {
     "data": {
      "text/plain": [
       "'Let friends in your social network know what you are reading about Facebook Email 5 things you need to know Monday The biggest news to start your day. Post to Facebook 5 things you need to know Monday The biggest news to start your day. Check out this story on USATODAY.com: http://usat.ly/2gcprwB Cancel Send A link has been sent to your friend\\'s email address. Posted! A link has been posted to your Facebook feed. Join the Nation\\'s Conversation To find out more about Facebook commenting please read the Conversation Guidelines and FAQs 5 things you need to know Monday Editors, USA TODAY 4:10 a.m. EST November 21, 2016 Donald Trump speaks in Grand Rapids on Nov. 8, 2016. (Photo: Paul Sancya, AP) Trump to meet with former Texas Gov. Rick Perry \\nA lot has changed since Donald Trump competed against Texas Gov. Rick Perry and more than a dozen other rivals for the GOP presidential nomination. On Monday, the president-elect will meet with Perry , who may have a spot in the Cabinet as head of the Agriculture or Veterans Affairs departments or the Pentagon. Perry is one of several high-profile visitors who have met with Trump over the past week, which includes 2012 presidential candidate Mitt Romney, former New York City Mayor Rudy Giuliani and New Jersey Gov. Chris Christie. Also on Monday, Trump is expected to announce his economic landing teams. x Share Mitt Romney, former Republican presidential nominee, is under “active consideration” for secretary of state, Vice President-elect Mike Pence said in an appearance on Fox News Sunday. Time Monday Night Football heads to Mexico \\nThe Oakland Raiders and Houston Texans will head south of the border as Monday Night Football marks the NFL’s regular-season return to Mexico after a break of more than a decade. The game between the Houston Texans and Oakland Raiders, part of the NFL’s international series, won’t be typical, however. Conflicted feelings in Mexico about their neighbors to the north following the presidential campaign and the election of Donald Trump — who has called Mexicans migrating to the U.S. criminals and racists — may cause fans to boo the national anthem . And there are concerns about how “devastating” the altitude and pollution surrounding Azteca Stadium could be for both teams. x Share Mexico City is known for its severe pollution and high altitude. So should the NFL even consider the city for future expansion? USA TODAY Sports Competency hearing set for Dylann Roof \\nDylann Roof, the South Carolina man accused of killing nine people at a black church in June last year, is expected to have a competency hearing on Monday . Authorities say Roof, who is white, killed the black parishioners during a Bible study at Emanuel African Methodist Episcopal Church in Charleston. The trial started Nov. 7 with jury selection, but that was halted earlier this month after the federal judge overseeing the case determined the defendant must first undergo a competency evaluation. The district judge issued an order Wednesday closing the hearing, saying opening it could threaten Roof\\'s right to a fair trial. x Share USA TODAY Sports\\' Martin Rogers looks ahead to the Monday Night Football game in Mexico City on November 21st. USA TODAY Sports Minnesota man to apologize for murdering one boy, assaulting another \\nA Minnesota man plans to express regret on Monday for the 1989 murder of Jacob Wetterling, an 11-year-old boy whose remains were found in August outside of Paynesville, Minn. Danny Heinrich confessed to killing Wetterling after kidnapping him at gunpoint as the boy biked home from a convenience store. Months earlier, he kidnapped and sexually assaulted 12-year-old Jared Scheierl. On Monday, Heinrich plans to say \"how sorry he feels for the terrible crimes he has committed” when he’s sentenced in federal court on child porn charges, according to a filed court document. Heinrich lead investigators to Jacob’s remains as part of a plea deal on the child porn charges. According to the document, Heinrich doesn’t expect anyone to feel sympathy after his apology, \"nor should they. He killed an innocent little boy.” x Share According to Danny Heinrich\\'s attorney, the Minnesota man plans to publicly apologize for murdering Jacob Wetterling and sexually assaulting Jared Scheierl. KARE Victims seek to resume Marcos from Heroes\\' Cemetery \\nPeople whose rights were violated during the regime of Philippine dictator Ferdinand Marcos filed petitions Monday asking the Supreme Court to order the exhumation of his remains that were buried last week at the country’s Heroes’ Cemetery. They also want the court to hold his heirs and officials involved in contempt for carrying out the burial before the court heard final appeals against it. The secrecy-shrouded burial shocked democracy advocates and human rights victims, prompting street protests across Manila and in other cities. Marcos, whose rule was also marked by plunder, was ousted by a largely nonviolent army-backed uprising in 1986. At the height of the political turbulence, he flew to Hawaii, where he lived with his wife and children until he died in 1989. \\nA portrait of the late Philippine dictator Ferdinand Marcos is placed beside his granite tomb as hundreds of supporters attend a mass at his graveyard Saturday, Nov. 19, 2016, a day after Marcos was buried in a secrecy-shrouded ceremony at the Heroes\\' Cemetery in suburban Taguig city, east of Manila, Philippines. (Photo: Bullit Marquez, AP) \\nAnd the essentials : \\nStocks : Shares in Japan and China rose Monday but other Asian shares were listless as investors increasingly factored in a December Fed rate cut. \\nTV Tonight : Wondering what to watch tonight ? TV critic Robert Bianco looks at Scorpion, Timeless and Soundbreaking: Stories from the Cutting Edge of Recorded Music. \\nMost popular: See our top stories in one nightly digest on Facebook Messenger . \\nIf you missed the weekend\\'s news, we\\'ve got you covered. \\nYou can subscribe to get the day\\'s top news each weekday in your inbox. CONNECT COMMENT EMAIL MORE'"
      ]
     },
     "execution_count": 83,
     "metadata": {},
     "output_type": "execute_result"
    }
   ],
   "source": [
    "others.loc[364073, 'content']"
   ]
  },
  {
   "cell_type": "code",
   "execution_count": null,
   "metadata": {
    "collapsed": true
   },
   "outputs": [],
   "source": [
    "for token in tester:\n",
    "    print(token, token.lemma_)"
   ]
  },
  {
   "cell_type": "code",
   "execution_count": null,
   "metadata": {
    "collapsed": true
   },
   "outputs": [],
   "source": [
    "import regex"
   ]
  },
  {
   "cell_type": "code",
   "execution_count": null,
   "metadata": {},
   "outputs": [],
   "source": [
    "trial = 'How about \\u00a9 for a change'\n",
    "print(trial)\n",
    "trial2 = re.sub('\\N{COPYRIGHT SIGN}', 'this', trial)\n",
    "print(trial2)"
   ]
  },
  {
   "cell_type": "code",
   "execution_count": null,
   "metadata": {},
   "outputs": [],
   "source": [
    "'How about \\u00a9 for a change'.replace('\\N{COPYRIGHT SIGN}', 'this')"
   ]
  },
  {
   "cell_type": "code",
   "execution_count": null,
   "metadata": {},
   "outputs": [],
   "source": [
    "print('\\N{RIGHT-POINTING DOUBLE ANGLE QUOTATION MARK}')"
   ]
  },
  {
   "cell_type": "code",
   "execution_count": null,
   "metadata": {
    "collapsed": true
   },
   "outputs": [],
   "source": [
    "import os\n",
    "scraper_data = os.listdir('./data')\n",
    "scraped = pd.DataFrame()\n",
    "for file in scraper_data:\n",
    "    try:\n",
    "        df = pd.read_json('./data/{}'.format(file))\n",
    "        scraped = pd.concat([scraped, df])\n",
    "    except:\n",
    "        pass"
   ]
  },
  {
   "cell_type": "code",
   "execution_count": null,
   "metadata": {},
   "outputs": [],
   "source": [
    "len(scraped)"
   ]
  },
  {
   "cell_type": "code",
   "execution_count": null,
   "metadata": {
    "scrolled": true
   },
   "outputs": [],
   "source": [
    "scraped.head()"
   ]
  },
  {
   "cell_type": "code",
   "execution_count": null,
   "metadata": {},
   "outputs": [],
   "source": [
    "scraped = scraped.drop_duplicates(['id'], keep='last')\n",
    "len(scraped)"
   ]
  },
  {
   "cell_type": "code",
   "execution_count": null,
   "metadata": {
    "collapsed": true
   },
   "outputs": [],
   "source": [
    "pd.set_option('display.max_colwidth', -1)"
   ]
  },
  {
   "cell_type": "code",
   "execution_count": null,
   "metadata": {},
   "outputs": [],
   "source": [
    "scraped.head()"
   ]
  },
  {
   "cell_type": "code",
   "execution_count": null,
   "metadata": {},
   "outputs": [],
   "source": [
    "len(df1.dropna())"
   ]
  },
  {
   "cell_type": "code",
   "execution_count": null,
   "metadata": {},
   "outputs": [],
   "source": [
    "len(df1.drop('id', axis=1).dropna())"
   ]
  },
  {
   "cell_type": "code",
   "execution_count": null,
   "metadata": {},
   "outputs": [],
   "source": [
    "len(df1.drop('domain', axis=1).dropna())"
   ]
  },
  {
   "cell_type": "code",
   "execution_count": null,
   "metadata": {
    "collapsed": true
   },
   "outputs": [],
   "source": [
    "df1 = df1.dropna()"
   ]
  },
  {
   "cell_type": "code",
   "execution_count": null,
   "metadata": {},
   "outputs": [],
   "source": [
    "df1['type'].unique()"
   ]
  },
  {
   "cell_type": "code",
   "execution_count": null,
   "metadata": {},
   "outputs": [],
   "source": [
    "len(df1[(df1['type'] != 'unreliable') & (df1['type'] !='unknown')])"
   ]
  },
  {
   "cell_type": "code",
   "execution_count": null,
   "metadata": {
    "collapsed": true
   },
   "outputs": [],
   "source": [
    "df1 = df1[(df1['type'] != 'unreliable') & (df1['type'] !='unknown')]"
   ]
  },
  {
   "cell_type": "code",
   "execution_count": null,
   "metadata": {},
   "outputs": [],
   "source": [
    "df1.groupby('type').size()"
   ]
  },
  {
   "cell_type": "code",
   "execution_count": null,
   "metadata": {},
   "outputs": [],
   "source": [
    "df1[df1['type'] == 'political']['domain'].unique()"
   ]
  },
  {
   "cell_type": "code",
   "execution_count": null,
   "metadata": {
    "collapsed": true
   },
   "outputs": [],
   "source": [
    "media_bias = pd.read_csv('data/media_bias.csv')"
   ]
  },
  {
   "cell_type": "code",
   "execution_count": null,
   "metadata": {},
   "outputs": [],
   "source": [
    "media_bias[media_bias['Vertical Rank'] >= 40]"
   ]
  },
  {
   "cell_type": "code",
   "execution_count": null,
   "metadata": {
    "collapsed": true
   },
   "outputs": [],
   "source": [
    "import scrapy\n",
    "import re\n",
    "from scrapy.crawler import CrawlerProcess"
   ]
  },
  {
   "cell_type": "code",
   "execution_count": null,
   "metadata": {
    "collapsed": true
   },
   "outputs": [],
   "source": [
    "some_data = pd.read_json('data/abc_20181207.json')"
   ]
  },
  {
   "cell_type": "code",
   "execution_count": null,
   "metadata": {},
   "outputs": [],
   "source": [
    "some_data.loc[13, 'article']"
   ]
  },
  {
   "cell_type": "code",
   "execution_count": null,
   "metadata": {
    "collapsed": true
   },
   "outputs": [],
   "source": [
    "len(some_data)"
   ]
  },
  {
   "cell_type": "code",
   "execution_count": null,
   "metadata": {},
   "outputs": [],
   "source": [
    "\"https://cbsnews.com/world\".count(\"/\")"
   ]
  },
  {
   "cell_type": "code",
   "execution_count": null,
   "metadata": {
    "collapsed": true
   },
   "outputs": [],
   "source": []
  }
 ],
 "metadata": {
  "kernelspec": {
   "display_name": "Python 3",
   "language": "python",
   "name": "python3"
  }
 },
 "nbformat": 4,
 "nbformat_minor": 2
}
