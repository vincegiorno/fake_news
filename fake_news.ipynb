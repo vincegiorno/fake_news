{
 "cells": [
  {
   "cell_type": "code",
   "execution_count": 2,
   "metadata": {
    "collapsed": true
   },
   "outputs": [],
   "source": [
    "import pandas as pd\n",
    "import numpy as np\n",
    "import matplotlib.pyplot as plt\n",
    "import seaborn as sns\n",
    "import dask\n",
    "\n",
    "%matplotlib inline"
   ]
  },
  {
   "cell_type": "code",
   "execution_count": 3,
   "metadata": {},
   "outputs": [],
   "source": [
    "reader = pd.read_csv('data/news_cleaned.csv', usecols=['id', 'domain', 'type', 'content'], iterator=True)"
   ]
  },
  {
   "cell_type": "code",
   "execution_count": 4,
   "metadata": {},
   "outputs": [],
   "source": [
    "df1 = reader.get_chunk(50000)"
   ]
  },
  {
   "cell_type": "code",
   "execution_count": 5,
   "metadata": {},
   "outputs": [
    {
     "data": {
      "text/html": [
       "<div>\n",
       "<style>\n",
       "    .dataframe thead tr:only-child th {\n",
       "        text-align: right;\n",
       "    }\n",
       "\n",
       "    .dataframe thead th {\n",
       "        text-align: left;\n",
       "    }\n",
       "\n",
       "    .dataframe tbody tr th {\n",
       "        vertical-align: top;\n",
       "    }\n",
       "</style>\n",
       "<table border=\"1\" class=\"dataframe\">\n",
       "  <thead>\n",
       "    <tr style=\"text-align: right;\">\n",
       "      <th></th>\n",
       "      <th>id</th>\n",
       "      <th>domain</th>\n",
       "      <th>type</th>\n",
       "      <th>content</th>\n",
       "    </tr>\n",
       "  </thead>\n",
       "  <tbody>\n",
       "    <tr>\n",
       "      <th>0</th>\n",
       "      <td>2</td>\n",
       "      <td>express.co.uk</td>\n",
       "      <td>rumor</td>\n",
       "      <td>Life is an illusion, at least on a quantum lev...</td>\n",
       "    </tr>\n",
       "    <tr>\n",
       "      <th>1</th>\n",
       "      <td>6</td>\n",
       "      <td>barenakedislam.com</td>\n",
       "      <td>hate</td>\n",
       "      <td>Unfortunately, he hasn’t yet attacked her for ...</td>\n",
       "    </tr>\n",
       "    <tr>\n",
       "      <th>2</th>\n",
       "      <td>7</td>\n",
       "      <td>barenakedislam.com</td>\n",
       "      <td>hate</td>\n",
       "      <td>The Los Angeles Police Department has been den...</td>\n",
       "    </tr>\n",
       "    <tr>\n",
       "      <th>3</th>\n",
       "      <td>8</td>\n",
       "      <td>barenakedislam.com</td>\n",
       "      <td>hate</td>\n",
       "      <td>The White House has decided to quietly withdra...</td>\n",
       "    </tr>\n",
       "    <tr>\n",
       "      <th>4</th>\n",
       "      <td>9</td>\n",
       "      <td>barenakedislam.com</td>\n",
       "      <td>hate</td>\n",
       "      <td>“The time has come to cut off the tongues of t...</td>\n",
       "    </tr>\n",
       "  </tbody>\n",
       "</table>\n",
       "</div>"
      ],
      "text/plain": [
       "   id              domain   type  \\\n",
       "0   2       express.co.uk  rumor   \n",
       "1   6  barenakedislam.com   hate   \n",
       "2   7  barenakedislam.com   hate   \n",
       "3   8  barenakedislam.com   hate   \n",
       "4   9  barenakedislam.com   hate   \n",
       "\n",
       "                                             content  \n",
       "0  Life is an illusion, at least on a quantum lev...  \n",
       "1  Unfortunately, he hasn’t yet attacked her for ...  \n",
       "2  The Los Angeles Police Department has been den...  \n",
       "3  The White House has decided to quietly withdra...  \n",
       "4  “The time has come to cut off the tongues of t...  "
      ]
     },
     "execution_count": 5,
     "metadata": {},
     "output_type": "execute_result"
    }
   ],
   "source": [
    "df1.head()"
   ]
  },
  {
   "cell_type": "code",
   "execution_count": 6,
   "metadata": {},
   "outputs": [
    {
     "data": {
      "text/plain": [
       "array(['rumor', 'hate', 'unreliable', 'conspiracy', 'clickbait', 'satire',\n",
       "       'fake', 'reliable', 'bias', 'political', 'junksci', nan, 'unknown'], dtype=object)"
      ]
     },
     "execution_count": 6,
     "metadata": {},
     "output_type": "execute_result"
    }
   ],
   "source": [
    "df1['type'].unique()"
   ]
  },
  {
   "cell_type": "code",
   "execution_count": 7,
   "metadata": {},
   "outputs": [
    {
     "data": {
      "text/plain": [
       "46708"
      ]
     },
     "execution_count": 7,
     "metadata": {},
     "output_type": "execute_result"
    }
   ],
   "source": [
    "len(df1.dropna())"
   ]
  },
  {
   "cell_type": "code",
   "execution_count": 8,
   "metadata": {},
   "outputs": [
    {
     "data": {
      "text/plain": [
       "46708"
      ]
     },
     "execution_count": 8,
     "metadata": {},
     "output_type": "execute_result"
    }
   ],
   "source": [
    "len(df1.drop('id', axis=1).dropna())"
   ]
  },
  {
   "cell_type": "code",
   "execution_count": 9,
   "metadata": {},
   "outputs": [
    {
     "data": {
      "text/plain": [
       "46708"
      ]
     },
     "execution_count": 9,
     "metadata": {},
     "output_type": "execute_result"
    }
   ],
   "source": [
    "len(df1.drop('domain', axis=1).dropna())"
   ]
  },
  {
   "cell_type": "code",
   "execution_count": 10,
   "metadata": {
    "collapsed": true
   },
   "outputs": [],
   "source": [
    "df1 = df1.dropna()"
   ]
  },
  {
   "cell_type": "code",
   "execution_count": 11,
   "metadata": {},
   "outputs": [
    {
     "data": {
      "text/plain": [
       "array(['rumor', 'hate', 'unreliable', 'conspiracy', 'clickbait', 'satire',\n",
       "       'fake', 'reliable', 'bias', 'political', 'junksci', 'unknown'], dtype=object)"
      ]
     },
     "execution_count": 11,
     "metadata": {},
     "output_type": "execute_result"
    }
   ],
   "source": [
    "df1['type'].unique()"
   ]
  },
  {
   "cell_type": "code",
   "execution_count": 12,
   "metadata": {},
   "outputs": [
    {
     "data": {
      "text/plain": [
       "45038"
      ]
     },
     "execution_count": 12,
     "metadata": {},
     "output_type": "execute_result"
    }
   ],
   "source": [
    "len(df1[(df1['type'] != 'unreliable') & (df1['type'] !='unknown')])"
   ]
  },
  {
   "cell_type": "code",
   "execution_count": 13,
   "metadata": {
    "collapsed": true
   },
   "outputs": [],
   "source": [
    "df1 = df1[(df1['type'] != 'unreliable') & (df1['type'] !='unknown')]"
   ]
  },
  {
   "cell_type": "code",
   "execution_count": 14,
   "metadata": {},
   "outputs": [
    {
     "data": {
      "text/plain": [
       "type\n",
       "bias           1224\n",
       "clickbait       267\n",
       "conspiracy     5297\n",
       "fake          25420\n",
       "hate            272\n",
       "junksci        1361\n",
       "political     10489\n",
       "reliable        273\n",
       "rumor            96\n",
       "satire          339\n",
       "dtype: int64"
      ]
     },
     "execution_count": 14,
     "metadata": {},
     "output_type": "execute_result"
    }
   ],
   "source": [
    "df1.groupby('type').size()"
   ]
  },
  {
   "cell_type": "code",
   "execution_count": 16,
   "metadata": {},
   "outputs": [
    {
     "data": {
      "text/plain": [
       "array(['baptistnews.com', 'nationalreview.com', 'dailycaller.com',\n",
       "       'rinf.com', 'washingtonexaminer.com', 'breitbart.com',\n",
       "       'judicialwatch.org', 'guardianlv.com', 'city-journal.org',\n",
       "       'ecowatch.com', 'weeklystandard.com', 'pjmedia.com',\n",
       "       'mintpressnews.com', 'freedomworks.org', 'alternet.org',\n",
       "       'conservativereview.com', 'yellowhammernews.com',\n",
       "       'filmsforaction.org', 'rawstory.com', 'theintercept.com',\n",
       "       'commondreams.org', 'dailykos.com', 'thinkprogress.org',\n",
       "       'thedailybeast.com', 'counterpunch.org', 'observer.com',\n",
       "       'americannewsx.com', 'americanprogress.org', 'ronpaulinstitute.org',\n",
       "       'theblaze.com', 'jacobinmag.com', 'foreignpolicyjournal.com',\n",
       "       'heritage.org', 'countercurrents.org', 'newcoldwar.org',\n",
       "       'nakedcapitalism.com', 'commentarymagazine.com', 'redstate.com'], dtype=object)"
      ]
     },
     "execution_count": 16,
     "metadata": {},
     "output_type": "execute_result"
    }
   ],
   "source": [
    "df1[df1['type'] == 'political']['domain'].unique()"
   ]
  },
  {
   "cell_type": "code",
   "execution_count": 19,
   "metadata": {},
   "outputs": [],
   "source": [
    "media_bias = pd.read_csv('data/media_bias.csv')"
   ]
  },
  {
   "cell_type": "code",
   "execution_count": 21,
   "metadata": {},
   "outputs": [
    {
     "data": {
      "text/html": [
       "<div>\n",
       "<style>\n",
       "    .dataframe thead tr:only-child th {\n",
       "        text-align: right;\n",
       "    }\n",
       "\n",
       "    .dataframe thead th {\n",
       "        text-align: left;\n",
       "    }\n",
       "\n",
       "    .dataframe tbody tr th {\n",
       "        vertical-align: top;\n",
       "    }\n",
       "</style>\n",
       "<table border=\"1\" class=\"dataframe\">\n",
       "  <thead>\n",
       "    <tr style=\"text-align: right;\">\n",
       "      <th></th>\n",
       "      <th>News Source</th>\n",
       "      <th>Vertical Rank</th>\n",
       "      <th>Horizontal Rank</th>\n",
       "    </tr>\n",
       "  </thead>\n",
       "  <tbody>\n",
       "    <tr>\n",
       "      <th>0</th>\n",
       "      <td>ABC</td>\n",
       "      <td>57</td>\n",
       "      <td>0</td>\n",
       "    </tr>\n",
       "    <tr>\n",
       "      <th>1</th>\n",
       "      <td>AFP</td>\n",
       "      <td>62</td>\n",
       "      <td>0</td>\n",
       "    </tr>\n",
       "    <tr>\n",
       "      <th>2</th>\n",
       "      <td>Al Jazeera US/Canada News</td>\n",
       "      <td>54</td>\n",
       "      <td>-1</td>\n",
       "    </tr>\n",
       "    <tr>\n",
       "      <th>4</th>\n",
       "      <td>AP</td>\n",
       "      <td>62</td>\n",
       "      <td>0</td>\n",
       "    </tr>\n",
       "    <tr>\n",
       "      <th>5</th>\n",
       "      <td>Axios</td>\n",
       "      <td>52</td>\n",
       "      <td>-2</td>\n",
       "    </tr>\n",
       "    <tr>\n",
       "      <th>6</th>\n",
       "      <td>BBC</td>\n",
       "      <td>54</td>\n",
       "      <td>-3</td>\n",
       "    </tr>\n",
       "    <tr>\n",
       "      <th>8</th>\n",
       "      <td>Bloomberg</td>\n",
       "      <td>58</td>\n",
       "      <td>4</td>\n",
       "    </tr>\n",
       "    <tr>\n",
       "      <th>11</th>\n",
       "      <td>BuzzFeed News</td>\n",
       "      <td>51</td>\n",
       "      <td>-15</td>\n",
       "    </tr>\n",
       "    <tr>\n",
       "      <th>12</th>\n",
       "      <td>CBS</td>\n",
       "      <td>57</td>\n",
       "      <td>4</td>\n",
       "    </tr>\n",
       "    <tr>\n",
       "      <th>13</th>\n",
       "      <td>Christian Science Monitor</td>\n",
       "      <td>54</td>\n",
       "      <td>6</td>\n",
       "    </tr>\n",
       "    <tr>\n",
       "      <th>16</th>\n",
       "      <td>CSPAN</td>\n",
       "      <td>59</td>\n",
       "      <td>0</td>\n",
       "    </tr>\n",
       "    <tr>\n",
       "      <th>17</th>\n",
       "      <td>Daily Beast</td>\n",
       "      <td>41</td>\n",
       "      <td>-21</td>\n",
       "    </tr>\n",
       "    <tr>\n",
       "      <th>24</th>\n",
       "      <td>Democracy Now</td>\n",
       "      <td>48</td>\n",
       "      <td>-19</td>\n",
       "    </tr>\n",
       "    <tr>\n",
       "      <th>26</th>\n",
       "      <td>Financial Times</td>\n",
       "      <td>48</td>\n",
       "      <td>3</td>\n",
       "    </tr>\n",
       "    <tr>\n",
       "      <th>28</th>\n",
       "      <td>Forbes</td>\n",
       "      <td>44</td>\n",
       "      <td>3</td>\n",
       "    </tr>\n",
       "    <tr>\n",
       "      <th>29</th>\n",
       "      <td>Foreign Policy</td>\n",
       "      <td>45</td>\n",
       "      <td>9</td>\n",
       "    </tr>\n",
       "    <tr>\n",
       "      <th>30</th>\n",
       "      <td>Fortune</td>\n",
       "      <td>46</td>\n",
       "      <td>5</td>\n",
       "    </tr>\n",
       "    <tr>\n",
       "      <th>36</th>\n",
       "      <td>IJR</td>\n",
       "      <td>41</td>\n",
       "      <td>2</td>\n",
       "    </tr>\n",
       "    <tr>\n",
       "      <th>38</th>\n",
       "      <td>Intercept</td>\n",
       "      <td>49</td>\n",
       "      <td>-23</td>\n",
       "    </tr>\n",
       "    <tr>\n",
       "      <th>39</th>\n",
       "      <td>Jacobin</td>\n",
       "      <td>47</td>\n",
       "      <td>-28</td>\n",
       "    </tr>\n",
       "    <tr>\n",
       "      <th>40</th>\n",
       "      <td>LA Times</td>\n",
       "      <td>58</td>\n",
       "      <td>-6</td>\n",
       "    </tr>\n",
       "    <tr>\n",
       "      <th>41</th>\n",
       "      <td>Marketwatch</td>\n",
       "      <td>50</td>\n",
       "      <td>5</td>\n",
       "    </tr>\n",
       "    <tr>\n",
       "      <th>43</th>\n",
       "      <td>Mother Jones</td>\n",
       "      <td>40</td>\n",
       "      <td>-24</td>\n",
       "    </tr>\n",
       "    <tr>\n",
       "      <th>46</th>\n",
       "      <td>National Review</td>\n",
       "      <td>51</td>\n",
       "      <td>20</td>\n",
       "    </tr>\n",
       "    <tr>\n",
       "      <th>47</th>\n",
       "      <td>NBC</td>\n",
       "      <td>57</td>\n",
       "      <td>-3</td>\n",
       "    </tr>\n",
       "    <tr>\n",
       "      <th>48</th>\n",
       "      <td>New Republic</td>\n",
       "      <td>46</td>\n",
       "      <td>-19</td>\n",
       "    </tr>\n",
       "    <tr>\n",
       "      <th>50</th>\n",
       "      <td>New York Times</td>\n",
       "      <td>52</td>\n",
       "      <td>-5</td>\n",
       "    </tr>\n",
       "    <tr>\n",
       "      <th>52</th>\n",
       "      <td>NewsMax</td>\n",
       "      <td>43</td>\n",
       "      <td>-28</td>\n",
       "    </tr>\n",
       "    <tr>\n",
       "      <th>53</th>\n",
       "      <td>NPR</td>\n",
       "      <td>56</td>\n",
       "      <td>-5</td>\n",
       "    </tr>\n",
       "    <tr>\n",
       "      <th>56</th>\n",
       "      <td>OZY</td>\n",
       "      <td>43</td>\n",
       "      <td>0</td>\n",
       "    </tr>\n",
       "    <tr>\n",
       "      <th>59</th>\n",
       "      <td>PBS</td>\n",
       "      <td>57</td>\n",
       "      <td>-5</td>\n",
       "    </tr>\n",
       "    <tr>\n",
       "      <th>61</th>\n",
       "      <td>Politico</td>\n",
       "      <td>55</td>\n",
       "      <td>-3</td>\n",
       "    </tr>\n",
       "    <tr>\n",
       "      <th>62</th>\n",
       "      <td>ProPublica</td>\n",
       "      <td>46</td>\n",
       "      <td>-5</td>\n",
       "    </tr>\n",
       "    <tr>\n",
       "      <th>63</th>\n",
       "      <td>Quartz</td>\n",
       "      <td>44</td>\n",
       "      <td>-5</td>\n",
       "    </tr>\n",
       "    <tr>\n",
       "      <th>64</th>\n",
       "      <td>Reason</td>\n",
       "      <td>42</td>\n",
       "      <td>18</td>\n",
       "    </tr>\n",
       "    <tr>\n",
       "      <th>66</th>\n",
       "      <td>Reuters</td>\n",
       "      <td>62</td>\n",
       "      <td>0</td>\n",
       "    </tr>\n",
       "    <tr>\n",
       "      <th>69</th>\n",
       "      <td>Slate</td>\n",
       "      <td>43</td>\n",
       "      <td>-20</td>\n",
       "    </tr>\n",
       "    <tr>\n",
       "      <th>70</th>\n",
       "      <td>Talking Points Memo</td>\n",
       "      <td>41</td>\n",
       "      <td>-13</td>\n",
       "    </tr>\n",
       "    <tr>\n",
       "      <th>71</th>\n",
       "      <td>The Advocate</td>\n",
       "      <td>40</td>\n",
       "      <td>-23</td>\n",
       "    </tr>\n",
       "    <tr>\n",
       "      <th>73</th>\n",
       "      <td>The Atlantic</td>\n",
       "      <td>46</td>\n",
       "      <td>-15</td>\n",
       "    </tr>\n",
       "    <tr>\n",
       "      <th>75</th>\n",
       "      <td>The Economist</td>\n",
       "      <td>48</td>\n",
       "      <td>4</td>\n",
       "    </tr>\n",
       "    <tr>\n",
       "      <th>78</th>\n",
       "      <td>The Guardian</td>\n",
       "      <td>48</td>\n",
       "      <td>-6</td>\n",
       "    </tr>\n",
       "    <tr>\n",
       "      <th>79</th>\n",
       "      <td>The Hill</td>\n",
       "      <td>54</td>\n",
       "      <td>9</td>\n",
       "    </tr>\n",
       "    <tr>\n",
       "      <th>80</th>\n",
       "      <td>The Nation</td>\n",
       "      <td>47</td>\n",
       "      <td>-17</td>\n",
       "    </tr>\n",
       "    <tr>\n",
       "      <th>81</th>\n",
       "      <td>The New Yorker</td>\n",
       "      <td>47</td>\n",
       "      <td>-9</td>\n",
       "    </tr>\n",
       "    <tr>\n",
       "      <th>82</th>\n",
       "      <td>The Skimm</td>\n",
       "      <td>49</td>\n",
       "      <td>-2</td>\n",
       "    </tr>\n",
       "    <tr>\n",
       "      <th>83</th>\n",
       "      <td>The Week</td>\n",
       "      <td>44</td>\n",
       "      <td>-10</td>\n",
       "    </tr>\n",
       "    <tr>\n",
       "      <th>84</th>\n",
       "      <td>The Week</td>\n",
       "      <td>44</td>\n",
       "      <td>-10</td>\n",
       "    </tr>\n",
       "    <tr>\n",
       "      <th>85</th>\n",
       "      <td>The Weekly Standard</td>\n",
       "      <td>46</td>\n",
       "      <td>18</td>\n",
       "    </tr>\n",
       "    <tr>\n",
       "      <th>87</th>\n",
       "      <td>Think Progress</td>\n",
       "      <td>42</td>\n",
       "      <td>-13</td>\n",
       "    </tr>\n",
       "    <tr>\n",
       "      <th>88</th>\n",
       "      <td>Time</td>\n",
       "      <td>43</td>\n",
       "      <td>-1</td>\n",
       "    </tr>\n",
       "    <tr>\n",
       "      <th>91</th>\n",
       "      <td>USA Today</td>\n",
       "      <td>52</td>\n",
       "      <td>0</td>\n",
       "    </tr>\n",
       "    <tr>\n",
       "      <th>93</th>\n",
       "      <td>Vice</td>\n",
       "      <td>42</td>\n",
       "      <td>-10</td>\n",
       "    </tr>\n",
       "    <tr>\n",
       "      <th>94</th>\n",
       "      <td>Vox</td>\n",
       "      <td>43</td>\n",
       "      <td>-16</td>\n",
       "    </tr>\n",
       "    <tr>\n",
       "      <th>95</th>\n",
       "      <td>Wall Street Journal</td>\n",
       "      <td>53</td>\n",
       "      <td>11</td>\n",
       "    </tr>\n",
       "    <tr>\n",
       "      <th>97</th>\n",
       "      <td>Washington Free Beacon</td>\n",
       "      <td>41</td>\n",
       "      <td>24</td>\n",
       "    </tr>\n",
       "    <tr>\n",
       "      <th>99</th>\n",
       "      <td>Washington Post</td>\n",
       "      <td>51</td>\n",
       "      <td>-10</td>\n",
       "    </tr>\n",
       "  </tbody>\n",
       "</table>\n",
       "</div>"
      ],
      "text/plain": [
       "                  News Source  Vertical Rank  Horizontal Rank\n",
       "0                         ABC             57                0\n",
       "1                         AFP             62                0\n",
       "2   Al Jazeera US/Canada News             54               -1\n",
       "4                          AP             62                0\n",
       "5                       Axios             52               -2\n",
       "6                         BBC             54               -3\n",
       "8                   Bloomberg             58                4\n",
       "11              BuzzFeed News             51              -15\n",
       "12                        CBS             57                4\n",
       "13  Christian Science Monitor             54                6\n",
       "16                      CSPAN             59                0\n",
       "17                Daily Beast             41              -21\n",
       "24              Democracy Now             48              -19\n",
       "26            Financial Times             48                3\n",
       "28                     Forbes             44                3\n",
       "29             Foreign Policy             45                9\n",
       "30                    Fortune             46                5\n",
       "36                        IJR             41                2\n",
       "38                  Intercept             49              -23\n",
       "39                    Jacobin             47              -28\n",
       "40                   LA Times             58               -6\n",
       "41                Marketwatch             50                5\n",
       "43               Mother Jones             40              -24\n",
       "46            National Review             51               20\n",
       "47                        NBC             57               -3\n",
       "48               New Republic             46              -19\n",
       "50             New York Times             52               -5\n",
       "52                    NewsMax             43              -28\n",
       "53                        NPR             56               -5\n",
       "56                        OZY             43                0\n",
       "59                        PBS             57               -5\n",
       "61                   Politico             55               -3\n",
       "62                 ProPublica             46               -5\n",
       "63                     Quartz             44               -5\n",
       "64                     Reason             42               18\n",
       "66                    Reuters             62                0\n",
       "69                      Slate             43              -20\n",
       "70        Talking Points Memo             41              -13\n",
       "71               The Advocate             40              -23\n",
       "73               The Atlantic             46              -15\n",
       "75              The Economist             48                4\n",
       "78               The Guardian             48               -6\n",
       "79                   The Hill             54                9\n",
       "80                 The Nation             47              -17\n",
       "81             The New Yorker             47               -9\n",
       "82                  The Skimm             49               -2\n",
       "83                   The Week             44              -10\n",
       "84                   The Week             44              -10\n",
       "85        The Weekly Standard             46               18\n",
       "87             Think Progress             42              -13\n",
       "88                       Time             43               -1\n",
       "91                  USA Today             52                0\n",
       "93                       Vice             42              -10\n",
       "94                        Vox             43              -16\n",
       "95        Wall Street Journal             53               11\n",
       "97     Washington Free Beacon             41               24\n",
       "99            Washington Post             51              -10"
      ]
     },
     "execution_count": 21,
     "metadata": {},
     "output_type": "execute_result"
    }
   ],
   "source": [
    "media_bias[media_bias['Vertical Rank'] >= 40]"
   ]
  },
  {
   "cell_type": "code",
   "execution_count": 22,
   "metadata": {
    "collapsed": true
   },
   "outputs": [],
   "source": [
    "import scrapy\n",
    "import re\n",
    "from scrapy.crawler import CrawlerProcess"
   ]
  },
  {
   "cell_type": "code",
   "execution_count": 30,
   "metadata": {},
   "outputs": [],
   "source": [
    "some_data = pd.read_json('quotes.json')"
   ]
  },
  {
   "cell_type": "code",
   "execution_count": 31,
   "metadata": {},
   "outputs": [
    {
     "data": {
      "text/plain": [
       "'BUENOS AIRES, Argentina (AP) — Broken dates. Coy suggestions. Missed encounters. Private opportunities. Amid weighty issues of state, another fascination at the Group of 20 summit has been President Donald Trump’s will-he, won’t-he dance with two fellow leaders who are something of international outcasts these days. Would Trump, who has an affinity for strongmen and a distaste for business as usual, stay away from Russian President Vladimir Putin and Saudi Crown Prince Mohammed bin Salman? On Day One of the summit in Argentina — fittingly, the land of the tango — the diplomatic quick-stepping was everywhere Friday. Trump has not been shy in his praise of the crown prince and Putin in the past. But Prince Mohammed has been under global pressure lately over the murder of a Saudi journalist, and Putin has drawn fresh criticism for his country’s mounting aggression against Ukraine. So Trump canceled his plans to meet with Putin and left bin Salman off his public agenda. But even then, Trump said he looked forward to meeting Putin soon. And he never fully ruled out seeing bin Salman, saying Thursday, “I would have met with him but we didn’t set that one up.” There were still plenty of opportunities for casual encounters among the leaders as they shuttled between one-on-one sessions, group meetings, meals, a cultural performance, a formal dinner and what is known as the “family photo,” a type of class picture where all the leaders pose stiffly for the cameras. The first real opportunity for public interaction came in the photo session. Trump chatted warmly with the leaders of Canada, Japan and France but walked past bin Salman and Putin, giving the former at most a casual glance. Another photo session with leaders and their spouses in the evening did not reveal any substantive interaction. All the while, Trump powered through meetings with any number of leaders. He began the day with the Argentine president, then signed a trade deal with Mexico and Canada before separate, more casual meetings with the leaders of South Korea and Australia and a formal “trilateral” meeting with Japan and India. Russian Foreign Minister Sergey Lavrov called the canceled Trump-Putin meeting a missed opportunity, saying it didn’t “help settling a number of important international problems.” He added, with resignation, “Love can’t be forced.” But did Trump interact with bin Salman or Putin behind the scenes, away from prying eyes? A senior White House official said Trump and bin Salman had exchanged pleasantries during a leaders’ session, as he had with nearly all the other leaders. The official spoke on condition of anonymity due to the sensitive nature of the crown prince’s situation. Trump told reporters later: “We had no discussion. We might, but we had none.” With Putin, Trump did have some interaction, though the details on how extensive it may have been remained murky. White House spokeswoman Sarah Huckabee Sanders said Trump “exchanged pleasantries” with Putin before the photo, as he did with other leaders. Sanders on Saturday confirmed additional contact between Trump and Putin at Friday’s dinner. “As is typical at multilateral events, President Trump and the First Lady had a number of informal conversations with world leaders at the dinner last night, including President Putin.” Each in relative isolation, Putin and bin Salman at least made nice with each other. At a leaders’ session Friday, they beamed widely at one another while sharing extended, enthusiastic handshake. For Trump and his complicated friends, the first day ended with a group excursion to Teatro Colon, the city’s opera house, for a show that included — wait for it — a whole lot of dance numbers. And with another day to go, the diplomatic footwork was sure to continue. ___ Associated Press writer Angela Charlton contributed to this report.'"
      ]
     },
     "execution_count": 31,
     "metadata": {},
     "output_type": "execute_result"
    }
   ],
   "source": [
    "some_data.loc[0, 'article']"
   ]
  },
  {
   "cell_type": "code",
   "execution_count": 29,
   "metadata": {},
   "outputs": [
    {
     "data": {
      "text/plain": [
       "55"
      ]
     },
     "execution_count": 29,
     "metadata": {},
     "output_type": "execute_result"
    }
   ],
   "source": [
    "len(some_data)"
   ]
  },
  {
   "cell_type": "code",
   "execution_count": null,
   "metadata": {
    "collapsed": true
   },
   "outputs": [],
   "source": []
  }
 ],
 "metadata": {
  "kernelspec": {
   "display_name": "Python 3",
   "language": "python",
   "name": "python3"
  }
 },
 "nbformat": 4,
 "nbformat_minor": 2
}
