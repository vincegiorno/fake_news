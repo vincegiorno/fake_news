{
 "cells": [
  {
   "cell_type": "code",
   "execution_count": 1,
   "metadata": {
    "collapsed": true
   },
   "outputs": [],
   "source": [
    "import pandas as pd\n",
    "import numpy as np\n",
    "import matplotlib.pyplot as plt\n",
    "import seaborn as sns\n",
    "import pickle\n",
    "\n",
    "%matplotlib inline"
   ]
  },
  {
   "cell_type": "code",
   "execution_count": 59,
   "metadata": {
    "collapsed": true
   },
   "outputs": [],
   "source": [
    "credible = pd.read_csv('corpus/credible.csv', usecols=['id', 'type', 'domain', 'content'])"
   ]
  },
  {
   "cell_type": "code",
   "execution_count": 60,
   "metadata": {},
   "outputs": [
    {
     "data": {
      "text/html": [
       "<div>\n",
       "<style scoped>\n",
       "    .dataframe tbody tr th:only-of-type {\n",
       "        vertical-align: middle;\n",
       "    }\n",
       "\n",
       "    .dataframe tbody tr th {\n",
       "        vertical-align: top;\n",
       "    }\n",
       "\n",
       "    .dataframe thead th {\n",
       "        text-align: right;\n",
       "    }\n",
       "</style>\n",
       "<table border=\"1\" class=\"dataframe\">\n",
       "  <thead>\n",
       "    <tr style=\"text-align: right;\">\n",
       "      <th></th>\n",
       "      <th>id</th>\n",
       "      <th>type</th>\n",
       "      <th>domain</th>\n",
       "      <th>content</th>\n",
       "    </tr>\n",
       "  </thead>\n",
       "  <tbody>\n",
       "    <tr>\n",
       "      <th>0</th>\n",
       "      <td>160</td>\n",
       "      <td>political</td>\n",
       "      <td>baptistnews.com</td>\n",
       "      <td>It is rather hard to write with eclipse glasse...</td>\n",
       "    </tr>\n",
       "    <tr>\n",
       "      <th>1</th>\n",
       "      <td>161</td>\n",
       "      <td>political</td>\n",
       "      <td>baptistnews.com</td>\n",
       "      <td>As our nation celebrated Labor Day, giving att...</td>\n",
       "    </tr>\n",
       "    <tr>\n",
       "      <th>2</th>\n",
       "      <td>185</td>\n",
       "      <td>political</td>\n",
       "      <td>baptistnews.com</td>\n",
       "      <td>We hear quite a bit about survivors’ guilt the...</td>\n",
       "    </tr>\n",
       "    <tr>\n",
       "      <th>3</th>\n",
       "      <td>187</td>\n",
       "      <td>political</td>\n",
       "      <td>baptistnews.com</td>\n",
       "      <td>The study of the Hebrew language did not come ...</td>\n",
       "    </tr>\n",
       "    <tr>\n",
       "      <th>4</th>\n",
       "      <td>188</td>\n",
       "      <td>political</td>\n",
       "      <td>baptistnews.com</td>\n",
       "      <td>Social media is blowing up about a culture of ...</td>\n",
       "    </tr>\n",
       "  </tbody>\n",
       "</table>\n",
       "</div>"
      ],
      "text/plain": [
       "    id       type           domain  \\\n",
       "0  160  political  baptistnews.com   \n",
       "1  161  political  baptistnews.com   \n",
       "2  185  political  baptistnews.com   \n",
       "3  187  political  baptistnews.com   \n",
       "4  188  political  baptistnews.com   \n",
       "\n",
       "                                             content  \n",
       "0  It is rather hard to write with eclipse glasse...  \n",
       "1  As our nation celebrated Labor Day, giving att...  \n",
       "2  We hear quite a bit about survivors’ guilt the...  \n",
       "3  The study of the Hebrew language did not come ...  \n",
       "4  Social media is blowing up about a culture of ...  "
      ]
     },
     "execution_count": 60,
     "metadata": {},
     "output_type": "execute_result"
    }
   ],
   "source": [
    "credible.head()"
   ]
  },
  {
   "cell_type": "code",
   "execution_count": 13,
   "metadata": {},
   "outputs": [
    {
     "data": {
      "text/plain": [
       "array(['domain', 'baptistnews.com', 'nationalreview.com',\n",
       "       'weeklystandard.com', 'theintercept.com',\n",
       "       'foreignpolicyjournal.com', 'www.latimes.com', 'www.cbsnews.com',\n",
       "       'www.nytimes.com', 'in.reuters.com', 'af.reuters.com',\n",
       "       'abcnews.go.com', 'uk.reuters.com', 'www.usatoday.com',\n",
       "       'www.npr.org', 'www.wsj.com', 'washpost.bloomberg.com',\n",
       "       'www.theatlantic.com', 'www.washingtonpost.com',\n",
       "       'www.theguardian.com', 'www.reuters.com', 'www.bloomberg.com',\n",
       "       'feeds.reuters.com', 'www.politico.com', 'www.buzzfeed.com',\n",
       "       'www.nbcnews.com', 'online.wsj.com', 'ca.reuters.com', 'nytimes.com'], dtype=object)"
      ]
     },
     "execution_count": 13,
     "metadata": {},
     "output_type": "execute_result"
    }
   ],
   "source": [
    "credible['domain'].unique()"
   ]
  },
  {
   "cell_type": "code",
   "execution_count": 2,
   "metadata": {
    "collapsed": true
   },
   "outputs": [],
   "source": [
    "import spacy\n",
    "from spacy_langdetect import LanguageDetector\n",
    "nlp = spacy.load('en')\n",
    "#from spacy.pipeline import Sentencizer\n",
    "\n",
    "#sentencizer = Sentencizer(['.', '?', '!', '\\n'])\n",
    "nlp.add_pipe(LanguageDetector(), name=\"language_detector\", last=True)\n",
    "import re\n",
    "from unidecode import unidecode"
   ]
  },
  {
   "cell_type": "code",
   "execution_count": 3,
   "metadata": {
    "collapsed": true
   },
   "outputs": [],
   "source": [
    "class Cleaner(dict):\n",
    "    \"\"\" Multiple-string-substitution dict \"\"\"\n",
    "    def _make_regex(self):\n",
    "        \"\"\" Build re object based on the keys of the dictionary it is instantiated with\"\"\"\n",
    "        return re.compile(\"|\".join(map(re.escape, self.keys())))\n",
    "\n",
    "    def __call__(self, match):\n",
    "        \"\"\" Handler invoked for each regex match \"\"\"\n",
    "        return self[match.group(0)]\n",
    "\n",
    "    def clean(self, text):\n",
    "        \"\"\" Substitutes with value for each key and returns the modified text. \"\"\"\n",
    "        return self._make_regex(  ).sub(self, text)"
   ]
  },
  {
   "cell_type": "code",
   "execution_count": 4,
   "metadata": {
    "collapsed": true
   },
   "outputs": [],
   "source": [
    "replacements = {\"\\n\": \" \", # new line characters\n",
    "                \"\\t\": \" \", # tabs\n",
    "                \"-\": \" \",\n",
    "                \"...\": \" \",\n",
    "                \"won't\": \"will not\",\n",
    "                \"can't\": \"can not\",\n",
    "                \"&\": \" and \",\n",
    "                \"\\$*\": \"$\",\n",
    "                \"Loading...\": \" \",\n",
    "                \"Continued...\": \" \",\n",
    "                \"\\N{COPYRIGHT SIGN}\": \" \",\n",
    "                \"\\N{NO-BREAK SPACE}\": \" \",\n",
    "                \"\\N{LEFT-POINTING DOUBLE ANGLE QUOTATION MARK}\": \" \",\n",
    "                \"\\N{RIGHT-POINTING DOUBLE ANGLE QUOTATION MARK}\": \" \",\n",
    "                '.\"': '\".',\n",
    "                '?\"': '\"?',\n",
    "                '!\"': '\"!'\n",
    "               }"
   ]
  },
  {
   "cell_type": "code",
   "execution_count": 5,
   "metadata": {
    "collapsed": true
   },
   "outputs": [],
   "source": [
    "entities = {'PERSON': 'person',\n",
    "            'FAC': 'landmark',\n",
    "            'ORG': 'organization',\n",
    "            'GPE': 'place',\n",
    "            'LOC': 'location',\n",
    "            'EVENT': 'event',\n",
    "            'WORK_OF_ART': 'artwork',\n",
    "            'LAW': 'law',\n",
    "            'DATE': 'date',\n",
    "            'TIME': 'time',\n",
    "            'PERCENT': 'percent',\n",
    "            'MONEY': 'money',\n",
    "            'QUANTITY': 'quantity',\n",
    "            'CARDINAL': 'number'\n",
    "}\n",
    "\n",
    "ent_order = {'PERSON': 8,\n",
    "            'FAC': 2,\n",
    "            'ORG': 1,\n",
    "            'GPE': 6,\n",
    "            'LOC': 7,\n",
    "            'EVENT': 3,\n",
    "            'WORK_OF_ART': 5,\n",
    "            'LAW': 4,\n",
    "            'DATE': 9,\n",
    "            'TIME': 10,\n",
    "            'PERCENT': 12,\n",
    "            'MONEY': 11,\n",
    "            'QUANTITY': 13,\n",
    "            'CARDINAL': 14,\n",
    "}\n",
    "\n",
    "drop_ents = ['NORP', 'PRODUCT', 'LANGUAGE','ORDINAL']"
   ]
  },
  {
   "cell_type": "code",
   "execution_count": 6,
   "metadata": {
    "collapsed": true
   },
   "outputs": [],
   "source": [
    "preprocess = Cleaner(replacements)"
   ]
  },
  {
   "cell_type": "code",
   "execution_count": 7,
   "metadata": {
    "collapsed": true
   },
   "outputs": [],
   "source": [
    "def process(in_doc):\n",
    "    count = 0\n",
    "    out_doc = \"\"\n",
    "    doc = nlp(in_doc)\n",
    "    if doc._.language['language'] != 'en':\n",
    "        return None\n",
    "    colon_count = 0\n",
    "    for sent in doc.sents:\n",
    "        text = sent.text\n",
    "        if not re.search('[.?!] *$', text) or re.search(r'(?i)you', text): # direct appeal to reader or not a sentence\n",
    "            continue\n",
    "        if ':' in text:\n",
    "            colon_count += 1\n",
    "        out_doc += sent.text + ' '\n",
    "        count += 1\n",
    "    if count < 13 or colon_count > 6: # too short for training or likely contains many unquoted quotations\n",
    "        return None\n",
    "    ents = list(set([ent for ent in doc.ents if ent.label_ not in drop_ents]))\n",
    "    ents = sorted(ents, key=lambda ent: ent_order[ent.label_])\n",
    "    for ent in ents:\n",
    "        if ent.text[0] == '$':\n",
    "            pattern = r'\\{}\\b'.format(ent.text) # match money strings, not first word\n",
    "        else:\n",
    "            pattern = r'\\b{}\\b'.format(ent.text) # only match pattern as a word, not part of a word\n",
    "        out_doc = re.sub(pattern, entities.get(ent.label_, ent.text), out_doc)\n",
    "    ents2 = set([ent for ent in nlp(out_doc).ents if ent.label_ == 'PERSON'])\n",
    "    for ent in ents2:\n",
    "        pattern = r'\\b{}\\b'.format(ent.text) \n",
    "        out_doc = re.sub(pattern, 'person', out_doc)\n",
    "    return out_doc"
   ]
  },
  {
   "cell_type": "code",
   "execution_count": 8,
   "metadata": {
    "collapsed": true
   },
   "outputs": [],
   "source": [
    "def convert_quotes(qq):\n",
    "    num = 0\n",
    "    if qq[-2] in ['.', '?', '!']:\n",
    "        punct = qq[-2]\n",
    "    else:\n",
    "        punct = ''\n",
    "    length = len(qq.split())\n",
    "    if length <= 2:\n",
    "        num = 1\n",
    "    elif length <= 12:\n",
    "        num = 2\n",
    "    elif length <= 25:\n",
    "        num = 3\n",
    "    else:\n",
    "        num = 4\n",
    "    return 'quote ' * num + punct\n",
    "\n",
    "def reformat(article):\n",
    "    if not article:\n",
    "        return None\n",
    "    text = unidecode(article)\n",
    "    if text.count('\\N{QUOTATION MARK}') % 2 != 0:\n",
    "        return None\n",
    "    text = preprocess.clean(text)\n",
    "    text = re.sub(r'^(.{0,50})\\(\\w+\\)', ' ', text) # delete dateline\n",
    "    text = re.sub(r'\\|.*\\|', ' ', text) # delete category headers, bylines, etc. between pipe symbols\n",
    "    text = re.sub(r'\\S*@\\S+', 'email', text) # replace email address or Twitter handle with \"email\"\n",
    "    text = re.sub(r'[-a-zA-Z0-9@:%_\\+.~#?&\\/=]{2,256}\\.[a-z]{2,4}(\\/[-a-zA-Z0-9@:%_\\+.~#?&\\/=]*)?', ' website',\n",
    "                  text) # URLs\n",
    "    text = re.sub('[\\[\\(][^\\[\\(]*[\\]\\)]', '', text) # delete text inside parentheses or brackets\n",
    "    text = re.sub(r\"\\b(\\w*)n't\", lambda m: m.group(1) + ' not', text) # replace remaining \"xxn't\" contractions with \"xx not\"\n",
    "    text = re.sub(r'(\"[^\"]*\")', lambda m: convert_quotes(m.group(1)), text) # replace quoted text\n",
    "    text = re.sub(r\"^'|'$|(?<= )'|(?<!s)'(?= )\", '\"', text) # replace single quotes, but not apostrophes, with double quotes\n",
    "    if text.count('\\N{QUOTATION MARK}') % 2 != 0:\n",
    "        return None\n",
    "    text = re.sub(r'(\"[^\"]*\")', lambda m: convert_quotes(m.group(1)), text) # replace quoted text\n",
    "    text = re.sub(r'(?i)please share this.*', '', text)\n",
    "    text = re.sub(' +', ' ', text) # reduce all multiple spaces to single spaces\n",
    "    try:\n",
    "        output = process(text)\n",
    "    except:\n",
    "        output = None\n",
    "    return output"
   ]
  },
  {
   "cell_type": "code",
   "execution_count": 9,
   "metadata": {
    "collapsed": true
   },
   "outputs": [],
   "source": [
    "def show_articles(df):\n",
    "    for ix, row in df.sample(10).iterrows():\n",
    "        yield helper(ix, row)\n",
    "        \n",
    "def helper(ix, row):\n",
    "    print(ix, ', ', row['domain'])\n",
    "    print(reformat(row['content']))"
   ]
  },
  {
   "cell_type": "code",
   "execution_count": 10,
   "metadata": {
    "collapsed": true
   },
   "outputs": [],
   "source": [
    "def show_contents(df):\n",
    "    for domain in df['domain'].unique():\n",
    "        print(domain)\n",
    "        num = min(len(df[df['domain'] == domain]), 10)\n",
    "        yield df[df['domain'] == domain].sample(num)"
   ]
  },
  {
   "cell_type": "code",
   "execution_count": 158,
   "metadata": {
    "collapsed": true
   },
   "outputs": [],
   "source": [
    "hate_domains = show_contents(hate)"
   ]
  },
  {
   "cell_type": "code",
   "execution_count": 188,
   "metadata": {},
   "outputs": [
    {
     "name": "stdout",
     "output_type": "stream",
     "text": [
      "returnofkings.com\n"
     ]
    },
    {
     "data": {
      "text/html": [
       "<div>\n",
       "<style scoped>\n",
       "    .dataframe tbody tr th:only-of-type {\n",
       "        vertical-align: middle;\n",
       "    }\n",
       "\n",
       "    .dataframe tbody tr th {\n",
       "        vertical-align: top;\n",
       "    }\n",
       "\n",
       "    .dataframe thead th {\n",
       "        text-align: right;\n",
       "    }\n",
       "</style>\n",
       "<table border=\"1\" class=\"dataframe\">\n",
       "  <thead>\n",
       "    <tr style=\"text-align: right;\">\n",
       "      <th></th>\n",
       "      <th>id</th>\n",
       "      <th>type</th>\n",
       "      <th>domain</th>\n",
       "      <th>content</th>\n",
       "    </tr>\n",
       "  </thead>\n",
       "  <tbody>\n",
       "    <tr>\n",
       "      <th>75169</th>\n",
       "      <td>7630212</td>\n",
       "      <td>hate</td>\n",
       "      <td>returnofkings.com</td>\n",
       "      <td>The show has not had George R.R. Martin’s book...</td>\n",
       "    </tr>\n",
       "    <tr>\n",
       "      <th>48619</th>\n",
       "      <td>2290820</td>\n",
       "      <td>hate</td>\n",
       "      <td>returnofkings.com</td>\n",
       "      <td>The Book of Mormon came from Joseph Smith’s tr...</td>\n",
       "    </tr>\n",
       "    <tr>\n",
       "      <th>56852</th>\n",
       "      <td>3936343</td>\n",
       "      <td>hate</td>\n",
       "      <td>returnofkings.com</td>\n",
       "      <td>Growing up in middle-class white America, I wa...</td>\n",
       "    </tr>\n",
       "    <tr>\n",
       "      <th>74407</th>\n",
       "      <td>7607546</td>\n",
       "      <td>hate</td>\n",
       "      <td>returnofkings.com</td>\n",
       "      <td>Western Canada is Disneyland for black men who...</td>\n",
       "    </tr>\n",
       "    <tr>\n",
       "      <th>75333</th>\n",
       "      <td>7630939</td>\n",
       "      <td>hate</td>\n",
       "      <td>returnofkings.com</td>\n",
       "      <td>Next Tuesday is the American election, and, fo...</td>\n",
       "    </tr>\n",
       "    <tr>\n",
       "      <th>48465</th>\n",
       "      <td>2290641</td>\n",
       "      <td>hate</td>\n",
       "      <td>returnofkings.com</td>\n",
       "      <td>The Swedish government has been through a toug...</td>\n",
       "    </tr>\n",
       "    <tr>\n",
       "      <th>58857</th>\n",
       "      <td>4054755</td>\n",
       "      <td>hate</td>\n",
       "      <td>returnofkings.com</td>\n",
       "      <td>From Britain to the United States and beyond, ...</td>\n",
       "    </tr>\n",
       "    <tr>\n",
       "      <th>58406</th>\n",
       "      <td>4035548</td>\n",
       "      <td>hate</td>\n",
       "      <td>returnofkings.com</td>\n",
       "      <td>I created this page for those who want to leav...</td>\n",
       "    </tr>\n",
       "    <tr>\n",
       "      <th>57525</th>\n",
       "      <td>3970645</td>\n",
       "      <td>hate</td>\n",
       "      <td>returnofkings.com</td>\n",
       "      <td>As many of you may know, Roosh V’s successful ...</td>\n",
       "    </tr>\n",
       "    <tr>\n",
       "      <th>48595</th>\n",
       "      <td>2290784</td>\n",
       "      <td>hate</td>\n",
       "      <td>returnofkings.com</td>\n",
       "      <td>The next Q&amp;A video answers questions that were...</td>\n",
       "    </tr>\n",
       "  </tbody>\n",
       "</table>\n",
       "</div>"
      ],
      "text/plain": [
       "            id  type             domain  \\\n",
       "75169  7630212  hate  returnofkings.com   \n",
       "48619  2290820  hate  returnofkings.com   \n",
       "56852  3936343  hate  returnofkings.com   \n",
       "74407  7607546  hate  returnofkings.com   \n",
       "75333  7630939  hate  returnofkings.com   \n",
       "48465  2290641  hate  returnofkings.com   \n",
       "58857  4054755  hate  returnofkings.com   \n",
       "58406  4035548  hate  returnofkings.com   \n",
       "57525  3970645  hate  returnofkings.com   \n",
       "48595  2290784  hate  returnofkings.com   \n",
       "\n",
       "                                                 content  \n",
       "75169  The show has not had George R.R. Martin’s book...  \n",
       "48619  The Book of Mormon came from Joseph Smith’s tr...  \n",
       "56852  Growing up in middle-class white America, I wa...  \n",
       "74407  Western Canada is Disneyland for black men who...  \n",
       "75333  Next Tuesday is the American election, and, fo...  \n",
       "48465  The Swedish government has been through a toug...  \n",
       "58857  From Britain to the United States and beyond, ...  \n",
       "58406  I created this page for those who want to leav...  \n",
       "57525  As many of you may know, Roosh V’s successful ...  \n",
       "48595  The next Q&A video answers questions that were...  "
      ]
     },
     "execution_count": 188,
     "metadata": {},
     "output_type": "execute_result"
    }
   ],
   "source": [
    "next(hate_domains)"
   ]
  },
  {
   "cell_type": "code",
   "execution_count": 193,
   "metadata": {},
   "outputs": [
    {
     "data": {
      "text/plain": [
       "'Growing up in middle-class white America, I was constantly told, “Don’t judge a book by its cover!” This wasn’t merely a feminist rallying cry; it was a lesson in how to view all sects of society—blacks, nerds, jocks, fat people, rednecks, thugs, et cetera. Of course, we all learned to parrot this doctrine without questioning it, even if we rarely actually followed it. It made sense to us—there’s so much more to a book than the three words written on its cover. To judge a book before reading it would be prejudice, and there is no worse sin for a middle-class white child than to judge another person before truly getting to know them and their circumstances.\\n\\nAssuming blue pill dogma is true, this is at best a false analogy. Covers are designed to market a book. The title and pictures inform you what kind of book it is, and there will likely be a synopsis and genre label on the back. Publishing companies totally want you to judge the book by its cover, hence why they put so much effort into making it catch your eye. If I want to read some bondage erotica, I’m not going to pick a book with a spaceship on the front.\\n\\nHowever, blue pill dogma is heresy. Ubiquitous and mandatory, but heresy nonetheless. Just as you can judge a book by its cover, so too can you judge people based on their physical appearance, because it is by physical appearance that we market ourselves to the world. You wouldn’t wear a t-shirt to a job interview any more than a children’s mystery novel would have a man smoking on it. That’s just not appropriate.\\n\\nThe Myth Of Ugly Women\\n\\nAt this point the casual reader will say, “But people can’t help how they look! It’s not fair!” This is a lie. Few women are naturally ugly. Usually if a woman is ugly, it is something that she’s done to her body such as bad make-up, aberrant piercings, or weight. The blue pill congregant will claim that some people can’t help being fat because of a medical condition, but that is a tiny minority. Most people can do something even though it may require self-discipline.\\n\\nOne of the most essential aspects of a woman’s beauty is her hair. A simple change of hair can radically alter a woman’s beauty. Hair is such a symbol of femininity and sexuality that many cultures have women wear headscarves in public or in religious buildings. Some places are considered to be important enough that women should not be beautiful, either to repel men or to show reverence for the structure’s purpose.\\n\\nWhile it is true that some women are definitely more beautiful than others, most are close to average in their natural state. Maybe a girl is born with bug-eyes or freckles, but there are usually things she can do to offset it. Even if this is not the case, most men will understand that she made an effort in her presentation. That’s the key element—presentation. The way you present yourself to the world says something about the way you want to be judged. And yes, we all want people to judge us. Not a single one of us “just doesn’t care what anyone thinks.”\\n\\nBeing Judgmental\\n\\nI was at a friend’s house a few months back and met her sister-in-law. The girl was in her late 20s, had very short hair, and was covered in tattoos. The worst tattoo by far was of a mustache on the side of her finger, like the kind of drunk frat joke you see on most girls’ Facebook profiles, though without the same permanence. Knowing nothing about this girl, I can tell everything I need to know about her. There is a difference between the woman a man wants to fuck and the woman a man wants to make love to. This girl is a fun person to be around, but is never someone a red pill man would consider committing to because her entire physical appearance screams instability.\\n\\nThe thing about weight is that it’s a sign of health. Women complain about how they’ll never be supermodel-skinny, but most men want to marry a woman whose ribcage they can see.* This is all unconscious animal instinct, and no amount of propaganda in either direction will ever change this reality. It’s also the exact reason women are attracted to strong men. I will probably never need to defend a woman with my fists, but having large muscles is a sign of health. Image-consciousness cuts both ways, and a weak man is equivalent to a fat woman.\\n\\nChoices Have Consequences\\n\\nPrejudice against physical appearance is totally fair. If you choose to have purple hair or a nose ring, know that you are greatly limiting yourself as a long-term relationship candidate. “Yes, but sometimes women may look good like that,” the blue pill congregant argues. No, if a woman looks good with aberrant hair, tattoos or piercings, it’s always in spite of those aberrancies, not because of them.\\n\\nAnother thing to consider, and this is critical, is that men will want to show you off to their friends. If you assume that there exists men who never present women as a trophy wife, then at the least you will meet his family and friends eventually. Like it or not, society has a prejudice against people looking unnatural, even if tacitly. Will a man really want to be the guy with the weird girlfriend? He’ll tell his friends, “Yeah, she’s pretty independent, but…” and then what will he say? She’s good in bed, she’s nice, she likes the Decemberists? Notice there was a “but.” The man likely said that without even thinking. He found your excessive independence repulsive without even realizing it. If you choose to be socially deviant, don’t be surprised when society rejects you.\\n\\nAnd that’s the thing about a bug-eyed girl who attends to her physical appearance. Yes, her eyes are a negative feature, but the way she dresses and styles her hair says a lot about her approach to life. If I’m looking for someone to breed with, I’ll take the girl who seems least likely to screw up my children. Dressing without showing as much skin as legally possible says something about the way you view yourself and those around you, and it says something about what you want out of life. Being fat says you have no self-restraint, and hence it communicates self-centeredness. Having short hair says, “I don’t care what men think about me; I just want to be comfortable.”\\n\\nDemanding to not be judged based on your presentation is 20th century pampering at its most decadent.\\n\\nRead More: You Should Judge Books By Their Covers\\n\\nUpdate: This line is a typo but ultimately is irrelevant. I’ve explained it here.'"
      ]
     },
     "execution_count": 193,
     "metadata": {},
     "output_type": "execute_result"
    }
   ],
   "source": [
    "hate.loc[56852, 'content']"
   ]
  },
  {
   "cell_type": "code",
   "execution_count": 194,
   "metadata": {},
   "outputs": [
    {
     "data": {
      "text/plain": [
       "\"Growing up in middle class white place, I was constantly told, quote quote ! This was not merely a feminist rallying cry; it was a lesson in how to view all sects of society blacks, nerds, jocks, fat people, rednecks, thugs, et cetera. Of course, we all learned to parrot this doctrine without questioning it, even if we rarely actually followed it. It made sense to us there's so much more to a book than the number words written on its cover. To judge a book before reading it would be prejudice, and there is no worse sin for a middle class white child than to judge another person before truly getting to know them and their circumstances. Assuming blue pill dogma is true, this is at best a false analogy. Covers are designed to market a book. If I want to read some bondage erotica, I'm not going to pick a book with a spaceship on the front. However, blue pill dogma is heresy. Ubiquitous and mandatory, but heresy nonetheless. That's just not appropriate. At this point the casual reader will say, quote quote ! This is a lie. Few women are naturally ugly. Usually if a woman is ugly, it is something that she's done to her body such as bad make up, aberrant piercings, or weight. The blue pill congregant will claim that some people can not help being fat because of a medical condition, but that is a tiny minority. Most people can do something even though it may require self discipline. number of the most essential aspects of a woman's beauty is her hair. A simple change of hair can radically alter a woman's beauty. organization is such a symbol of femininity and sexuality that many cultures have women wear headscarves in public or in religious buildings. Some places are considered to be important enough that women should not be beautiful, either to repel men or to show reverence for the structure's purpose. While it is true that some women are definitely more beautiful than others, most are close to average in their natural state. Maybe a girl is born with bug eyes or freckles, but there are usually things she can do to offset it. Even if this is not the case, most men will understand that she made an effort in her presentation. That's the key element presentation. And yes, we all want people to judge us. Not a single one of us quote quote . I was at a friend's house date back and met her sister in law. The girl was in date, had very short hair, and was covered in tattoos. Knowing nothing about this girl, I can tell everything I need to know about her. There is a difference between the woman a man wants to fuck and the woman a man wants to make love to. This girl is a fun person to be around, but is never someone a red pill man would consider committing to because her entire physical appearance screams instability. The thing about weight is that it's a sign of health. Women complain about how they'll never be supermodel skinny, but most men want to marry a woman whose ribcage they can see. * This is all unconscious animal instinct, and no amount of propaganda in either direction will ever change this reality. It's also the exact reason women are attracted to strong men. I will probably never need to defend a woman with my fists, but having large muscles is a sign of health. Image consciousness cuts both ways, and a weak man is equivalent to a fat woman. Choices Have person against physical appearance is totally fair. quote quote the blue pill congregant argues. No, if a woman looks good with aberrant hair, tattoos or piercings, it's always in spite of those aberrancies, not because of them. Like it or not, society has a prejudice against people looking unnatural, even if tacitly. Will a man really want to be the guy with the weird girlfriend? and then what will he say? , she's nice, she likes the Decemberists? Notice there was a quote . The man likely said that without even thinking. And that's the thing about a bug eyed girl who attends to her physical appearance. Yes, her eyes are a negative feature, but the way she dresses and styles her hair says a lot about her approach to life. If I'm looking for someone to breed with, I'll take the girl who seems least likely to screw up my children. Having short hair says, quote quote quote . : This line is a typo but ultimately is irrelevant. I've explained it here. \""
      ]
     },
     "execution_count": 194,
     "metadata": {},
     "output_type": "execute_result"
    }
   ],
   "source": [
    "reformat(hate.loc[56852, 'content'])"
   ]
  },
  {
   "cell_type": "code",
   "execution_count": 29,
   "metadata": {
    "collapsed": true
   },
   "outputs": [],
   "source": [
    "def clean_file(infile, domains, outfile):\n",
    "    reader = pd.read_csv(infile, chunksize=10000)\n",
    "    cleaned = []\n",
    "    count = 0\n",
    "    for chunk in reader:\n",
    "        count += 1\n",
    "        if count % 10 == 0:\n",
    "            print(count)\n",
    "        for row in chunk.itertuples():\n",
    "            if row.domain in domains:\n",
    "                article = reformat(row.content)\n",
    "                if article:\n",
    "                    cleaned.append((row.id, row.domain, article))\n",
    "    df_cleaned = pd.DataFrame(cleaned, columns=['id', 'domain', 'content'])\n",
    "    print(len(df_cleaned))\n",
    "    df_cleaned.to_csv(outfile)"
   ]
  },
  {
   "cell_type": "code",
   "execution_count": 36,
   "metadata": {
    "collapsed": true
   },
   "outputs": [],
   "source": [
    "hate_keepers = ['barenakedislam.com', 'barnesreview.org', 'ihr.org', 'drrichswier.com', 'davidduke.com',\n",
    "               'returnofkings.com', 'nationalvanguard.org', 'themuslimissue.wordpress.com', 'darkmoon.me',\n",
    "               'glaringhypocrisy.com', 'truthfeed.com']"
   ]
  },
  {
   "cell_type": "code",
   "execution_count": 24,
   "metadata": {
    "collapsed": true
   },
   "outputs": [],
   "source": [
    "clean_file('corpus/hate.csv', hate_keepers, 'cleaned/hate_cleaned.csv')\n",
    "#cleaned = []\n",
    "#for chunk in reader:\n",
    "    #for row in chunk.itertuples():\n",
    "        #if row.domain in hate_keepers:\n",
    "            #article = reformat(row.content)\n",
    "            #if article:\n",
    "                #cleaned.append((row.id, row.domain, article))\n",
    "#hate_cleaned = pd.DataFrame(cleaned, columns=['id', 'domain', 'content'])\n",
    "#hate_cleaned.to_csv('cleaned/hate_cleaned.csv')"
   ]
  },
  {
   "cell_type": "code",
   "execution_count": 16,
   "metadata": {
    "collapsed": true
   },
   "outputs": [],
   "source": [
    "political_credible = ['baptistnews.com', 'nationalreview.com', 'mintpressnews.com', 'theintercept.com', 'jacobinmag.com',\n",
    "                     'foreignpolicyjournal.com', 'heritage.org', ]"
   ]
  },
  {
   "cell_type": "code",
   "execution_count": 30,
   "metadata": {},
   "outputs": [
    {
     "name": "stdout",
     "output_type": "stream",
     "text": [
      "10\n",
      "20\n",
      "30\n",
      "40\n",
      "50\n",
      "60\n",
      "70\n",
      "80\n",
      "90\n",
      "100\n",
      "110\n",
      "120\n",
      "130\n",
      "140\n",
      "150\n",
      "160\n",
      "315751\n"
     ]
    }
   ],
   "source": [
    "clean_file('corpus/political.csv', political_credible, 'cleaned/pol_cred_cleaned.csv')"
   ]
  },
  {
   "cell_type": "code",
   "execution_count": 30,
   "metadata": {
    "collapsed": true
   },
   "outputs": [],
   "source": [
    "political_bogus = ['dailycaller.com', 'breitbart.com', 'weeklystandard.com', 'pjmedia.com', 'freedomworks.org',\n",
    "                  'alternet.org', 'conservativereview.com', 'commondreams.org', 'dailykos.com', 'thinkprogress.org',\n",
    "                  'counterpunch.org', 'americannewsx.com', 'ronpaulinstitute.org', 'theblaze.com', 'newcoldwar.org',\n",
    "                  'commentarymagazine.com', 'redstate.com', 'economicnoise.com', 'mrc.org', 'ijr.com', 'thefifthcolumnnews.com'\n",
    "                  ]"
   ]
  },
  {
   "cell_type": "code",
   "execution_count": 31,
   "metadata": {
    "collapsed": true
   },
   "outputs": [],
   "source": [
    "fake_keepers = ['thecommonsenseshow.com', 'rickwells.us', 'viralliberty.com', 'downtrend.com', 'thelastgreatstand.com',\n",
    "              'yesimright.com', 'usasupreme.com', 'usadailytime.com', 'freedomdaily.com', 'uspoln.com', 'usanewsflash.com',\n",
    "              'onepoliticalplaza.com', 'thefreepatriot.org', 'donaldtrumpnews.co', 'goneleft.com', 'onlineconservativepress.com',\n",
    "              'redrocktribune.com', 'redcountry.us', 'learnprogress.org', 'usadosenews.com', 'usafirstinformation.com',\n",
    "              'enhlive.com', 'flashnewscorner.com']"
   ]
  },
  {
   "cell_type": "code",
   "execution_count": 32,
   "metadata": {},
   "outputs": [
    {
     "name": "stdout",
     "output_type": "stream",
     "text": [
      "10\n",
      "20\n",
      "30\n",
      "40\n",
      "50\n",
      "60\n",
      "70\n",
      "80\n",
      "90\n",
      "6081\n"
     ]
    }
   ],
   "source": [
    "clean_file('corpus/fake.csv', fake_keepers, 'cleaned/fake_cleaned.csv')"
   ]
  },
  {
   "cell_type": "code",
   "execution_count": 33,
   "metadata": {
    "collapsed": true
   },
   "outputs": [],
   "source": [
    "bias_keepers = ['wnd.com', 'frontpagemag.com', 'americanthinker.com', 'dailywire.com', 'thegatewaypundit.com', \n",
    "               'antiwar.com', 'truthrevolt.org', 'patriotpost.us', 'russia-insider.com', 'paulcraigroberts.org',\n",
    "               'vdare.com', 'off-guardian.org', 'jamesrgrangerjr.com', 'americablog.com', 'americasfreedomfighters.com',\n",
    "               'heartland.org', 'palmerreport.com', 'thefederalistpapers.org', 'conservativetribune.com',\n",
    "               'winningdemocrats.com', '100percentfedup.com', 'cowgernation.com', 'usherald.com', 'darkpolitricks.com',\n",
    "               'newslogue.com', 'usapoliticstoday.com', 'counterjihad.com', 'platosguns.com', 'meanlefthook.com',\n",
    "               'americanpatriotdaily.com', 'endingthefed.com', 'conservativefiringline.com', 'politicalcult.com',\n",
    "               'readconservatives.news']"
   ]
  },
  {
   "cell_type": "code",
   "execution_count": null,
   "metadata": {},
   "outputs": [
    {
     "name": "stdout",
     "output_type": "stream",
     "text": [
      "10\n",
      "20\n",
      "30\n",
      "40\n",
      "50\n"
     ]
    }
   ],
   "source": [
    "clean_file('corpus/bias.csv', bias_keepers, 'cleaned/bias_cleaned.csv')"
   ]
  },
  {
   "cell_type": "code",
   "execution_count": null,
   "metadata": {
    "collapsed": true
   },
   "outputs": [],
   "source": [
    "import os\n",
    "scraper_data = os.listdir('./data')\n",
    "scraped = pd.DataFrame()\n",
    "for file in scraper_data:\n",
    "    try:\n",
    "        df = pd.read_json('./data/{}'.format(file))\n",
    "        scraped = pd.concat([scraped, df])\n",
    "    except:\n",
    "        pass"
   ]
  },
  {
   "cell_type": "code",
   "execution_count": null,
   "metadata": {
    "collapsed": true
   },
   "outputs": [],
   "source": [
    "len(scraped)"
   ]
  },
  {
   "cell_type": "code",
   "execution_count": null,
   "metadata": {
    "collapsed": true,
    "scrolled": true
   },
   "outputs": [],
   "source": [
    "scraped.head()"
   ]
  },
  {
   "cell_type": "code",
   "execution_count": null,
   "metadata": {
    "collapsed": true
   },
   "outputs": [],
   "source": [
    "scraped = scraped.drop_duplicates(['id'], keep='last')\n",
    "len(scraped)"
   ]
  },
  {
   "cell_type": "code",
   "execution_count": null,
   "metadata": {
    "collapsed": true
   },
   "outputs": [],
   "source": [
    "pd.set_option('display.max_colwidth', -1)"
   ]
  },
  {
   "cell_type": "code",
   "execution_count": null,
   "metadata": {
    "collapsed": true
   },
   "outputs": [],
   "source": [
    "scraped.head()"
   ]
  },
  {
   "cell_type": "code",
   "execution_count": null,
   "metadata": {
    "collapsed": true
   },
   "outputs": [],
   "source": [
    "len(df1.dropna())"
   ]
  },
  {
   "cell_type": "code",
   "execution_count": null,
   "metadata": {
    "collapsed": true
   },
   "outputs": [],
   "source": [
    "len(df1.drop('id', axis=1).dropna())"
   ]
  },
  {
   "cell_type": "code",
   "execution_count": null,
   "metadata": {
    "collapsed": true
   },
   "outputs": [],
   "source": [
    "len(df1.drop('domain', axis=1).dropna())"
   ]
  },
  {
   "cell_type": "code",
   "execution_count": null,
   "metadata": {
    "collapsed": true
   },
   "outputs": [],
   "source": [
    "df1 = df1.dropna()"
   ]
  },
  {
   "cell_type": "code",
   "execution_count": null,
   "metadata": {
    "collapsed": true
   },
   "outputs": [],
   "source": [
    "df1['type'].unique()"
   ]
  },
  {
   "cell_type": "code",
   "execution_count": null,
   "metadata": {
    "collapsed": true
   },
   "outputs": [],
   "source": [
    "len(df1[(df1['type'] != 'unreliable') & (df1['type'] !='unknown')])"
   ]
  },
  {
   "cell_type": "code",
   "execution_count": null,
   "metadata": {
    "collapsed": true
   },
   "outputs": [],
   "source": [
    "df1 = df1[(df1['type'] != 'unreliable') & (df1['type'] !='unknown')]"
   ]
  },
  {
   "cell_type": "code",
   "execution_count": null,
   "metadata": {
    "collapsed": true
   },
   "outputs": [],
   "source": [
    "df1.groupby('type').size()"
   ]
  },
  {
   "cell_type": "code",
   "execution_count": null,
   "metadata": {
    "collapsed": true
   },
   "outputs": [],
   "source": [
    "df1[df1['type'] == 'political']['domain'].unique()"
   ]
  },
  {
   "cell_type": "code",
   "execution_count": null,
   "metadata": {
    "collapsed": true
   },
   "outputs": [],
   "source": []
  }
 ],
 "metadata": {
  "kernelspec": {
   "display_name": "Python 3",
   "language": "python",
   "name": "python3"
  },
  "language_info": {
   "codemirror_mode": {
    "name": "ipython",
    "version": 3
   },
   "file_extension": ".py",
   "mimetype": "text/x-python",
   "name": "python",
   "nbconvert_exporter": "python",
   "pygments_lexer": "ipython3",
   "version": "3.6.8"
  }
 },
 "nbformat": 4,
 "nbformat_minor": 2
}
