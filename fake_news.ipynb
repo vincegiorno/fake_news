{
 "cells": [
  {
   "cell_type": "code",
   "execution_count": 1,
   "metadata": {},
   "outputs": [
    {
     "name": "stderr",
     "output_type": "stream",
     "text": [
      "/Users/vince/anaconda/envs/thinkful/lib/python3.6/site-packages/matplotlib/font_manager.py:280: UserWarning: Matplotlib is building the font cache using fc-list. This may take a moment.\n",
      "  'Matplotlib is building the font cache using fc-list. '\n"
     ]
    }
   ],
   "source": [
    "import pandas as pd\n",
    "import numpy as np\n",
    "import matplotlib.pyplot as plt\n",
    "import seaborn as sns\n",
    "import pickle\n",
    "\n",
    "%matplotlib inline"
   ]
  },
  {
   "cell_type": "code",
   "execution_count": 59,
   "metadata": {
    "collapsed": true
   },
   "outputs": [],
   "source": [
    "credible = pd.read_csv('corpus/credible.csv', usecols=['id', 'type', 'domain', 'content'])"
   ]
  },
  {
   "cell_type": "code",
   "execution_count": 60,
   "metadata": {},
   "outputs": [
    {
     "data": {
      "text/html": [
       "<div>\n",
       "<style scoped>\n",
       "    .dataframe tbody tr th:only-of-type {\n",
       "        vertical-align: middle;\n",
       "    }\n",
       "\n",
       "    .dataframe tbody tr th {\n",
       "        vertical-align: top;\n",
       "    }\n",
       "\n",
       "    .dataframe thead th {\n",
       "        text-align: right;\n",
       "    }\n",
       "</style>\n",
       "<table border=\"1\" class=\"dataframe\">\n",
       "  <thead>\n",
       "    <tr style=\"text-align: right;\">\n",
       "      <th></th>\n",
       "      <th>id</th>\n",
       "      <th>type</th>\n",
       "      <th>domain</th>\n",
       "      <th>content</th>\n",
       "    </tr>\n",
       "  </thead>\n",
       "  <tbody>\n",
       "    <tr>\n",
       "      <th>0</th>\n",
       "      <td>160</td>\n",
       "      <td>political</td>\n",
       "      <td>baptistnews.com</td>\n",
       "      <td>It is rather hard to write with eclipse glasse...</td>\n",
       "    </tr>\n",
       "    <tr>\n",
       "      <th>1</th>\n",
       "      <td>161</td>\n",
       "      <td>political</td>\n",
       "      <td>baptistnews.com</td>\n",
       "      <td>As our nation celebrated Labor Day, giving att...</td>\n",
       "    </tr>\n",
       "    <tr>\n",
       "      <th>2</th>\n",
       "      <td>185</td>\n",
       "      <td>political</td>\n",
       "      <td>baptistnews.com</td>\n",
       "      <td>We hear quite a bit about survivors’ guilt the...</td>\n",
       "    </tr>\n",
       "    <tr>\n",
       "      <th>3</th>\n",
       "      <td>187</td>\n",
       "      <td>political</td>\n",
       "      <td>baptistnews.com</td>\n",
       "      <td>The study of the Hebrew language did not come ...</td>\n",
       "    </tr>\n",
       "    <tr>\n",
       "      <th>4</th>\n",
       "      <td>188</td>\n",
       "      <td>political</td>\n",
       "      <td>baptistnews.com</td>\n",
       "      <td>Social media is blowing up about a culture of ...</td>\n",
       "    </tr>\n",
       "  </tbody>\n",
       "</table>\n",
       "</div>"
      ],
      "text/plain": [
       "    id       type           domain  \\\n",
       "0  160  political  baptistnews.com   \n",
       "1  161  political  baptistnews.com   \n",
       "2  185  political  baptistnews.com   \n",
       "3  187  political  baptistnews.com   \n",
       "4  188  political  baptistnews.com   \n",
       "\n",
       "                                             content  \n",
       "0  It is rather hard to write with eclipse glasse...  \n",
       "1  As our nation celebrated Labor Day, giving att...  \n",
       "2  We hear quite a bit about survivors’ guilt the...  \n",
       "3  The study of the Hebrew language did not come ...  \n",
       "4  Social media is blowing up about a culture of ...  "
      ]
     },
     "execution_count": 60,
     "metadata": {},
     "output_type": "execute_result"
    }
   ],
   "source": [
    "credible.head()"
   ]
  },
  {
   "cell_type": "code",
   "execution_count": 13,
   "metadata": {},
   "outputs": [
    {
     "data": {
      "text/plain": [
       "array(['domain', 'baptistnews.com', 'nationalreview.com',\n",
       "       'weeklystandard.com', 'theintercept.com',\n",
       "       'foreignpolicyjournal.com', 'www.latimes.com', 'www.cbsnews.com',\n",
       "       'www.nytimes.com', 'in.reuters.com', 'af.reuters.com',\n",
       "       'abcnews.go.com', 'uk.reuters.com', 'www.usatoday.com',\n",
       "       'www.npr.org', 'www.wsj.com', 'washpost.bloomberg.com',\n",
       "       'www.theatlantic.com', 'www.washingtonpost.com',\n",
       "       'www.theguardian.com', 'www.reuters.com', 'www.bloomberg.com',\n",
       "       'feeds.reuters.com', 'www.politico.com', 'www.buzzfeed.com',\n",
       "       'www.nbcnews.com', 'online.wsj.com', 'ca.reuters.com', 'nytimes.com'], dtype=object)"
      ]
     },
     "execution_count": 13,
     "metadata": {},
     "output_type": "execute_result"
    }
   ],
   "source": [
    "credible['domain'].unique()"
   ]
  },
  {
   "cell_type": "code",
   "execution_count": 2,
   "metadata": {
    "collapsed": true
   },
   "outputs": [],
   "source": [
    "import spacy\n",
    "from spacy_langdetect import LanguageDetector\n",
    "nlp = spacy.load('en')\n",
    "\n",
    "nlp.add_pipe(LanguageDetector(), name=\"language_detector\", last=True)\n",
    "import re\n",
    "from unidecode import unidecode"
   ]
  },
  {
   "cell_type": "code",
   "execution_count": 3,
   "metadata": {
    "collapsed": true
   },
   "outputs": [],
   "source": [
    "class Cleaner(dict):\n",
    "    \"\"\" Multiple-string-substitution dict \"\"\"\n",
    "    def _make_regex(self):\n",
    "        \"\"\" Build re object based on the keys of the dictionary it is instantiated with\"\"\"\n",
    "        return re.compile(\"|\".join(map(re.escape, self.keys())))\n",
    "\n",
    "    def __call__(self, match):\n",
    "        \"\"\" Handler invoked for each regex match \"\"\"\n",
    "        return self[match.group(0)]\n",
    "\n",
    "    def clean(self, text):\n",
    "        \"\"\" Substitutes with value for each key and returns the modified text. \"\"\"\n",
    "        return self._make_regex().sub(self, text)"
   ]
  },
  {
   "cell_type": "code",
   "execution_count": 4,
   "metadata": {
    "collapsed": true
   },
   "outputs": [],
   "source": [
    "replacements = {\"\\n\": \" \",\n",
    "                \"\\t\": \" \",\n",
    "                \"-\": \" \",\n",
    "                \"...\": \" \",\n",
    "                \"won't\": \"will not\",\n",
    "                \"can't\": \"can not\",\n",
    "                \"&\": \" and \",\n",
    "                \"\\$*\": \"$\",\n",
    "                \"Loading...\": \" \",\n",
    "                \"Continued...\": \" \",\n",
    "                \"\\N{COPYRIGHT SIGN}\": \" \",\n",
    "                \"\\N{NO-BREAK SPACE}\": \" \",\n",
    "                \"\\N{LEFT-POINTING DOUBLE ANGLE QUOTATION MARK}\": \" \",\n",
    "                \"\\N{RIGHT-POINTING DOUBLE ANGLE QUOTATION MARK}\": \" \",\n",
    "                '.\"': '\".',\n",
    "                '?\"': '\"?',\n",
    "                '!\"': '\"!'\n",
    "               }"
   ]
  },
  {
   "cell_type": "code",
   "execution_count": 5,
   "metadata": {
    "collapsed": true
   },
   "outputs": [],
   "source": [
    "entities = {'PERSON': 'person',\n",
    "            'FAC': 'landmark',\n",
    "            'ORG': 'organization',\n",
    "            'GPE': 'place',\n",
    "            'LOC': 'location',\n",
    "            'EVENT': 'event',\n",
    "            'WORK_OF_ART': 'artwork',\n",
    "            'LAW': 'law',\n",
    "            'DATE': 'date',\n",
    "            'TIME': 'time',\n",
    "            'PERCENT': 'percent',\n",
    "            'MONEY': 'money',\n",
    "            'QUANTITY': 'quantity',\n",
    "            'CARDINAL': 'number'\n",
    "}\n",
    "\n",
    "ent_order = {'PERSON': 8,\n",
    "            'FAC': 2,\n",
    "            'ORG': 1,\n",
    "            'GPE': 6,\n",
    "            'LOC': 7,\n",
    "            'EVENT': 3,\n",
    "            'WORK_OF_ART': 5,\n",
    "            'LAW': 4,\n",
    "            'DATE': 9,\n",
    "            'TIME': 10,\n",
    "            'PERCENT': 12,\n",
    "            'MONEY': 11,\n",
    "            'QUANTITY': 13,\n",
    "            'CARDINAL': 14,\n",
    "}\n",
    "\n",
    "drop_ents = ['NORP', 'PRODUCT', 'LANGUAGE','ORDINAL']"
   ]
  },
  {
   "cell_type": "code",
   "execution_count": 6,
   "metadata": {
    "collapsed": true
   },
   "outputs": [],
   "source": [
    "preprocess = Cleaner(replacements)"
   ]
  },
  {
   "cell_type": "code",
   "execution_count": 7,
   "metadata": {
    "collapsed": true
   },
   "outputs": [],
   "source": [
    "def process(in_doc):\n",
    "    count = 0\n",
    "    out_doc = \"\"\n",
    "    doc = nlp(in_doc)\n",
    "    if doc._.language['language'] != 'en':\n",
    "        return None\n",
    "    colon_count = 0\n",
    "    for sent in doc.sents:\n",
    "        text = sent.text\n",
    "        if ':' in text:\n",
    "            colon_count += 1\n",
    "        if not re.search('[.?!] *$', text) or re.search(r'(?i)you', text): # direct appeal to reader or not a sentence\n",
    "            continue\n",
    "        out_doc += sent.text + ' '\n",
    "        count += 1\n",
    "    if count < 13 or colon_count > 6: # too short for training or likely contains many unquoted quotations\n",
    "        return None\n",
    "    ents = list(set([ent for ent in doc.ents if ent.label_ not in drop_ents]))\n",
    "    ents = sorted(ents, key=lambda ent: ent_order[ent.label_])\n",
    "    for ent in ents:\n",
    "        if ent.text[0] == '$':\n",
    "            pattern = r'\\{}\\b'.format(ent.text) # match money strings, not first word\n",
    "        else:\n",
    "            pattern = r'\\b{}\\b'.format(ent.text) # only match pattern as a word, not part of a word\n",
    "        out_doc = re.sub(pattern, entities.get(ent.label_, ent.text), out_doc)\n",
    "    ents2 = set([ent for ent in nlp(out_doc).ents if ent.label_ == 'PERSON'])\n",
    "    for ent in ents2:\n",
    "        pattern = r'\\b{}\\b'.format(ent.text) \n",
    "        out_doc = re.sub(pattern, 'person', out_doc)\n",
    "    return out_doc"
   ]
  },
  {
   "cell_type": "code",
   "execution_count": 287,
   "metadata": {
    "collapsed": true
   },
   "outputs": [],
   "source": [
    "def convert_quotes(qq):\n",
    "    num = 0\n",
    "    if qq[-2] in ['.', '?', '!']:\n",
    "        punct = qq[-2]\n",
    "    else:\n",
    "        punct = ''\n",
    "    length = len(qq.split())\n",
    "    if length <= 2:\n",
    "        num = 1\n",
    "    elif length <= 12:\n",
    "        num = 2\n",
    "    elif length <= 25:\n",
    "        num = 3\n",
    "    else:\n",
    "        num = 4\n",
    "    return 'quote ' * num + punct\n",
    "\n",
    "def reformat(article):\n",
    "    if not article:\n",
    "        return None\n",
    "    if type(article) is not str:\n",
    "        return None\n",
    "    text = unidecode(article)\n",
    "    if text.count('\\N{QUOTATION MARK}') % 2 != 0:\n",
    "        return None\n",
    "    text = preprocess.clean(text)\n",
    "    text = re.sub(r'^(.{0,50})\\(\\w+\\)', ' ', text) # delete dateline\n",
    "    text = re.sub(r'\\|.*\\|', ' ', text) # delete category headers, bylines, etc. between pipe symbols\n",
    "    text = re.sub(r'\\S*@\\S+', 'email', text) # replace email address or Twitter handle with \"email\"\n",
    "    text = re.sub(r'[-a-zA-Z0-9@:%_\\+.~#?&\\/=]{2,256}\\.[a-z]{2,4}(\\/[-a-zA-Z0-9@:%_\\+.~#?&\\/=]*)?', ' website',\n",
    "                  text) # URLs\n",
    "    text = re.sub('[\\[\\(][^\\[\\(]*[\\]\\)]', '', text) # delete text inside parentheses or brackets\n",
    "    text = re.sub(r\"\\b(\\w*)n't\", lambda m: m.group(1) + ' not', text) # replace remaining \"xxn't\" contractions with \"xx not\"\n",
    "    text = re.sub(r'(\"[^\"]*\")', lambda m: convert_quotes(m.group(1)), text) # replace quoted text\n",
    "    text = re.sub(r\"^'|'$|(?<= )'|(?<!s)'(?= )\", '\"', text) # replace single quotes, but not apostrophes, with double quotes\n",
    "    if text.count('\\N{QUOTATION MARK}') % 2 != 0: # unbalanced quotation marks would cause improper processing \n",
    "        return None\n",
    "    text = re.sub(r'(\"[^\"]*\")', lambda m: convert_quotes(m.group(1)), text) # replace quoted text\n",
    "    text = re.sub(r'(?i)please share this.*', '', text)\n",
    "    text = re.sub(' +', ' ', text) # reduce all multiple spaces to single spaces\n",
    "    try:\n",
    "        output = process(text)\n",
    "    except:\n",
    "        output = None\n",
    "    return output"
   ]
  },
  {
   "cell_type": "code",
   "execution_count": 9,
   "metadata": {
    "collapsed": true
   },
   "outputs": [],
   "source": [
    "def show_articles(df):\n",
    "    for ix, row in df.sample(10).iterrows():\n",
    "        yield helper(ix, row)\n",
    "        \n",
    "def helper(ix, row):\n",
    "    print(ix, ', ', row['domain'])\n",
    "    print(reformat(row['content']))"
   ]
  },
  {
   "cell_type": "code",
   "execution_count": 10,
   "metadata": {
    "collapsed": true
   },
   "outputs": [],
   "source": [
    "def show_contents(df):\n",
    "    for domain in df['domain'].unique():\n",
    "        print(domain)\n",
    "        num = min(len(df[df['domain'] == domain]), 10)\n",
    "        yield df[df['domain'] == domain].sample(num)"
   ]
  },
  {
   "cell_type": "code",
   "execution_count": 236,
   "metadata": {
    "collapsed": true
   },
   "outputs": [],
   "source": [
    "conspiracy = pd.read_csv('corpus/conspiracy.csv')"
   ]
  },
  {
   "cell_type": "code",
   "execution_count": 12,
   "metadata": {},
   "outputs": [
    {
     "data": {
      "text/plain": [
       "array(['blackgenocide.org', 'canadafreepress.com', 'awarenessact.com',\n",
       "       'familysecuritymatters.org', 'zerohedge.com', 'jihadwatch.org',\n",
       "       'themindunleashed.com', 'activistpost.com', 'infowars.com',\n",
       "       'humansarefree.com', 'informationclearinghouse.info',\n",
       "       'wikispooks.com', 'rense.com', 'prisonplanet.com',\n",
       "       '21stcenturywire.com', 'thelibertybeacon.com', 'dcclothesline.com',\n",
       "       'educate-yourself.org', 'henrymakow.com', 'americanfreepress.net',\n",
       "       'nodisinfo.com', 'thedailysheeple.com', '82.221.129.208',\n",
       "       'intellihub.com', 'assassinationscience.com',\n",
       "       'whatreallyhappened.com', 'conspiracyplanet.com',\n",
       "       'abovetopsecret.com', 'gaia.com', 'corbettreport.com',\n",
       "       'whowhatwhy.org', 'govtslaves.info', 'pamelageller.com',\n",
       "       'infiniteunknown.net', 'theeconomiccollapseblog.com', 'shoebat.com',\n",
       "       'endoftheamericandream.com', 'fromthetrenchesworldreport.com',\n",
       "       'countdowntozerotime.com', 'politicalblindspot.com',\n",
       "       'jesus-is-savior.com', 'thepoliticalinsider.com',\n",
       "       'greanvillepost.com', 'whatdoesitmean.com', 'illuminati-news.com',\n",
       "       'worldtruth.tv', 'angrypatriotmovement.com', 'awdnews.com',\n",
       "       'hangthebankers.com', 'newstarget.com', 'davidwolfe.com',\n",
       "       'theeventchronicle.com', 'skeptiko.com', 'rumormillnews.com',\n",
       "       'investmentresearchdynamics.com', 'nowtheendbegins.com',\n",
       "       'fellowshipoftheminds.com', 'zootfeed.com', 'secretsofthefed.com',\n",
       "       'fprnradio.com', 'eyeopening.info', 'counterpsyops.com',\n",
       "       'freedomoutpost.com', 'truthbroadcastnetwork.com',\n",
       "       'conservativerefocus.com', 'dataasylum.com',\n",
       "       'theforbiddenknowledge.com', 'concisepolitics.com',\n",
       "       'sonsoflibertyradio.com', 'electionnightgatekeepers.com',\n",
       "       'oilgeopolitics.net', 'thephaser.com', 'libertyvideos.org',\n",
       "       'nasamoonhoax.com', 'knowledgeoftoday.org', 'sheepkillers.com',\n",
       "       'NoMoreFakeNews.com', 'ufoholic.com', 'weshapelife.org',\n",
       "       'dailyoccupation.com', 'cryptogon.com', 'prepperwebsite.com',\n",
       "       'libertytalk.fm', 'neonnettle.com'], dtype=object)"
      ]
     },
     "execution_count": 12,
     "metadata": {},
     "output_type": "execute_result"
    }
   ],
   "source": [
    "conspiracy['domain'].unique()"
   ]
  },
  {
   "cell_type": "code",
   "execution_count": 237,
   "metadata": {
    "collapsed": true
   },
   "outputs": [],
   "source": [
    "consp_domains = show_contents(conspiracy)"
   ]
  },
  {
   "cell_type": "code",
   "execution_count": 269,
   "metadata": {},
   "outputs": [
    {
     "name": "stdout",
     "output_type": "stream",
     "text": [
      "prisonplanet.com\n"
     ]
    },
    {
     "data": {
      "text/html": [
       "<div>\n",
       "<style scoped>\n",
       "    .dataframe tbody tr th:only-of-type {\n",
       "        vertical-align: middle;\n",
       "    }\n",
       "\n",
       "    .dataframe tbody tr th {\n",
       "        vertical-align: top;\n",
       "    }\n",
       "\n",
       "    .dataframe thead th {\n",
       "        text-align: right;\n",
       "    }\n",
       "</style>\n",
       "<table border=\"1\" class=\"dataframe\">\n",
       "  <thead>\n",
       "    <tr style=\"text-align: right;\">\n",
       "      <th></th>\n",
       "      <th>id</th>\n",
       "      <th>type</th>\n",
       "      <th>domain</th>\n",
       "      <th>content</th>\n",
       "    </tr>\n",
       "  </thead>\n",
       "  <tbody>\n",
       "    <tr>\n",
       "      <th>105889</th>\n",
       "      <td>781497</td>\n",
       "      <td>conspiracy</td>\n",
       "      <td>prisonplanet.com</td>\n",
       "      <td>France proposes NATO military intervention\\n\\n...</td>\n",
       "    </tr>\n",
       "    <tr>\n",
       "      <th>99355</th>\n",
       "      <td>475689</td>\n",
       "      <td>conspiracy</td>\n",
       "      <td>prisonplanet.com</td>\n",
       "      <td>Zero Hedge\\n\\nNovember 9, 2016\\n\\nFor months, ...</td>\n",
       "    </tr>\n",
       "    <tr>\n",
       "      <th>323329</th>\n",
       "      <td>3532680</td>\n",
       "      <td>conspiracy</td>\n",
       "      <td>prisonplanet.com</td>\n",
       "      <td>Get Alex Jones and Paul Joseph Watson's books,...</td>\n",
       "    </tr>\n",
       "    <tr>\n",
       "      <th>97965</th>\n",
       "      <td>452748</td>\n",
       "      <td>conspiracy</td>\n",
       "      <td>prisonplanet.com</td>\n",
       "      <td>Paul Craig Roberts\\n\\nPrison Planet.com\\n\\nOct...</td>\n",
       "    </tr>\n",
       "    <tr>\n",
       "      <th>50476</th>\n",
       "      <td>299023</td>\n",
       "      <td>conspiracy</td>\n",
       "      <td>prisonplanet.com</td>\n",
       "      <td>Steve Watson\\n\\nPrison Planet.com\\n\\nDecember ...</td>\n",
       "    </tr>\n",
       "    <tr>\n",
       "      <th>308762</th>\n",
       "      <td>3104834</td>\n",
       "      <td>conspiracy</td>\n",
       "      <td>prisonplanet.com</td>\n",
       "      <td>Homeland Security prepares to entrench total o...</td>\n",
       "    </tr>\n",
       "    <tr>\n",
       "      <th>322784</th>\n",
       "      <td>3466492</td>\n",
       "      <td>conspiracy</td>\n",
       "      <td>prisonplanet.com</td>\n",
       "      <td>Dyncorp and Halliburton Sex Slave Scandal Won'...</td>\n",
       "    </tr>\n",
       "    <tr>\n",
       "      <th>403092</th>\n",
       "      <td>3997060</td>\n",
       "      <td>conspiracy</td>\n",
       "      <td>prisonplanet.com</td>\n",
       "      <td>Another Dubious Osama Tape Appears When The Ne...</td>\n",
       "    </tr>\n",
       "    <tr>\n",
       "      <th>223028</th>\n",
       "      <td>2295196</td>\n",
       "      <td>conspiracy</td>\n",
       "      <td>prisonplanet.com</td>\n",
       "      <td>Survey finds more Americans now believe UAVs u...</td>\n",
       "    </tr>\n",
       "    <tr>\n",
       "      <th>350872</th>\n",
       "      <td>3762903</td>\n",
       "      <td>conspiracy</td>\n",
       "      <td>prisonplanet.com</td>\n",
       "      <td>McCain Bill Is Lethal Injection For Internet F...</td>\n",
       "    </tr>\n",
       "  </tbody>\n",
       "</table>\n",
       "</div>"
      ],
      "text/plain": [
       "             id        type            domain  \\\n",
       "105889   781497  conspiracy  prisonplanet.com   \n",
       "99355    475689  conspiracy  prisonplanet.com   \n",
       "323329  3532680  conspiracy  prisonplanet.com   \n",
       "97965    452748  conspiracy  prisonplanet.com   \n",
       "50476    299023  conspiracy  prisonplanet.com   \n",
       "308762  3104834  conspiracy  prisonplanet.com   \n",
       "322784  3466492  conspiracy  prisonplanet.com   \n",
       "403092  3997060  conspiracy  prisonplanet.com   \n",
       "223028  2295196  conspiracy  prisonplanet.com   \n",
       "350872  3762903  conspiracy  prisonplanet.com   \n",
       "\n",
       "                                                  content  \n",
       "105889  France proposes NATO military intervention\\n\\n...  \n",
       "99355   Zero Hedge\\n\\nNovember 9, 2016\\n\\nFor months, ...  \n",
       "323329  Get Alex Jones and Paul Joseph Watson's books,...  \n",
       "97965   Paul Craig Roberts\\n\\nPrison Planet.com\\n\\nOct...  \n",
       "50476   Steve Watson\\n\\nPrison Planet.com\\n\\nDecember ...  \n",
       "308762  Homeland Security prepares to entrench total o...  \n",
       "322784  Dyncorp and Halliburton Sex Slave Scandal Won'...  \n",
       "403092  Another Dubious Osama Tape Appears When The Ne...  \n",
       "223028  Survey finds more Americans now believe UAVs u...  \n",
       "350872  McCain Bill Is Lethal Injection For Internet F...  "
      ]
     },
     "execution_count": 269,
     "metadata": {},
     "output_type": "execute_result"
    }
   ],
   "source": [
    "next(consp_domains)"
   ]
  },
  {
   "cell_type": "code",
   "execution_count": 270,
   "metadata": {},
   "outputs": [
    {
     "data": {
      "text/plain": [
       "'Homeland Security prepares to entrench total occupation of America\\n\\nPaul Joseph Watson\\n\\nPrison Planet.com [1]\\n\\nThursday, January 20, 2011\\n\\nThe Department of Homeland Security has released a trio of chilling PSA video clips in which ordinary everyday activities are characterized as signs of potential terrorism, with the public being indoctrinated to assume the role of domestic spies reporting on their friends and neighbors as America sinks deeper into a decaying police state.\\n\\nFollowing the January 1st implementation of the stasi-style “See Something, Say Something” campaign, in which Americans were urged to report “suspicious activity” by means of Orwellian telescreens placed at Wal-Mart checkouts which played a looped message from Janet Napolitano, the DHS announced that the program was set to be expanded [2] to include 9,000 federal buildings, as well as sports stadiums, businesses and communities in general.\\n\\nWe now know how that expansion will manifest itself – with Americans at every level of society being trained that activities such as using cash, not having a credit card, taking pictures or video footage, asking questions, and wearing certain items of clothing are all suspicious and should be reported, while being coerced into living in constant fear of terror, when in reality they are more likely to die from peanut allergies, lightning strikes, or accident-causing deer [3] than terrorist attacks.\\n\\nDHS will no longer be limited to the airport in the form of the TSA, but will become a ubiquitous entity policing everyone through a network of citizen spies and infrastructure security technology. The agency will also assume the mantle of regulating Americans’ every behavior and activity. DHS signs are already in place [4] all over the country telling people where they can and can’t park their cars.\\n\\nAs we have documented [5], every historical example of such informant programs illustrates that they never lead to a more secure society, but instead breed suspicion, distrust, fear and resentment amongst the population. The only “benefit”\\n\\nthat such programs have ever achieved is allowing the state to more easily identify and persecute political dissidents while discouraging the wider population from engaging in any criticism against the government.\\n\\nA d v e r t i s e m e n t\\n\\n\\n\\nAs we have seen from a myriad of reports put out by the DHS and threat fusion centers across the country – the primary targets of Homeland Security in their campaign [6] to have everyone treated with suspicion are gun owners, people who know their rights, and people who exercise their freedoms.\\n\\nAs part of the Commercial Facilities Sector Training and Resources, the following PSA videos have been released by Department of Homeland Security (DHS).\\n\\nDHS Video No Reservations – Extension of “See Something, Say Something” program.\\n\\nThis video equates people who use cash or have a distrust of credit cards as suspicious and potential terrorists.\\n\\nDHS Video Retail Sector – Extension of “See Something, Say Something” program.\\n\\nThis video instigates paranoia by turning everyday activity into potential terrorist warning signs.\\n\\nDHS Video Bag check– Extension of “See Something, Say Something” program\\n\\nThis video shows that anyone attending public events will be under the scrutiny of DHS.\\n\\nWe’ll have more on this chilling DHS takeover of society tomorrow, which will see the launch of a new resistance campaign to protest the unraveling occupation of America by federal goon squads.\\n\\n*********************\\n\\nPaul Joseph Watson is the editor and writer for Prison Planet.com [7]. He is the author of Order Out Of Chaos. Watson is also a fill-in host for The Alex Jones Show. Watson has been interviewed by many publications and radio shows, including Vanity Fair and Coast to Coast AM, America’s most listened to late night talk show.'"
      ]
     },
     "execution_count": 270,
     "metadata": {},
     "output_type": "execute_result"
    }
   ],
   "source": [
    "conspiracy.loc[308762, 'content']"
   ]
  },
  {
   "cell_type": "code",
   "execution_count": 272,
   "metadata": {
    "collapsed": true
   },
   "outputs": [],
   "source": [
    "consp_keepers = ['infowars.com', 'prisonplanet.com', '21stcenturywire.com',\n",
    "                'educate-yourself.org', 'henrymakow.com', 'nodisinfo.com', 'intellihub.com',\n",
    "                'pamelageller.com', 'shoebat.com', 'countdowntozerotime.com', 'thepoliticalinsider.com',\n",
    "                'greanvillepost.com', 'whatdoesitmean.com', 'angrypatriotmovement.com', 'dataasylum.com',\n",
    "                'sonsoflibertyradio.com', 'nasamoonhoax.com', 'sheepkillers.com']"
   ]
  },
  {
   "cell_type": "code",
   "execution_count": 271,
   "metadata": {},
   "outputs": [
    {
     "data": {
      "text/plain": [
       "\"organization prepares to entrench total occupation of place person person person website date The organization has released a trio of chilling organization video clips in which ordinary everyday activities are characterized as signs of potential terrorism, with the public being indoctrinated to assume the role of domestic spies reporting on their friends and neighbors as place sinks deeper into a decaying police state. Following the date implementation of the stasi style quote quote campaign, in which Americans were urged to report quote by means of Orwellian telescreens placed at organization checkouts which played a looped message from person, the organization announced that the program was set to be expanded to include number federal buildings, as well as sports stadiums, businesses and communities in general. We now know how that expansion will manifest itself with Americans at every level of society being trained that activities such as using cash, not having a credit card, taking pictures or video footage, asking questions, and wearing certain items of clothing are all suspicious and should be reported, while being coerced into living in constant fear of terror, when in reality they are more likely to die from peanut allergies, lightning strikes, or accident causing deer than terrorist attacks. organization will no longer be limited to the airport in the form of the organization, but will become a ubiquitous entity policing everyone through a network of citizen spies and infrastructure security technology. The agency will also assume the mantle of regulating Americans' every behavior and activity. organization signs are already in place all over the country telling people where they can and can not park their cars. As we have documented , every historical example of such informant programs illustrates that they never lead to a more secure society, but instead breed suspicion, distrust, fear and resentment amongst the population. The only quote that such programs have ever achieved is allowing the state to more easily identify and persecute political dissidents while discouraging the wider population from engaging in any criticism against the government. n t As we have seen from a myriad of reports put out by the organization and threat fusion centers across the country the primary targets of organization in their campaign to have everyone treated with suspicion are gun owners, people who know their rights, and people who exercise their freedoms. As part of organization, the following organization videos have been released by organization . organization Video No Reservations Extension of quote quote program. This video equates people who use cash or have a distrust of credit cards as suspicious and potential terrorists. organization Video Retail Sector Extension of quote quote program. This video instigates paranoia by turning everyday activity into potential terrorist warning signs. This video shows that anyone attending public events will be under the scrutiny of organization. We'll have more on this chilling organization takeover of society tomorrow, which will see the launch of a new resistance campaign to protest the unraveling occupation of place by federal goon squads. ******************* person person is the editor and writer for person website . He is the author of event. person is also a fill in host for artwork. person has been interviewed by many publications and radio shows, including organization and Coast to Coast AM, place's most listened to time talk show. \""
      ]
     },
     "execution_count": 271,
     "metadata": {},
     "output_type": "execute_result"
    }
   ],
   "source": [
    "reformat(conspiracy.loc[308762, 'content'])"
   ]
  },
  {
   "cell_type": "code",
   "execution_count": 276,
   "metadata": {
    "collapsed": true
   },
   "outputs": [],
   "source": [
    "def clean_file(infile, domains, outfile):\n",
    "    reader = pd.read_csv(infile, chunksize=10000)\n",
    "    cleaned = []\n",
    "    count = 0\n",
    "    for chunk in reader:\n",
    "        count += 1\n",
    "        if count % 10 == 0:\n",
    "            print(count)\n",
    "        for row in chunk.itertuples():\n",
    "            if row.domain in domains:\n",
    "                article = reformat(row.content)\n",
    "                if article:\n",
    "                    cleaned.append((row.id, row.domain, article))\n",
    "    df_cleaned = pd.DataFrame(cleaned, columns=['id', 'domain', 'content'])\n",
    "    print(len(df_cleaned))\n",
    "    df_cleaned.to_csv(outfile)"
   ]
  },
  {
   "cell_type": "code",
   "execution_count": 36,
   "metadata": {
    "collapsed": true
   },
   "outputs": [],
   "source": [
    "hate_keepers = ['barenakedislam.com', 'barnesreview.org', 'ihr.org', 'drrichswier.com', 'davidduke.com',\n",
    "               'returnofkings.com', 'nationalvanguard.org', 'themuslimissue.wordpress.com', 'darkmoon.me',\n",
    "               'glaringhypocrisy.com', 'truthfeed.com']"
   ]
  },
  {
   "cell_type": "code",
   "execution_count": 24,
   "metadata": {
    "collapsed": true
   },
   "outputs": [],
   "source": [
    "clean_file('corpus/hate.csv', hate_keepers, 'cleaned/hate_cleaned.csv')"
   ]
  },
  {
   "cell_type": "code",
   "execution_count": 16,
   "metadata": {
    "collapsed": true
   },
   "outputs": [],
   "source": [
    "political_credible = ['baptistnews.com', 'nationalreview.com', 'mintpressnews.com', 'theintercept.com', 'jacobinmag.com',\n",
    "                     'foreignpolicyjournal.com', 'heritage.org', ]"
   ]
  },
  {
   "cell_type": "code",
   "execution_count": 30,
   "metadata": {},
   "outputs": [
    {
     "name": "stdout",
     "output_type": "stream",
     "text": [
      "10\n",
      "20\n",
      "30\n",
      "40\n",
      "50\n",
      "60\n",
      "70\n",
      "80\n",
      "90\n",
      "100\n",
      "110\n",
      "120\n",
      "130\n",
      "140\n",
      "150\n",
      "160\n",
      "315751\n"
     ]
    }
   ],
   "source": [
    "clean_file('corpus/political.csv', political_credible, 'cleaned/pol_cred_cleaned.csv')"
   ]
  },
  {
   "cell_type": "code",
   "execution_count": 36,
   "metadata": {
    "collapsed": true
   },
   "outputs": [],
   "source": [
    "political_bogus = ['dailycaller.com', 'breitbart.com', 'weeklystandard.com', 'pjmedia.com', 'freedomworks.org',\n",
    "                  'alternet.org', 'conservativereview.com', 'commondreams.org', 'dailykos.com', 'thinkprogress.org',\n",
    "                  'counterpunch.org', 'americannewsx.com', 'ronpaulinstitute.org', 'theblaze.com', 'newcoldwar.org',\n",
    "                  'commentarymagazine.com', 'redstate.com', 'economicnoise.com', 'mrc.org', 'ijr.com', 'thefifthcolumnnews.com'\n",
    "                  ]"
   ]
  },
  {
   "cell_type": "code",
   "execution_count": 37,
   "metadata": {},
   "outputs": [
    {
     "name": "stdout",
     "output_type": "stream",
     "text": [
      "10\n",
      "20\n",
      "30\n",
      "40\n",
      "50\n",
      "60\n",
      "70\n",
      "80\n",
      "90\n",
      "100\n",
      "110\n",
      "120\n",
      "130\n",
      "140\n",
      "150\n",
      "160\n",
      "477775\n"
     ]
    }
   ],
   "source": [
    "clean_file('corpus/political.csv', political_bogus, 'cleaned/pol_bogus_cleaned.csv')"
   ]
  },
  {
   "cell_type": "code",
   "execution_count": 31,
   "metadata": {
    "collapsed": true
   },
   "outputs": [],
   "source": [
    "fake_keepers = ['thecommonsenseshow.com', 'rickwells.us', 'viralliberty.com', 'downtrend.com', 'thelastgreatstand.com',\n",
    "              'yesimright.com', 'usasupreme.com', 'usadailytime.com', 'freedomdaily.com', 'uspoln.com', 'usanewsflash.com',\n",
    "              'onepoliticalplaza.com', 'thefreepatriot.org', 'donaldtrumpnews.co', 'goneleft.com', 'onlineconservativepress.com',\n",
    "              'redrocktribune.com', 'redcountry.us', 'learnprogress.org', 'usadosenews.com', 'usafirstinformation.com',\n",
    "              'enhlive.com', 'flashnewscorner.com']"
   ]
  },
  {
   "cell_type": "code",
   "execution_count": 32,
   "metadata": {},
   "outputs": [
    {
     "name": "stdout",
     "output_type": "stream",
     "text": [
      "10\n",
      "20\n",
      "30\n",
      "40\n",
      "50\n",
      "60\n",
      "70\n",
      "80\n",
      "90\n",
      "6081\n"
     ]
    }
   ],
   "source": [
    "clean_file('corpus/fake.csv', fake_keepers, 'cleaned/fake_cleaned.csv')"
   ]
  },
  {
   "cell_type": "code",
   "execution_count": 33,
   "metadata": {
    "collapsed": true
   },
   "outputs": [],
   "source": [
    "bias_keepers = ['wnd.com', 'frontpagemag.com', 'americanthinker.com', 'dailywire.com', 'thegatewaypundit.com', \n",
    "               'antiwar.com', 'truthrevolt.org', 'patriotpost.us', 'russia-insider.com', 'paulcraigroberts.org',\n",
    "               'vdare.com', 'off-guardian.org', 'jamesrgrangerjr.com', 'americablog.com', 'americasfreedomfighters.com',\n",
    "               'heartland.org', 'palmerreport.com', 'thefederalistpapers.org', 'conservativetribune.com',\n",
    "               'winningdemocrats.com', '100percentfedup.com', 'cowgernation.com', 'usherald.com', 'darkpolitricks.com',\n",
    "               'newslogue.com', 'usapoliticstoday.com', 'counterjihad.com', 'platosguns.com', 'meanlefthook.com',\n",
    "               'americanpatriotdaily.com', 'endingthefed.com', 'conservativefiringline.com', 'politicalcult.com',\n",
    "               'readconservatives.news']"
   ]
  },
  {
   "cell_type": "code",
   "execution_count": 34,
   "metadata": {},
   "outputs": [
    {
     "name": "stdout",
     "output_type": "stream",
     "text": [
      "10\n",
      "20\n",
      "30\n",
      "40\n",
      "50\n",
      "60\n",
      "70\n",
      "80\n",
      "90\n",
      "100\n",
      "110\n",
      "88823\n"
     ]
    }
   ],
   "source": [
    "clean_file('corpus/bias.csv', bias_keepers, 'cleaned/bias_cleaned.csv')"
   ]
  },
  {
   "cell_type": "code",
   "execution_count": 277,
   "metadata": {},
   "outputs": [
    {
     "name": "stdout",
     "output_type": "stream",
     "text": [
      "10\n",
      "20\n",
      "30\n",
      "40\n",
      "50\n",
      "60\n",
      "70\n",
      "80\n",
      "17103\n"
     ]
    }
   ],
   "source": [
    "clean_file('corpus/conspiracy.csv', consp_keepers, 'cleaned/conspiracy_cleaned.csv')"
   ]
  },
  {
   "cell_type": "code",
   "execution_count": null,
   "metadata": {
    "collapsed": true
   },
   "outputs": [],
   "source": [
    "import os"
   ]
  },
  {
   "cell_type": "code",
   "execution_count": null,
   "metadata": {
    "collapsed": true
   },
   "outputs": [],
   "source": [
    "scraper_data = os.listdir('./data')\n",
    "scraped = pd.DataFrame()\n",
    "for file in scraper_data:\n",
    "    try:\n",
    "        df = pd.read_json('./data/{}'.format(file))\n",
    "        scraped = pd.concat([scraped, df])\n",
    "    except:\n",
    "        pass"
   ]
  },
  {
   "cell_type": "code",
   "execution_count": 274,
   "metadata": {},
   "outputs": [
    {
     "data": {
      "text/plain": [
       "65490"
      ]
     },
     "execution_count": 274,
     "metadata": {},
     "output_type": "execute_result"
    }
   ],
   "source": [
    "len(scraped)"
   ]
  },
  {
   "cell_type": "code",
   "execution_count": null,
   "metadata": {
    "collapsed": true,
    "scrolled": true
   },
   "outputs": [],
   "source": [
    "scraped.head()"
   ]
  },
  {
   "cell_type": "code",
   "execution_count": 275,
   "metadata": {},
   "outputs": [
    {
     "data": {
      "text/plain": [
       "28670"
      ]
     },
     "execution_count": 275,
     "metadata": {},
     "output_type": "execute_result"
    }
   ],
   "source": [
    "scraped = scraped.drop_duplicates(['id'], keep='last')\n",
    "len(scraped)"
   ]
  },
  {
   "cell_type": "code",
   "execution_count": null,
   "metadata": {
    "collapsed": true
   },
   "outputs": [],
   "source": [
    "pd.set_option('display.max_colwidth', -1)"
   ]
  },
  {
   "cell_type": "code",
   "execution_count": null,
   "metadata": {
    "collapsed": true
   },
   "outputs": [],
   "source": [
    "scraped.head()"
   ]
  },
  {
   "cell_type": "code",
   "execution_count": null,
   "metadata": {
    "collapsed": true
   },
   "outputs": [],
   "source": [
    "len(df1.dropna())"
   ]
  },
  {
   "cell_type": "code",
   "execution_count": null,
   "metadata": {
    "collapsed": true
   },
   "outputs": [],
   "source": [
    "len(df1.drop('id', axis=1).dropna())"
   ]
  },
  {
   "cell_type": "code",
   "execution_count": null,
   "metadata": {
    "collapsed": true
   },
   "outputs": [],
   "source": [
    "len(df1.drop('domain', axis=1).dropna())"
   ]
  },
  {
   "cell_type": "code",
   "execution_count": null,
   "metadata": {
    "collapsed": true
   },
   "outputs": [],
   "source": [
    "df1 = df1.dropna()"
   ]
  },
  {
   "cell_type": "code",
   "execution_count": null,
   "metadata": {
    "collapsed": true
   },
   "outputs": [],
   "source": [
    "df1['type'].unique()"
   ]
  },
  {
   "cell_type": "code",
   "execution_count": null,
   "metadata": {
    "collapsed": true
   },
   "outputs": [],
   "source": [
    "len(df1[(df1['type'] != 'unreliable') & (df1['type'] !='unknown')])"
   ]
  },
  {
   "cell_type": "code",
   "execution_count": null,
   "metadata": {
    "collapsed": true
   },
   "outputs": [],
   "source": [
    "df1 = df1[(df1['type'] != 'unreliable') & (df1['type'] !='unknown')]"
   ]
  },
  {
   "cell_type": "code",
   "execution_count": null,
   "metadata": {
    "collapsed": true
   },
   "outputs": [],
   "source": [
    "df1.groupby('type').size()"
   ]
  },
  {
   "cell_type": "code",
   "execution_count": null,
   "metadata": {
    "collapsed": true
   },
   "outputs": [],
   "source": [
    "df1[df1['type'] == 'political']['domain'].unique()"
   ]
  },
  {
   "cell_type": "code",
   "execution_count": null,
   "metadata": {
    "collapsed": true
   },
   "outputs": [],
   "source": []
  }
 ],
 "metadata": {
  "kernelspec": {
   "display_name": "Python 3",
   "language": "python",
   "name": "python3"
  },
  "language_info": {
   "codemirror_mode": {
    "name": "ipython",
    "version": 3
   },
   "file_extension": ".py",
   "mimetype": "text/x-python",
   "name": "python",
   "nbconvert_exporter": "python",
   "pygments_lexer": "ipython3",
   "version": "3.6.8"
  }
 },
 "nbformat": 4,
 "nbformat_minor": 2
}
