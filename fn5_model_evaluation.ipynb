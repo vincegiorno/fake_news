{
 "cells": [
  {
   "cell_type": "code",
   "execution_count": 1,
   "metadata": {},
   "outputs": [
    {
     "name": "stderr",
     "output_type": "stream",
     "text": [
      "Using TensorFlow backend.\n"
     ]
    }
   ],
   "source": [
    "import numpy as np\n",
    "import pandas as pd\n",
    "import pickle\n",
    "import matplotlib.pyplot as plt\n",
    "\n",
    "from sklearn.feature_extraction.text import CountVectorizer, TfidfTransformer\n",
    "from sklearn.linear_model import LogisticRegression, LogisticRegressionCV\n",
    "\n",
    "from keras import backend as K\n",
    "from keras import initializers\n",
    "from keras.engine.topology import Layer\n",
    "from keras.utils.np_utils import to_categorical\n",
    "from keras.models import load_model\n",
    "from keras.utils import CustomObjectScope\n",
    "from tensorflow import matmul\n",
    "\n",
    "%matplotlib inline"
   ]
  },
  {
   "cell_type": "code",
   "execution_count": 2,
   "metadata": {
    "collapsed": true
   },
   "outputs": [],
   "source": [
    "with open('data_final/aws_data/X_train.pkl', 'rb') as infile:\n",
    "    X_train = pickle.load(infile)\n",
    "    \n",
    "with open('data_final/aws_data/X_val.pkl', 'rb') as infile:\n",
    "    X_val = pickle.load(infile)\n",
    "\n",
    "with open('data_final/aws_data/X_test.pkl', 'rb') as infile:\n",
    "    X_test = pickle.load(infile)\n",
    "\n",
    "with open('data_final/aws_data/y_train.pkl', 'rb') as infile:\n",
    "    y_train = pickle.load(infile)\n",
    "    \n",
    "with open('data_final/aws_data/y_val.pkl', 'rb') as infile:\n",
    "    y_val = pickle.load(infile)\n",
    "\n",
    "with open('data_final/aws_data/y_test.pkl', 'rb') as infile:\n",
    "    y_test = pickle.load(infile)"
   ]
  },
  {
   "cell_type": "code",
   "execution_count": 3,
   "metadata": {
    "collapsed": true
   },
   "outputs": [],
   "source": [
    "def recombine(array):\n",
    "    '''\n",
    "    Rejoins the lists of words in the articles pre-formatted for training into a single string.\n",
    "    \n",
    "    Returns: String containing all the words in an article that was pre-formatted.\n",
    "    '''\n",
    "    return [' '.join(' '.join(sent) for sent in array)][0]"
   ]
  },
  {
   "cell_type": "code",
   "execution_count": 4,
   "metadata": {
    "collapsed": true
   },
   "outputs": [],
   "source": [
    "data = X_val.apply(recombine)\n",
    "data = data.append(X_train.apply(recombine))\n",
    "labels = y_val.append(y_train)"
   ]
  },
  {
   "cell_type": "code",
   "execution_count": 5,
   "metadata": {
    "collapsed": true
   },
   "outputs": [],
   "source": [
    "sample_data = data.sample(20000)\n",
    "sample_indices = sample_data.index\n",
    "sample_labels = labels[sample_indices]"
   ]
  },
  {
   "cell_type": "code",
   "execution_count": 6,
   "metadata": {
    "collapsed": true
   },
   "outputs": [],
   "source": [
    "counter = CountVectorizer(decode_error='ignore', strip_accents='unicode', max_features=50000)\n",
    "counter.fit(data)\n",
    "sample_data_counts = counter.transform(sample_data)"
   ]
  },
  {
   "cell_type": "code",
   "execution_count": 7,
   "metadata": {},
   "outputs": [
    {
     "data": {
      "text/plain": [
       "array([ 3.16227766])"
      ]
     },
     "execution_count": 7,
     "metadata": {},
     "output_type": "execute_result"
    }
   ],
   "source": [
    "Cs = list(np.logspace(-4, 1, num=11))\n",
    "clf = LogisticRegressionCV(Cs=Cs, solver='sag', cv=5)\n",
    "tfidf = TfidfTransformer()\n",
    "tfidf.fit(data_counts)\n",
    "lrcv = clf.fit(X=tfidf.transform(sample_data_counts), y=sample_labels)\n",
    "lrcv.C_"
   ]
  },
  {
   "cell_type": "code",
   "execution_count": 8,
   "metadata": {},
   "outputs": [
    {
     "data": {
      "text/plain": [
       "array([ 4.])"
      ]
     },
     "execution_count": 8,
     "metadata": {},
     "output_type": "execute_result"
    }
   ],
   "source": [
    "#  Since the best value determined for C was the greatest of the values tried, run again with larger values\n",
    "np.random.seed(3)\n",
    "Cs = list(np.linspace(1, 10, num=10))\n",
    "clf = LogisticRegressionCV(Cs=Cs, solver='sag', cv=5)\n",
    "lrcv = clf.fit(X=tfidf.fit_transform(sample_data_counts), y=sample_labels)\n",
    "lrcv.C_"
   ]
  },
  {
   "cell_type": "code",
   "execution_count": 9,
   "metadata": {},
   "outputs": [
    {
     "name": "stderr",
     "output_type": "stream",
     "text": [
      "/Users/vince/anaconda/envs/thinkful/lib/python3.6/site-packages/sklearn/linear_model/sag.py:337: ConvergenceWarning: The max_iter was reached which means the coef_ did not converge\n",
      "  \"the coef_ did not converge\", ConvergenceWarning)\n"
     ]
    },
    {
     "data": {
      "text/plain": [
       "(array([ 4.]), array([ 0.]))"
      ]
     },
     "execution_count": 9,
     "metadata": {},
     "output_type": "execute_result"
    }
   ],
   "source": [
    "Cs = list(np.linspace(1, 5, num=5))\n",
    "ratios = list(np.linspace(0, 1, num=5))\n",
    "clf = LogisticRegressionCV(Cs=Cs, l1_ratios=ratios, penalty='elasticnet', solver='saga', cv=5, max_iter=300)\n",
    "lrcv = clf.fit(X=tfidf.transform(sample_data_counts), y=sample_labels)\n",
    "lrcv.C_, lrcv.l1_ratio_"
   ]
  },
  {
   "cell_type": "markdown",
   "metadata": {},
   "source": [
    "For logistic regression using either the sag or sag solver, a C value of 4 and the L2 penalty produce the optimal results."
   ]
  },
  {
   "cell_type": "code",
   "execution_count": 10,
   "metadata": {
    "collapsed": true
   },
   "outputs": [],
   "source": [
    "test_strings = X_test.apply(recombine)\n",
    "X_test_counts = counter.transform(test_strings)"
   ]
  },
  {
   "cell_type": "code",
   "execution_count": 13,
   "metadata": {},
   "outputs": [
    {
     "data": {
      "text/plain": [
       "0.86896874999999996"
      ]
     },
     "execution_count": 13,
     "metadata": {},
     "output_type": "execute_result"
    }
   ],
   "source": [
    "data_counts = counter.transform(data)\n",
    "lr = LogisticRegression(C=4.0, solver='sag', random_state=77, max_iter=300)\n",
    "lr.fit(X=tfidf.transform(data_counts), y=labels)\n",
    "lr.score(X=tfidf.transform(X_test_counts), y=y_test)"
   ]
  },
  {
   "cell_type": "code",
   "execution_count": 14,
   "metadata": {},
   "outputs": [
    {
     "data": {
      "text/plain": [
       "0.86896093750000003"
      ]
     },
     "execution_count": 14,
     "metadata": {},
     "output_type": "execute_result"
    }
   ],
   "source": [
    "lr = LogisticRegression(C=4.0, solver='saga', random_state=77, max_iter=300)\n",
    "lr.fit(X=tfidf.transform(data_counts), y=labels)\n",
    "lr.score(X=tfidf.transform(X_test_counts), y=y_test)"
   ]
  },
  {
   "cell_type": "code",
   "execution_count": 15,
   "metadata": {
    "collapsed": true
   },
   "outputs": [],
   "source": [
    "counter = CountVectorizer(decode_error='ignore', strip_accents='unicode', max_features=150000)\n",
    "counter.fit(data)\n",
    "data_counts = counter.fit_transform(data)\n",
    "X_test_counts = counter.transform(test_strings)"
   ]
  },
  {
   "cell_type": "code",
   "execution_count": 17,
   "metadata": {},
   "outputs": [
    {
     "data": {
      "text/plain": [
       "0.87283593749999999"
      ]
     },
     "execution_count": 17,
     "metadata": {},
     "output_type": "execute_result"
    }
   ],
   "source": [
    "lr = LogisticRegression(C=4.0, solver='sag', random_state=77, max_iter=300)\n",
    "lr.fit(X=tfidf.fit_transform(data_counts), y=labels)\n",
    "lr.score(X=tfidf.transform(X_test_counts), y=y_test)"
   ]
  },
  {
   "cell_type": "markdown",
   "metadata": {},
   "source": [
    "Logistic regression after tuning for the value of C and either the L1 (only possiblefor the saga solver) or L2 penalty and with a 150,000-word vocabulary did slightly better than the simple cross-validation-fit accuracy of about 0.845 obtained as the benchmark in the data exploration notebook using a vocabulary of less than 5,000 words. Nonetheless, this is an impressive result compared to the HAN model trained using a cyclic learning rate, which achieved a slightly lower validation accuracy. The HAN model trained for 16 hours compared with 5 minutes or so for the logistic regression classifier. The HAN models using the adam optimizer, however, did obtain significantly higher validation scores just over 0.90. But these trained models need to be run on the test set."
   ]
  },
  {
   "cell_type": "code",
   "execution_count": 19,
   "metadata": {
    "collapsed": true
   },
   "outputs": [],
   "source": [
    "max_words = 30  # max num words processed for each sentence\n",
    "max_sentences = 30  # max num sentences processed for each article \n",
    "max_vocab = 150000\n",
    "attention_dim = 100\n",
    "batch_size = 64\n",
    "words_file = 'data_final/words.pkl'\n",
    "saved_model = 'models/adam-150-200-100/model.4.hdf5'"
   ]
  },
  {
   "cell_type": "code",
   "execution_count": 20,
   "metadata": {
    "collapsed": true
   },
   "outputs": [],
   "source": [
    "with open(words_file, 'rb') as infile:\n",
    "    words = pickle.load(infile)\n",
    "word_index = {}\n",
    "for ix, (word, _) in enumerate(words.most_common(max_vocab)):\n",
    "    word_index[word] = ix + 1"
   ]
  },
  {
   "cell_type": "code",
   "execution_count": 21,
   "metadata": {
    "collapsed": true
   },
   "outputs": [],
   "source": [
    "def create_data_matrix(data, max_sentences=max_sentences, max_words=max_words, max_vocab=max_vocab,\n",
    "                      word_index=word_index):\n",
    "    data_matrix = np.zeros((len(data), max_sentences, max_words), dtype='int32')\n",
    "    for i, article in enumerate(data):\n",
    "        for j, sentence in enumerate(article):\n",
    "            if j == max_sentences:\n",
    "                break\n",
    "            k = 0\n",
    "            for word in sentence:\n",
    "                if k == max_words:\n",
    "                    break\n",
    "                ix = word_index.get(word.lower())\n",
    "                if ix is not None and ix < max_vocab:\n",
    "                    data_matrix[i, j, k] = ix\n",
    "                k = k + 1\n",
    "    return data_matrix"
   ]
  },
  {
   "cell_type": "code",
   "execution_count": 22,
   "metadata": {
    "collapsed": true
   },
   "outputs": [],
   "source": [
    "X_test_keras = create_data_matrix(X_test)\n",
    "y_test_keras = np.asarray(to_categorical(y_test))"
   ]
  },
  {
   "cell_type": "code",
   "execution_count": 23,
   "metadata": {
    "collapsed": true
   },
   "outputs": [],
   "source": [
    "class HierarchicalAttentionNetwork(Layer):\n",
    "    ''''''\n",
    "    def __init__(self, **kwargs):\n",
    "        self.init_weights = initializers.get('glorot_normal')\n",
    "        self.init_bias = initializers.get('zeros')\n",
    "        self.supports_masking = True\n",
    "        self.attention_dim = attention_dim\n",
    "        super().__init__()\n",
    "\n",
    "    def build(self, input_shape):\n",
    "        assert len(input_shape) == 3\n",
    "        self.W = K.variable(self.init_weights((input_shape[-1], self.attention_dim)))\n",
    "        self.b = K.variable(self.init_bias((self.attention_dim,)))\n",
    "        self.u = K.variable(self.init_weights((self.attention_dim, 1)))\n",
    "        self.trainable_weights = [self.W, self.b, self.u]\n",
    "        super().build(input_shape)\n",
    "\n",
    "    def compute_mask(self, inputs, mask=None):\n",
    "        return None\n",
    "\n",
    "    def call(self, x, mask=None):        \n",
    "        uit = K.tanh(K.bias_add(K.dot(x, self.W), self.b))\n",
    "        ait = K.exp(K.squeeze(K.dot(uit, self.u), -1))\n",
    "        \n",
    "        if mask is not None:\n",
    "            # Cast the mask to floatX to avoid float64 upcasting\n",
    "            ait *= K.cast(mask, K.floatx())\n",
    "        ait /= K.cast(K.sum(ait, axis=1, keepdims=True) + K.epsilon(), K.floatx())\n",
    "        \n",
    "        weighted_input = x * K.expand_dims(ait)\n",
    "        output = K.sum(weighted_input, axis=1)\n",
    "\n",
    "        return output\n",
    "\n",
    "    def compute_output_shape(self, input_shape):\n",
    "        return input_shape[0], input_shape[-1]\n"
   ]
  },
  {
   "cell_type": "code",
   "execution_count": 24,
   "metadata": {
    "collapsed": true
   },
   "outputs": [],
   "source": [
    "with CustomObjectScope({'HierarchicalAttentionNetwork': HierarchicalAttentionNetwork}):\n",
    "            model = load_model(saved_model)"
   ]
  },
  {
   "cell_type": "code",
   "execution_count": 26,
   "metadata": {
    "collapsed": true
   },
   "outputs": [],
   "source": [
    "#  Save logistic regression model artifacts and garbage collect to free up memory\n",
    "with open('models/logistic/counter.pkl', 'wb') as outfile:\n",
    "    pickle.dump(counter, outfile)\n",
    "with open('models/logistic/tfidf.pkl', 'wb') as outfile:\n",
    "    pickle.dump(tfidf, outfile)\n",
    "with open('models/logistic/lr.pkl', 'wb') as outfile:\n",
    "    pickle.dump(lr, outfile)"
   ]
  },
  {
   "cell_type": "code",
   "execution_count": 27,
   "metadata": {},
   "outputs": [
    {
     "data": {
      "text/plain": [
       "4"
      ]
     },
     "execution_count": 27,
     "metadata": {},
     "output_type": "execute_result"
    }
   ],
   "source": [
    "import gc\n",
    "data = None\n",
    "data_counts = None\n",
    "sample_data = None\n",
    "sample_data_counts = None\n",
    "X_train = None\n",
    "X_val = None\n",
    "gc.collect()"
   ]
  },
  {
   "cell_type": "code",
   "execution_count": 29,
   "metadata": {},
   "outputs": [
    {
     "name": "stdout",
     "output_type": "stream",
     "text": [
      "128000/128000 [==============================] - 2970s 23ms/step\n"
     ]
    },
    {
     "data": {
      "text/plain": [
       "[0.22986735509708522, 0.91568749999999999]"
      ]
     },
     "execution_count": 29,
     "metadata": {},
     "output_type": "execute_result"
    }
   ],
   "source": [
    "model.evaluate(x=X_test_keras, y=y_test_keras, batch_size=batch_size)"
   ]
  },
  {
   "cell_type": "code",
   "execution_count": 67,
   "metadata": {},
   "outputs": [],
   "source": [
    "keras_probs = model.predict(x=X_test_keras, batch_size=batch_size)"
   ]
  },
  {
   "cell_type": "code",
   "execution_count": 68,
   "metadata": {
    "collapsed": true
   },
   "outputs": [],
   "source": [
    "lr_probs = lr.predict_proba(X=tfidf.transform(X_test_counts))"
   ]
  },
  {
   "cell_type": "code",
   "execution_count": 89,
   "metadata": {},
   "outputs": [],
   "source": [
    "probs = pd.DataFrame.from_dict({'keras_0': [x[0] for x in keras_probs], 'keras_1': [x[1] for x in keras_probs],\n",
    "                                'lr_0': [x[0] for x in lr_probs], 'lr_1': [x[1] for x in lr_probs]})"
   ]
  },
  {
   "cell_type": "code",
   "execution_count": 96,
   "metadata": {},
   "outputs": [],
   "source": [
    "preds = pd.DataFrame.from_dict({'keras': [1 if x >= 0.5 else 0 for x in probs['keras_1']],\n",
    "                                'lr': [1 if x >= 0.5 else 0 for x in probs['lr_1']]})"
   ]
  },
  {
   "cell_type": "code",
   "execution_count": 99,
   "metadata": {},
   "outputs": [
    {
     "data": {
      "text/plain": [
       "array([[58986,  5014],\n",
       "       [ 5778, 58222]])"
      ]
     },
     "execution_count": 99,
     "metadata": {},
     "output_type": "execute_result"
    }
   ],
   "source": [
    "from sklearn.metrics import confusion_matrix\n",
    "confusion_matrix(y_test, preds['keras'])"
   ]
  },
  {
   "cell_type": "code",
   "execution_count": 100,
   "metadata": {},
   "outputs": [
    {
     "data": {
      "text/plain": [
       "array([[55524,  8476],\n",
       "       [ 7801, 56199]])"
      ]
     },
     "execution_count": 100,
     "metadata": {},
     "output_type": "execute_result"
    }
   ],
   "source": [
    "confusion_matrix(y_test, preds['lr'])"
   ]
  },
  {
   "cell_type": "markdown",
   "metadata": {},
   "source": [
    "The confusion matrices show that the HAN model is slightly better at predicting the reliable articles (y=0) than it is at predicting the unreliable articles (y=1), the specificity is better than the sensitivity, while the opposite is true for the logistic regression model. Aggregating the results could improve performance."
   ]
  },
  {
   "cell_type": "code",
   "execution_count": 104,
   "metadata": {},
   "outputs": [
    {
     "data": {
      "text/plain": [
       "array([[59055,  4945],\n",
       "       [ 5047, 58953]])"
      ]
     },
     "execution_count": 104,
     "metadata": {},
     "output_type": "execute_result"
    }
   ],
   "source": [
    "aggregated = (probs['keras_1'] + probs['lr_1']) / 2\n",
    "aggregated = [1 if x >= 0.5 else 0 for x in aggregated]\n",
    "confusion_matrix(y_test, aggregated)"
   ]
  },
  {
   "cell_type": "markdown",
   "metadata": {},
   "source": [
    "Aggregation did boost the overall accuracy to 0.922 from the HAN model's 0.916. It also balances the results, with the number of true positives differing from the number of true negatives by only 102 out of just over 118,000 correctly classified articles. The best results, then, are obtained from an ensemble of the HAN and logistic regression models."
   ]
  },
  {
   "cell_type": "code",
   "execution_count": 110,
   "metadata": {},
   "outputs": [
    {
     "data": {
      "text/plain": [
       "<matplotlib.text.Text at 0x1a2a03e278>"
      ]
     },
     "execution_count": 110,
     "metadata": {},
     "output_type": "execute_result"
    },
    {
     "data": {
      "image/png": "[encoded data removed]",
      "text/plain": [
       "<matplotlib.figure.Figure at 0x1a2982fa58>"
      ]
     },
     "metadata": {},
     "output_type": "display_data"
    }
   ],
   "source": [
    "f, (ax1, ax2) = plt.subplots(1, 2, figsize=(12, 4), sharey=True)\n",
    "ax1.hist(probs['keras_0'])\n",
    "ax1.set_title('Class 0 Keras probabilities')\n",
    "ax2.hist(probs['keras_1'])\n",
    "ax2.set_title('Class 1 Keras probabilities')"
   ]
  },
  {
   "cell_type": "code",
   "execution_count": 111,
   "metadata": {},
   "outputs": [
    {
     "data": {
      "text/plain": [
       "<matplotlib.text.Text at 0x1a2a33a198>"
      ]
     },
     "execution_count": 111,
     "metadata": {},
     "output_type": "execute_result"
    },
    {
     "data": {
      "image/png": "[encoded data removed]",
      "text/plain": [
       "<matplotlib.figure.Figure at 0x1a2a109dd8>"
      ]
     },
     "metadata": {},
     "output_type": "display_data"
    }
   ],
   "source": [
    "f, (ax1, ax2) = plt.subplots(1, 2, figsize=(12, 4), sharey=True)\n",
    "ax1.hist(probs['lr_0'])\n",
    "ax1.set_title('Class 0 logistic regression probabilities')\n",
    "ax2.hist(probs['lr_1'])\n",
    "ax2.set_title('Class 1 logistic regression probabilities')"
   ]
  },
  {
   "cell_type": "markdown",
   "metadata": {},
   "source": [
    "The HAN model made much more confident predictions, the vast quantity in the 0-0.1 or .9-1.0 ranges. The LR predictions were much more spread out, but like the HAN, the fewest were in the  0.4-0.6 range. Is this where most of the wrong predictions fell?"
   ]
  },
  {
   "cell_type": "code",
   "execution_count": 135,
   "metadata": {},
   "outputs": [],
   "source": [
    "probs['actual'] = y_test.values"
   ]
  },
  {
   "cell_type": "code",
   "execution_count": 147,
   "metadata": {
    "collapsed": true
   },
   "outputs": [],
   "source": [
    "keras_false_pos = probs['keras_1'].where((probs['actual'] == 0) & (probs['keras_1'] >= 0.5), np.nan)\n",
    "keras_false_neg = probs['keras_1'].where((probs['actual'] == 1) & (probs['keras_0'] >= 0.5), np.nan)"
   ]
  },
  {
   "cell_type": "code",
   "execution_count": 148,
   "metadata": {},
   "outputs": [
    {
     "data": {
      "text/plain": [
       "(5014, 5778)"
      ]
     },
     "execution_count": 148,
     "metadata": {},
     "output_type": "execute_result"
    }
   ],
   "source": [
    "keras_false_pos.dropna(inplace=True)\n",
    "keras_false_neg.dropna(inplace=True)\n",
    "len(keras_false_pos), len(keras_false_neg)"
   ]
  },
  {
   "cell_type": "code",
   "execution_count": 149,
   "metadata": {},
   "outputs": [
    {
     "data": {
      "text/plain": [
       "<matplotlib.text.Text at 0x1a2bf24908>"
      ]
     },
     "execution_count": 149,
     "metadata": {},
     "output_type": "execute_result"
    },
    {
     "data": {
      "image/png": "[encoded data removed]",
      "text/plain": [
       "<matplotlib.figure.Figure at 0x1a2a926518>"
      ]
     },
     "metadata": {},
     "output_type": "display_data"
    }
   ],
   "source": [
    "f, (ax1, ax2) = plt.subplots(1, 2, figsize=(12, 4), sharey=True)\n",
    "ax1.hist(keras_false_neg)\n",
    "ax1.set_title('Class 1 probabilities for keras false negatives')\n",
    "ax2.hist(keras_false_pos)\n",
    "ax2.set_title('Class 1 probabilities for keras false positives')"
   ]
  },
  {
   "cell_type": "code",
   "execution_count": 150,
   "metadata": {},
   "outputs": [
    {
     "data": {
      "text/plain": [
       "<matplotlib.text.Text at 0x1a2c1ec9b0>"
      ]
     },
     "execution_count": 150,
     "metadata": {},
     "output_type": "execute_result"
    },
    {
     "data": {
      "image/png": "[encoded data removed]",
      "text/plain": [
       "<matplotlib.figure.Figure at 0x1a2a4017b8>"
      ]
     },
     "metadata": {},
     "output_type": "display_data"
    }
   ],
   "source": [
    "lr_false_pos = probs['lr_1'].where((probs['actual'] == 0) & (probs['lr_1'] >= 0.5), np.nan)\n",
    "lr_false_neg = probs['lr_1'].where((probs['actual'] == 1) & (probs['lr_0'] >= 0.5), np.nan)\n",
    "lr_false_pos.dropna(inplace=True)\n",
    "lr_false_neg.dropna(inplace=True)\n",
    "f, (ax1, ax2) = plt.subplots(1, 2, figsize=(12, 4), sharey=True)\n",
    "ax1.hist(lr_false_neg)\n",
    "ax1.set_title('Class 1 probabilities for lr false negatives')\n",
    "ax2.hist(lr_false_pos)\n",
    "ax2.set_title('Class 1 probabilities for lr false positives')"
   ]
  },
  {
   "cell_type": "markdown",
   "metadata": {},
   "source": [
    "Interesingly, the HAN model tends to make its wrong predictions confidently, about half of them being assigned probabilities of less than 0.2 in the correct class, while the logistic regression model is more apt to make wrong predictions near the decision threshold."
   ]
  },
  {
   "cell_type": "code",
   "execution_count": 162,
   "metadata": {
    "collapsed": true
   },
   "outputs": [],
   "source": [
    "probs['agg_0'] = (probs['keras_0'] + probs['lr_0']) / 2\n",
    "probs['agg_1'] = (probs['keras_1'] + probs['lr_1']) / 2"
   ]
  },
  {
   "cell_type": "code",
   "execution_count": 164,
   "metadata": {},
   "outputs": [
    {
     "data": {
      "text/plain": [
       "<matplotlib.text.Text at 0x1e50a080f0>"
      ]
     },
     "execution_count": 164,
     "metadata": {},
     "output_type": "execute_result"
    },
    {
     "data": {
      "image/png": "[encoded data removed]",
      "text/plain": [
       "<matplotlib.figure.Figure at 0x1fcb897d30>"
      ]
     },
     "metadata": {},
     "output_type": "display_data"
    }
   ],
   "source": [
    "agg_false_pos = probs['agg_1'].where((probs['actual'] == 0) & (probs['agg_1'] >= 0.5), np.nan)\n",
    "agg_false_neg = probs['agg_1'].where((probs['actual'] == 1) & (probs['agg_0'] >= 0.5), np.nan)\n",
    "agg_false_pos.dropna(inplace=True)\n",
    "agg_false_neg.dropna(inplace=True)\n",
    "f, (ax1, ax2) = plt.subplots(1, 2, figsize=(12, 4), sharey=True)\n",
    "ax1.hist(agg_false_neg)\n",
    "ax1.set_title('Class 1 probabilities for aggregate false negatives')\n",
    "ax2.hist(agg_false_pos)\n",
    "ax2.set_title('Class 1 probabilities for aggregate false positives')"
   ]
  },
  {
   "cell_type": "markdown",
   "metadata": {},
   "source": [
    "The aggregate model's wrong predictions are even more concentrated near the decision boundary than the lr model and do not show the high-confidence spiking of the HAN model. It will give the most accurate predictive probabilities. Further analysis of the wrong predictions involves recreating the final dataset before the train/test split, which discarded the domain info and reset the index."
   ]
  },
  {
   "cell_type": "code",
   "execution_count": 151,
   "metadata": {},
   "outputs": [
    {
     "data": {
      "text/plain": [
       "271171    0\n",
       "548613    1\n",
       "446254    1\n",
       "549425    1\n",
       "553032    1\n",
       "Name: label, dtype: int64"
      ]
     },
     "execution_count": 151,
     "metadata": {},
     "output_type": "execute_result"
    }
   ],
   "source": [
    "y_test.head()"
   ]
  },
  {
   "cell_type": "code",
   "execution_count": 152,
   "metadata": {
    "collapsed": true
   },
   "outputs": [],
   "source": [
    "with open('data_final/reliable_final.pkl', 'rb') as infile:\n",
    "    reliable = pickle.load(infile)\n",
    "with open('data_final/unreliable_final.pkl', 'rb') as infile:\n",
    "    unreliable = pickle.load(infile)\n",
    "reliable['label'] = 0\n",
    "unreliable['label'] = 1\n",
    "data = reliable.append(unreliable).reset_index()"
   ]
  },
  {
   "cell_type": "code",
   "execution_count": 160,
   "metadata": {},
   "outputs": [],
   "source": [
    "from sklearn.model_selection import train_test_split\n",
    "cols = ['id', 'domain', 'content']\n",
    "X_train, X_test, y_train, y_test = train_test_split(data[cols], data['label'], test_size=0.2,\n",
    "                                                    random_state=77, stratify=data['label'])"
   ]
  },
  {
   "cell_type": "code",
   "execution_count": 165,
   "metadata": {},
   "outputs": [
    {
     "data": {
      "text/plain": [
       "Int64Index([271171, 548613, 446254, 549425, 553032], dtype='int64')"
      ]
     },
     "execution_count": 165,
     "metadata": {},
     "output_type": "execute_result"
    }
   ],
   "source": [
    "X_test.head().index  # Make sure this aligns with the y_test indices"
   ]
  },
  {
   "cell_type": "code",
   "execution_count": 178,
   "metadata": {},
   "outputs": [],
   "source": [
    "probs.index = y_test.index"
   ]
  },
  {
   "cell_type": "code",
   "execution_count": 184,
   "metadata": {},
   "outputs": [],
   "source": [
    "false_pos_indices = probs[(probs['actual'] == 0) & (probs['agg_1'] >= 0.5)].index\n",
    "false_neg_indices = probs[(probs['actual'] == 1) & (probs['agg_0'] >= 0.5)].index"
   ]
  },
  {
   "cell_type": "code",
   "execution_count": 195,
   "metadata": {},
   "outputs": [],
   "source": [
    "false_pos_domains = pd.DataFrame(X_test.loc[false_pos_indices]['domain'], columns=['domain'])\n",
    "false_neg_domains = pd.DataFrame(X_test.loc[false_neg_indices]['domain'], columns=['domain'])"
   ]
  },
  {
   "cell_type": "code",
   "execution_count": 203,
   "metadata": {},
   "outputs": [],
   "source": [
    "false_pos_counts = false_pos_domains.groupby(['domain']).size().reset_index(name='wrong')\n",
    "false_neg_counts = false_neg_domains.groupby(['domain']).size().reset_index(name='wrong')"
   ]
  },
  {
   "cell_type": "code",
   "execution_count": 204,
   "metadata": {},
   "outputs": [],
   "source": [
    "reliable_domains = reliable['domain'].unique()\n",
    "unreliable_domains = unreliable['domain'].unique()"
   ]
  },
  {
   "cell_type": "code",
   "execution_count": 207,
   "metadata": {},
   "outputs": [],
   "source": [
    "reliable_test_counts = X_test[X_test['domain'].isin(reliable_domains)].groupby('domain').size().reset_index(name='total')"
   ]
  },
  {
   "cell_type": "code",
   "execution_count": 214,
   "metadata": {},
   "outputs": [
    {
     "data": {
      "text/plain": [
       "True"
      ]
     },
     "execution_count": 214,
     "metadata": {},
     "output_type": "execute_result"
    }
   ],
   "source": [
    "list(reliable_test_counts['domain']) == list(false_pos_counts['domain'])"
   ]
  },
  {
   "cell_type": "code",
   "execution_count": 217,
   "metadata": {},
   "outputs": [],
   "source": [
    "reliable_test_counts['wrong'] = false_pos_counts['wrong']"
   ]
  },
  {
   "cell_type": "code",
   "execution_count": 219,
   "metadata": {
    "collapsed": true
   },
   "outputs": [],
   "source": [
    "reliable_test_counts['ratio'] = reliable_test_counts['wrong'] / reliable_test_counts['total']"
   ]
  },
  {
   "cell_type": "code",
   "execution_count": 221,
   "metadata": {},
   "outputs": [
    {
     "data": {
      "text/html": [
       "<div>\n",
       "<style scoped>\n",
       "    .dataframe tbody tr th:only-of-type {\n",
       "        vertical-align: middle;\n",
       "    }\n",
       "\n",
       "    .dataframe tbody tr th {\n",
       "        vertical-align: top;\n",
       "    }\n",
       "\n",
       "    .dataframe thead th {\n",
       "        text-align: right;\n",
       "    }\n",
       "</style>\n",
       "<table border=\"1\" class=\"dataframe\">\n",
       "  <thead>\n",
       "    <tr style=\"text-align: right;\">\n",
       "      <th></th>\n",
       "      <th>domain</th>\n",
       "      <th>total</th>\n",
       "      <th>wrong</th>\n",
       "      <th>ratio</th>\n",
       "    </tr>\n",
       "  </thead>\n",
       "  <tbody>\n",
       "    <tr>\n",
       "      <th>25</th>\n",
       "      <td>weeklystandard.com</td>\n",
       "      <td>6043</td>\n",
       "      <td>1229</td>\n",
       "      <td>0.203376</td>\n",
       "    </tr>\n",
       "    <tr>\n",
       "      <th>9</th>\n",
       "      <td>foreignpolicyjournal.com</td>\n",
       "      <td>457</td>\n",
       "      <td>92</td>\n",
       "      <td>0.201313</td>\n",
       "    </tr>\n",
       "    <tr>\n",
       "      <th>13</th>\n",
       "      <td>mintpressnews.com</td>\n",
       "      <td>4549</td>\n",
       "      <td>898</td>\n",
       "      <td>0.197406</td>\n",
       "    </tr>\n",
       "    <tr>\n",
       "      <th>5</th>\n",
       "      <td>buzzfeed.com</td>\n",
       "      <td>173</td>\n",
       "      <td>26</td>\n",
       "      <td>0.150289</td>\n",
       "    </tr>\n",
       "    <tr>\n",
       "      <th>10</th>\n",
       "      <td>heritage.org</td>\n",
       "      <td>1420</td>\n",
       "      <td>144</td>\n",
       "      <td>0.101408</td>\n",
       "    </tr>\n",
       "    <tr>\n",
       "      <th>21</th>\n",
       "      <td>theatlantic.com</td>\n",
       "      <td>81</td>\n",
       "      <td>8</td>\n",
       "      <td>0.098765</td>\n",
       "    </tr>\n",
       "    <tr>\n",
       "      <th>15</th>\n",
       "      <td>nbcnews.com</td>\n",
       "      <td>2262</td>\n",
       "      <td>203</td>\n",
       "      <td>0.089744</td>\n",
       "    </tr>\n",
       "    <tr>\n",
       "      <th>24</th>\n",
       "      <td>washingtonpost.com</td>\n",
       "      <td>1753</td>\n",
       "      <td>131</td>\n",
       "      <td>0.074729</td>\n",
       "    </tr>\n",
       "    <tr>\n",
       "      <th>11</th>\n",
       "      <td>jacobinmag.com</td>\n",
       "      <td>1454</td>\n",
       "      <td>106</td>\n",
       "      <td>0.072902</td>\n",
       "    </tr>\n",
       "    <tr>\n",
       "      <th>6</th>\n",
       "      <td>buzzfeednews.com</td>\n",
       "      <td>349</td>\n",
       "      <td>25</td>\n",
       "      <td>0.071633</td>\n",
       "    </tr>\n",
       "    <tr>\n",
       "      <th>7</th>\n",
       "      <td>cbsnews.com</td>\n",
       "      <td>3067</td>\n",
       "      <td>213</td>\n",
       "      <td>0.069449</td>\n",
       "    </tr>\n",
       "    <tr>\n",
       "      <th>19</th>\n",
       "      <td>politico.eu</td>\n",
       "      <td>15</td>\n",
       "      <td>1</td>\n",
       "      <td>0.066667</td>\n",
       "    </tr>\n",
       "    <tr>\n",
       "      <th>0</th>\n",
       "      <td>abcnews.go.com</td>\n",
       "      <td>1333</td>\n",
       "      <td>87</td>\n",
       "      <td>0.065266</td>\n",
       "    </tr>\n",
       "    <tr>\n",
       "      <th>23</th>\n",
       "      <td>usatoday.com</td>\n",
       "      <td>1827</td>\n",
       "      <td>107</td>\n",
       "      <td>0.058566</td>\n",
       "    </tr>\n",
       "    <tr>\n",
       "      <th>14</th>\n",
       "      <td>nationalreview.com</td>\n",
       "      <td>10755</td>\n",
       "      <td>626</td>\n",
       "      <td>0.058205</td>\n",
       "    </tr>\n",
       "    <tr>\n",
       "      <th>1</th>\n",
       "      <td>aljazeera.com</td>\n",
       "      <td>989</td>\n",
       "      <td>52</td>\n",
       "      <td>0.052578</td>\n",
       "    </tr>\n",
       "    <tr>\n",
       "      <th>16</th>\n",
       "      <td>npr.org</td>\n",
       "      <td>1390</td>\n",
       "      <td>64</td>\n",
       "      <td>0.046043</td>\n",
       "    </tr>\n",
       "    <tr>\n",
       "      <th>12</th>\n",
       "      <td>latimes.com</td>\n",
       "      <td>1389</td>\n",
       "      <td>61</td>\n",
       "      <td>0.043916</td>\n",
       "    </tr>\n",
       "    <tr>\n",
       "      <th>22</th>\n",
       "      <td>theintercept.com</td>\n",
       "      <td>1562</td>\n",
       "      <td>67</td>\n",
       "      <td>0.042894</td>\n",
       "    </tr>\n",
       "    <tr>\n",
       "      <th>18</th>\n",
       "      <td>politico.com</td>\n",
       "      <td>1661</td>\n",
       "      <td>67</td>\n",
       "      <td>0.040337</td>\n",
       "    </tr>\n",
       "    <tr>\n",
       "      <th>4</th>\n",
       "      <td>bloomberg.com</td>\n",
       "      <td>1240</td>\n",
       "      <td>47</td>\n",
       "      <td>0.037903</td>\n",
       "    </tr>\n",
       "    <tr>\n",
       "      <th>17</th>\n",
       "      <td>nytimes.com</td>\n",
       "      <td>12498</td>\n",
       "      <td>459</td>\n",
       "      <td>0.036726</td>\n",
       "    </tr>\n",
       "    <tr>\n",
       "      <th>8</th>\n",
       "      <td>csmonitor.com</td>\n",
       "      <td>618</td>\n",
       "      <td>16</td>\n",
       "      <td>0.025890</td>\n",
       "    </tr>\n",
       "    <tr>\n",
       "      <th>3</th>\n",
       "      <td>baptistnews.com</td>\n",
       "      <td>3718</td>\n",
       "      <td>78</td>\n",
       "      <td>0.020979</td>\n",
       "    </tr>\n",
       "    <tr>\n",
       "      <th>2</th>\n",
       "      <td>apnews.com</td>\n",
       "      <td>1537</td>\n",
       "      <td>29</td>\n",
       "      <td>0.018868</td>\n",
       "    </tr>\n",
       "    <tr>\n",
       "      <th>20</th>\n",
       "      <td>reuters.com</td>\n",
       "      <td>590</td>\n",
       "      <td>11</td>\n",
       "      <td>0.018644</td>\n",
       "    </tr>\n",
       "    <tr>\n",
       "      <th>26</th>\n",
       "      <td>wsj.com</td>\n",
       "      <td>74</td>\n",
       "      <td>1</td>\n",
       "      <td>0.013514</td>\n",
       "    </tr>\n",
       "  </tbody>\n",
       "</table>\n",
       "</div>"
      ],
      "text/plain": [
       "                      domain  total  wrong     ratio\n",
       "25        weeklystandard.com   6043   1229  0.203376\n",
       "9   foreignpolicyjournal.com    457     92  0.201313\n",
       "13         mintpressnews.com   4549    898  0.197406\n",
       "5               buzzfeed.com    173     26  0.150289\n",
       "10              heritage.org   1420    144  0.101408\n",
       "21           theatlantic.com     81      8  0.098765\n",
       "15               nbcnews.com   2262    203  0.089744\n",
       "24        washingtonpost.com   1753    131  0.074729\n",
       "11            jacobinmag.com   1454    106  0.072902\n",
       "6           buzzfeednews.com    349     25  0.071633\n",
       "7                cbsnews.com   3067    213  0.069449\n",
       "19               politico.eu     15      1  0.066667\n",
       "0             abcnews.go.com   1333     87  0.065266\n",
       "23              usatoday.com   1827    107  0.058566\n",
       "14        nationalreview.com  10755    626  0.058205\n",
       "1              aljazeera.com    989     52  0.052578\n",
       "16                   npr.org   1390     64  0.046043\n",
       "12               latimes.com   1389     61  0.043916\n",
       "22          theintercept.com   1562     67  0.042894\n",
       "18              politico.com   1661     67  0.040337\n",
       "4              bloomberg.com   1240     47  0.037903\n",
       "17               nytimes.com  12498    459  0.036726\n",
       "8              csmonitor.com    618     16  0.025890\n",
       "3            baptistnews.com   3718     78  0.020979\n",
       "2                 apnews.com   1537     29  0.018868\n",
       "20               reuters.com    590     11  0.018644\n",
       "26                   wsj.com     74      1  0.013514"
      ]
     },
     "execution_count": 221,
     "metadata": {},
     "output_type": "execute_result"
    }
   ],
   "source": [
    "reliable_test_counts.sort_values(by='ratio', ascending=False)"
   ]
  },
  {
   "cell_type": "code",
   "execution_count": 222,
   "metadata": {},
   "outputs": [
    {
     "data": {
      "text/plain": [
       "False"
      ]
     },
     "execution_count": 222,
     "metadata": {},
     "output_type": "execute_result"
    }
   ],
   "source": [
    "unreliable_test_counts = X_test[X_test['domain'].isin(unreliable_domains)].groupby('domain').size().reset_index(name='total')\n",
    "list(unreliable_test_counts['domain']) == list(false_neg_counts['domain'])"
   ]
  },
  {
   "cell_type": "markdown",
   "metadata": {},
   "source": [
    "Some sources identified as unreliable had no false negatives."
   ]
  },
  {
   "cell_type": "code",
   "execution_count": 269,
   "metadata": {},
   "outputs": [],
   "source": [
    "false_neg_domain_names = false_neg_domains['domain'].unique()\n",
    "\n",
    "full_false_neg_counts = [list(false_neg_counts[false_neg_counts['domain'] == domain]['wrong'])[0] \\\n",
    "                         if domain in false_neg_domain_names else 0 \\\n",
    "                         for domain in unreliable_test_counts['domain'].values]"
   ]
  },
  {
   "cell_type": "code",
   "execution_count": 271,
   "metadata": {},
   "outputs": [
    {
     "data": {
      "text/html": [
       "<div>\n",
       "<style scoped>\n",
       "    .dataframe tbody tr th:only-of-type {\n",
       "        vertical-align: middle;\n",
       "    }\n",
       "\n",
       "    .dataframe tbody tr th {\n",
       "        vertical-align: top;\n",
       "    }\n",
       "\n",
       "    .dataframe thead th {\n",
       "        text-align: right;\n",
       "    }\n",
       "</style>\n",
       "<table border=\"1\" class=\"dataframe\">\n",
       "  <thead>\n",
       "    <tr style=\"text-align: right;\">\n",
       "      <th></th>\n",
       "      <th>domain</th>\n",
       "      <th>total</th>\n",
       "      <th>wrong</th>\n",
       "      <th>ratio</th>\n",
       "    </tr>\n",
       "  </thead>\n",
       "  <tbody>\n",
       "    <tr>\n",
       "      <th>40</th>\n",
       "      <td>goneleft.com</td>\n",
       "      <td>2</td>\n",
       "      <td>1</td>\n",
       "      <td>0.500000</td>\n",
       "    </tr>\n",
       "    <tr>\n",
       "      <th>64</th>\n",
       "      <td>platosguns.com</td>\n",
       "      <td>3</td>\n",
       "      <td>1</td>\n",
       "      <td>0.333333</td>\n",
       "    </tr>\n",
       "    <tr>\n",
       "      <th>42</th>\n",
       "      <td>heartland.org</td>\n",
       "      <td>55</td>\n",
       "      <td>14</td>\n",
       "      <td>0.254545</td>\n",
       "    </tr>\n",
       "    <tr>\n",
       "      <th>44</th>\n",
       "      <td>ihr.org</td>\n",
       "      <td>48</td>\n",
       "      <td>11</td>\n",
       "      <td>0.229167</td>\n",
       "    </tr>\n",
       "    <tr>\n",
       "      <th>14</th>\n",
       "      <td>commondreams.org</td>\n",
       "      <td>1265</td>\n",
       "      <td>274</td>\n",
       "      <td>0.216601</td>\n",
       "    </tr>\n",
       "    <tr>\n",
       "      <th>81</th>\n",
       "      <td>thefifthcolumnnews.com</td>\n",
       "      <td>1080</td>\n",
       "      <td>233</td>\n",
       "      <td>0.215741</td>\n",
       "    </tr>\n",
       "    <tr>\n",
       "      <th>2</th>\n",
       "      <td>alternet.org</td>\n",
       "      <td>1707</td>\n",
       "      <td>345</td>\n",
       "      <td>0.202109</td>\n",
       "    </tr>\n",
       "    <tr>\n",
       "      <th>56</th>\n",
       "      <td>off-guardian.org</td>\n",
       "      <td>51</td>\n",
       "      <td>9</td>\n",
       "      <td>0.176471</td>\n",
       "    </tr>\n",
       "    <tr>\n",
       "      <th>54</th>\n",
       "      <td>newcoldwar.org</td>\n",
       "      <td>6</td>\n",
       "      <td>1</td>\n",
       "      <td>0.166667</td>\n",
       "    </tr>\n",
       "    <tr>\n",
       "      <th>19</th>\n",
       "      <td>counterpunch.org</td>\n",
       "      <td>665</td>\n",
       "      <td>109</td>\n",
       "      <td>0.163910</td>\n",
       "    </tr>\n",
       "    <tr>\n",
       "      <th>74</th>\n",
       "      <td>russia-insider.com</td>\n",
       "      <td>497</td>\n",
       "      <td>73</td>\n",
       "      <td>0.146881</td>\n",
       "    </tr>\n",
       "    <tr>\n",
       "      <th>41</th>\n",
       "      <td>greanvillepost.com</td>\n",
       "      <td>180</td>\n",
       "      <td>26</td>\n",
       "      <td>0.144444</td>\n",
       "    </tr>\n",
       "    <tr>\n",
       "      <th>88</th>\n",
       "      <td>truthfeed.com</td>\n",
       "      <td>14</td>\n",
       "      <td>2</td>\n",
       "      <td>0.142857</td>\n",
       "    </tr>\n",
       "    <tr>\n",
       "      <th>87</th>\n",
       "      <td>thinkprogress.org</td>\n",
       "      <td>5089</td>\n",
       "      <td>713</td>\n",
       "      <td>0.140106</td>\n",
       "    </tr>\n",
       "    <tr>\n",
       "      <th>21</th>\n",
       "      <td>dailycaller.com</td>\n",
       "      <td>6326</td>\n",
       "      <td>872</td>\n",
       "      <td>0.137844</td>\n",
       "    </tr>\n",
       "    <tr>\n",
       "      <th>78</th>\n",
       "      <td>theblaze.com</td>\n",
       "      <td>391</td>\n",
       "      <td>48</td>\n",
       "      <td>0.122762</td>\n",
       "    </tr>\n",
       "    <tr>\n",
       "      <th>1</th>\n",
       "      <td>21stcenturywire.com</td>\n",
       "      <td>475</td>\n",
       "      <td>50</td>\n",
       "      <td>0.105263</td>\n",
       "    </tr>\n",
       "    <tr>\n",
       "      <th>33</th>\n",
       "      <td>endingthefed.com</td>\n",
       "      <td>129</td>\n",
       "      <td>12</td>\n",
       "      <td>0.093023</td>\n",
       "    </tr>\n",
       "    <tr>\n",
       "      <th>9</th>\n",
       "      <td>antiwar.com</td>\n",
       "      <td>465</td>\n",
       "      <td>43</td>\n",
       "      <td>0.092473</td>\n",
       "    </tr>\n",
       "    <tr>\n",
       "      <th>53</th>\n",
       "      <td>nationalvanguard.org</td>\n",
       "      <td>353</td>\n",
       "      <td>32</td>\n",
       "      <td>0.090652</td>\n",
       "    </tr>\n",
       "    <tr>\n",
       "      <th>10</th>\n",
       "      <td>barenakedislam.com</td>\n",
       "      <td>67</td>\n",
       "      <td>6</td>\n",
       "      <td>0.089552</td>\n",
       "    </tr>\n",
       "    <tr>\n",
       "      <th>12</th>\n",
       "      <td>breitbart.com</td>\n",
       "      <td>4620</td>\n",
       "      <td>409</td>\n",
       "      <td>0.088528</td>\n",
       "    </tr>\n",
       "    <tr>\n",
       "      <th>85</th>\n",
       "      <td>themuslimissue.wordpress.com</td>\n",
       "      <td>761</td>\n",
       "      <td>67</td>\n",
       "      <td>0.088042</td>\n",
       "    </tr>\n",
       "    <tr>\n",
       "      <th>45</th>\n",
       "      <td>ijr.com</td>\n",
       "      <td>94</td>\n",
       "      <td>8</td>\n",
       "      <td>0.085106</td>\n",
       "    </tr>\n",
       "    <tr>\n",
       "      <th>93</th>\n",
       "      <td>usasupreme.com</td>\n",
       "      <td>119</td>\n",
       "      <td>10</td>\n",
       "      <td>0.084034</td>\n",
       "    </tr>\n",
       "    <tr>\n",
       "      <th>61</th>\n",
       "      <td>patriotpost.us</td>\n",
       "      <td>1351</td>\n",
       "      <td>111</td>\n",
       "      <td>0.082161</td>\n",
       "    </tr>\n",
       "    <tr>\n",
       "      <th>24</th>\n",
       "      <td>darkmoon.me</td>\n",
       "      <td>26</td>\n",
       "      <td>2</td>\n",
       "      <td>0.076923</td>\n",
       "    </tr>\n",
       "    <tr>\n",
       "      <th>51</th>\n",
       "      <td>mrc.org</td>\n",
       "      <td>134</td>\n",
       "      <td>10</td>\n",
       "      <td>0.074627</td>\n",
       "    </tr>\n",
       "    <tr>\n",
       "      <th>38</th>\n",
       "      <td>frontpagemag.com</td>\n",
       "      <td>1249</td>\n",
       "      <td>92</td>\n",
       "      <td>0.073659</td>\n",
       "    </tr>\n",
       "    <tr>\n",
       "      <th>96</th>\n",
       "      <td>vdare.com</td>\n",
       "      <td>1702</td>\n",
       "      <td>118</td>\n",
       "      <td>0.069330</td>\n",
       "    </tr>\n",
       "    <tr>\n",
       "      <th>...</th>\n",
       "      <td>...</td>\n",
       "      <td>...</td>\n",
       "      <td>...</td>\n",
       "      <td>...</td>\n",
       "    </tr>\n",
       "    <tr>\n",
       "      <th>90</th>\n",
       "      <td>usadailytime.com</td>\n",
       "      <td>17</td>\n",
       "      <td>0</td>\n",
       "      <td>0.000000</td>\n",
       "    </tr>\n",
       "    <tr>\n",
       "      <th>98</th>\n",
       "      <td>winningdemocrats.com</td>\n",
       "      <td>1</td>\n",
       "      <td>0</td>\n",
       "      <td>0.000000</td>\n",
       "    </tr>\n",
       "    <tr>\n",
       "      <th>91</th>\n",
       "      <td>usadosenews.com</td>\n",
       "      <td>3</td>\n",
       "      <td>0</td>\n",
       "      <td>0.000000</td>\n",
       "    </tr>\n",
       "    <tr>\n",
       "      <th>95</th>\n",
       "      <td>uspoln.com</td>\n",
       "      <td>2</td>\n",
       "      <td>0</td>\n",
       "      <td>0.000000</td>\n",
       "    </tr>\n",
       "    <tr>\n",
       "      <th>84</th>\n",
       "      <td>thelastgreatstand.com</td>\n",
       "      <td>2</td>\n",
       "      <td>0</td>\n",
       "      <td>0.000000</td>\n",
       "    </tr>\n",
       "    <tr>\n",
       "      <th>0</th>\n",
       "      <td>100percentfedup.com</td>\n",
       "      <td>4</td>\n",
       "      <td>0</td>\n",
       "      <td>0.000000</td>\n",
       "    </tr>\n",
       "    <tr>\n",
       "      <th>50</th>\n",
       "      <td>meanlefthook.com</td>\n",
       "      <td>16</td>\n",
       "      <td>0</td>\n",
       "      <td>0.000000</td>\n",
       "    </tr>\n",
       "    <tr>\n",
       "      <th>77</th>\n",
       "      <td>sonsoflibertyradio.com</td>\n",
       "      <td>1</td>\n",
       "      <td>0</td>\n",
       "      <td>0.000000</td>\n",
       "    </tr>\n",
       "    <tr>\n",
       "      <th>48</th>\n",
       "      <td>jamesrgrangerjr.com</td>\n",
       "      <td>4</td>\n",
       "      <td>0</td>\n",
       "      <td>0.000000</td>\n",
       "    </tr>\n",
       "    <tr>\n",
       "      <th>4</th>\n",
       "      <td>americannewsx.com</td>\n",
       "      <td>20</td>\n",
       "      <td>0</td>\n",
       "      <td>0.000000</td>\n",
       "    </tr>\n",
       "    <tr>\n",
       "      <th>5</th>\n",
       "      <td>americanpatriotdaily.com</td>\n",
       "      <td>7</td>\n",
       "      <td>0</td>\n",
       "      <td>0.000000</td>\n",
       "    </tr>\n",
       "    <tr>\n",
       "      <th>8</th>\n",
       "      <td>angrypatriotmovement.com</td>\n",
       "      <td>12</td>\n",
       "      <td>0</td>\n",
       "      <td>0.000000</td>\n",
       "    </tr>\n",
       "    <tr>\n",
       "      <th>26</th>\n",
       "      <td>dataasylum.com</td>\n",
       "      <td>3</td>\n",
       "      <td>0</td>\n",
       "      <td>0.000000</td>\n",
       "    </tr>\n",
       "    <tr>\n",
       "      <th>28</th>\n",
       "      <td>donaldtrumpnews.co</td>\n",
       "      <td>1</td>\n",
       "      <td>0</td>\n",
       "      <td>0.000000</td>\n",
       "    </tr>\n",
       "    <tr>\n",
       "      <th>34</th>\n",
       "      <td>enhlive.com</td>\n",
       "      <td>2</td>\n",
       "      <td>0</td>\n",
       "      <td>0.000000</td>\n",
       "    </tr>\n",
       "    <tr>\n",
       "      <th>35</th>\n",
       "      <td>flashnewscorner.com</td>\n",
       "      <td>4</td>\n",
       "      <td>0</td>\n",
       "      <td>0.000000</td>\n",
       "    </tr>\n",
       "    <tr>\n",
       "      <th>36</th>\n",
       "      <td>freedomdaily.com</td>\n",
       "      <td>175</td>\n",
       "      <td>0</td>\n",
       "      <td>0.000000</td>\n",
       "    </tr>\n",
       "    <tr>\n",
       "      <th>39</th>\n",
       "      <td>glaringhypocrisy.com</td>\n",
       "      <td>1</td>\n",
       "      <td>0</td>\n",
       "      <td>0.000000</td>\n",
       "    </tr>\n",
       "    <tr>\n",
       "      <th>49</th>\n",
       "      <td>learnprogress.org</td>\n",
       "      <td>9</td>\n",
       "      <td>0</td>\n",
       "      <td>0.000000</td>\n",
       "    </tr>\n",
       "    <tr>\n",
       "      <th>75</th>\n",
       "      <td>sheepkillers.com</td>\n",
       "      <td>2</td>\n",
       "      <td>0</td>\n",
       "      <td>0.000000</td>\n",
       "    </tr>\n",
       "    <tr>\n",
       "      <th>52</th>\n",
       "      <td>nasamoonhoax.com</td>\n",
       "      <td>4</td>\n",
       "      <td>0</td>\n",
       "      <td>0.000000</td>\n",
       "    </tr>\n",
       "    <tr>\n",
       "      <th>55</th>\n",
       "      <td>nodisinfo.com</td>\n",
       "      <td>20</td>\n",
       "      <td>0</td>\n",
       "      <td>0.000000</td>\n",
       "    </tr>\n",
       "    <tr>\n",
       "      <th>57</th>\n",
       "      <td>onepoliticalplaza.com</td>\n",
       "      <td>2</td>\n",
       "      <td>0</td>\n",
       "      <td>0.000000</td>\n",
       "    </tr>\n",
       "    <tr>\n",
       "      <th>58</th>\n",
       "      <td>onlineconservativepress.com</td>\n",
       "      <td>14</td>\n",
       "      <td>0</td>\n",
       "      <td>0.000000</td>\n",
       "    </tr>\n",
       "    <tr>\n",
       "      <th>59</th>\n",
       "      <td>palmerreport.com</td>\n",
       "      <td>23</td>\n",
       "      <td>0</td>\n",
       "      <td>0.000000</td>\n",
       "    </tr>\n",
       "    <tr>\n",
       "      <th>67</th>\n",
       "      <td>readconservatives.news</td>\n",
       "      <td>2</td>\n",
       "      <td>0</td>\n",
       "      <td>0.000000</td>\n",
       "    </tr>\n",
       "    <tr>\n",
       "      <th>68</th>\n",
       "      <td>redcountry.us</td>\n",
       "      <td>2</td>\n",
       "      <td>0</td>\n",
       "      <td>0.000000</td>\n",
       "    </tr>\n",
       "    <tr>\n",
       "      <th>69</th>\n",
       "      <td>redrocktribune.com</td>\n",
       "      <td>23</td>\n",
       "      <td>0</td>\n",
       "      <td>0.000000</td>\n",
       "    </tr>\n",
       "    <tr>\n",
       "      <th>72</th>\n",
       "      <td>rickwells.us</td>\n",
       "      <td>117</td>\n",
       "      <td>0</td>\n",
       "      <td>0.000000</td>\n",
       "    </tr>\n",
       "    <tr>\n",
       "      <th>100</th>\n",
       "      <td>yesimright.com</td>\n",
       "      <td>8</td>\n",
       "      <td>0</td>\n",
       "      <td>0.000000</td>\n",
       "    </tr>\n",
       "  </tbody>\n",
       "</table>\n",
       "<p>101 rows × 4 columns</p>\n",
       "</div>"
      ],
      "text/plain": [
       "                           domain  total  wrong     ratio\n",
       "40                   goneleft.com      2      1  0.500000\n",
       "64                 platosguns.com      3      1  0.333333\n",
       "42                  heartland.org     55     14  0.254545\n",
       "44                        ihr.org     48     11  0.229167\n",
       "14               commondreams.org   1265    274  0.216601\n",
       "81         thefifthcolumnnews.com   1080    233  0.215741\n",
       "2                    alternet.org   1707    345  0.202109\n",
       "56               off-guardian.org     51      9  0.176471\n",
       "54                 newcoldwar.org      6      1  0.166667\n",
       "19               counterpunch.org    665    109  0.163910\n",
       "74             russia-insider.com    497     73  0.146881\n",
       "41             greanvillepost.com    180     26  0.144444\n",
       "88                  truthfeed.com     14      2  0.142857\n",
       "87              thinkprogress.org   5089    713  0.140106\n",
       "21                dailycaller.com   6326    872  0.137844\n",
       "78                   theblaze.com    391     48  0.122762\n",
       "1             21stcenturywire.com    475     50  0.105263\n",
       "33               endingthefed.com    129     12  0.093023\n",
       "9                     antiwar.com    465     43  0.092473\n",
       "53           nationalvanguard.org    353     32  0.090652\n",
       "10             barenakedislam.com     67      6  0.089552\n",
       "12                  breitbart.com   4620    409  0.088528\n",
       "85   themuslimissue.wordpress.com    761     67  0.088042\n",
       "45                        ijr.com     94      8  0.085106\n",
       "93                 usasupreme.com    119     10  0.084034\n",
       "61                 patriotpost.us   1351    111  0.082161\n",
       "24                    darkmoon.me     26      2  0.076923\n",
       "51                        mrc.org    134     10  0.074627\n",
       "38               frontpagemag.com   1249     92  0.073659\n",
       "96                      vdare.com   1702    118  0.069330\n",
       "..                            ...    ...    ...       ...\n",
       "90               usadailytime.com     17      0  0.000000\n",
       "98           winningdemocrats.com      1      0  0.000000\n",
       "91                usadosenews.com      3      0  0.000000\n",
       "95                     uspoln.com      2      0  0.000000\n",
       "84          thelastgreatstand.com      2      0  0.000000\n",
       "0             100percentfedup.com      4      0  0.000000\n",
       "50               meanlefthook.com     16      0  0.000000\n",
       "77         sonsoflibertyradio.com      1      0  0.000000\n",
       "48            jamesrgrangerjr.com      4      0  0.000000\n",
       "4               americannewsx.com     20      0  0.000000\n",
       "5        americanpatriotdaily.com      7      0  0.000000\n",
       "8        angrypatriotmovement.com     12      0  0.000000\n",
       "26                 dataasylum.com      3      0  0.000000\n",
       "28             donaldtrumpnews.co      1      0  0.000000\n",
       "34                    enhlive.com      2      0  0.000000\n",
       "35            flashnewscorner.com      4      0  0.000000\n",
       "36               freedomdaily.com    175      0  0.000000\n",
       "39           glaringhypocrisy.com      1      0  0.000000\n",
       "49              learnprogress.org      9      0  0.000000\n",
       "75               sheepkillers.com      2      0  0.000000\n",
       "52               nasamoonhoax.com      4      0  0.000000\n",
       "55                  nodisinfo.com     20      0  0.000000\n",
       "57          onepoliticalplaza.com      2      0  0.000000\n",
       "58    onlineconservativepress.com     14      0  0.000000\n",
       "59               palmerreport.com     23      0  0.000000\n",
       "67         readconservatives.news      2      0  0.000000\n",
       "68                  redcountry.us      2      0  0.000000\n",
       "69             redrocktribune.com     23      0  0.000000\n",
       "72                   rickwells.us    117      0  0.000000\n",
       "100                yesimright.com      8      0  0.000000\n",
       "\n",
       "[101 rows x 4 columns]"
      ]
     },
     "execution_count": 271,
     "metadata": {},
     "output_type": "execute_result"
    }
   ],
   "source": [
    "unreliable_test_counts['wrong'] = full_false_neg_counts\n",
    "unreliable_test_counts['ratio'] = unreliable_test_counts['wrong'] / unreliable_test_counts['total']\n",
    "unreliable_test_counts.sort_values(by='ratio', ascending=False)"
   ]
  },
  {
   "cell_type": "code",
   "execution_count": 272,
   "metadata": {},
   "outputs": [
    {
     "data": {
      "text/html": [
       "<div>\n",
       "<style scoped>\n",
       "    .dataframe tbody tr th:only-of-type {\n",
       "        vertical-align: middle;\n",
       "    }\n",
       "\n",
       "    .dataframe tbody tr th {\n",
       "        vertical-align: top;\n",
       "    }\n",
       "\n",
       "    .dataframe thead th {\n",
       "        text-align: right;\n",
       "    }\n",
       "</style>\n",
       "<table border=\"1\" class=\"dataframe\">\n",
       "  <thead>\n",
       "    <tr style=\"text-align: right;\">\n",
       "      <th></th>\n",
       "      <th>domain</th>\n",
       "      <th>total</th>\n",
       "      <th>wrong</th>\n",
       "      <th>ratio</th>\n",
       "    </tr>\n",
       "  </thead>\n",
       "  <tbody>\n",
       "    <tr>\n",
       "      <th>22</th>\n",
       "      <td>dailykos.com</td>\n",
       "      <td>8292</td>\n",
       "      <td>338</td>\n",
       "      <td>0.040762</td>\n",
       "    </tr>\n",
       "  </tbody>\n",
       "</table>\n",
       "</div>"
      ],
      "text/plain": [
       "          domain  total  wrong     ratio\n",
       "22  dailykos.com   8292    338  0.040762"
      ]
     },
     "execution_count": 272,
     "metadata": {},
     "output_type": "execute_result"
    }
   ],
   "source": [
    "unreliable_test_counts[unreliable_test_counts['domain'] == 'dailykos.com']"
   ]
  },
  {
   "cell_type": "code",
   "execution_count": null,
   "metadata": {
    "collapsed": true
   },
   "outputs": [],
   "source": []
  }
 ],
 "metadata": {
  "kernelspec": {
   "display_name": "Python 3",
   "language": "python",
   "name": "python3"
  },
  "language_info": {
   "codemirror_mode": {
    "name": "ipython",
    "version": 3
   },
   "file_extension": ".py",
   "mimetype": "text/x-python",
   "name": "python",
   "nbconvert_exporter": "python",
   "pygments_lexer": "ipython3",
   "version": "3.6.8"
  }
 },
 "nbformat": 4,
 "nbformat_minor": 2
}
