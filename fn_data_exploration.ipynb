{
 "cells": [
  {
   "cell_type": "code",
   "execution_count": 1,
   "metadata": {
    "collapsed": true
   },
   "outputs": [],
   "source": [
    "import pandas as pd\n",
    "import numpy as np\n",
    "import matplotlib.pyplot as plt\n",
    "import seaborn as sns\n",
    "import pickle\n",
    "\n",
    "%matplotlib inline"
   ]
  },
  {
   "cell_type": "code",
   "execution_count": 2,
   "metadata": {
    "collapsed": true
   },
   "outputs": [],
   "source": [
    "reliable = pickle.load( open('data_final/baseline/reliable_string.pkl', 'rb') )\n",
    "unreliable = pickle.load( open('data_final/baseline/unreliable_string.pkl', 'rb') )"
   ]
  },
  {
   "cell_type": "code",
   "execution_count": 19,
   "metadata": {},
   "outputs": [
    {
     "data": {
      "text/html": [
       "<div>\n",
       "<style scoped>\n",
       "    .dataframe tbody tr th:only-of-type {\n",
       "        vertical-align: middle;\n",
       "    }\n",
       "\n",
       "    .dataframe tbody tr th {\n",
       "        vertical-align: top;\n",
       "    }\n",
       "\n",
       "    .dataframe thead th {\n",
       "        text-align: right;\n",
       "    }\n",
       "</style>\n",
       "<table border=\"1\" class=\"dataframe\">\n",
       "  <thead>\n",
       "    <tr style=\"text-align: right;\">\n",
       "      <th></th>\n",
       "      <th>domain</th>\n",
       "      <th>content</th>\n",
       "      <th>label</th>\n",
       "    </tr>\n",
       "    <tr>\n",
       "      <th>id</th>\n",
       "      <th></th>\n",
       "      <th></th>\n",
       "      <th></th>\n",
       "    </tr>\n",
       "  </thead>\n",
       "  <tbody>\n",
       "    <tr>\n",
       "      <th>160</th>\n",
       "      <td>baptistnews.com</td>\n",
       "      <td>Massive fail Like many others I have anticipat...</td>\n",
       "      <td>1</td>\n",
       "    </tr>\n",
       "    <tr>\n",
       "      <th>161</th>\n",
       "      <td>baptistnews.com</td>\n",
       "      <td>Surely the work of Christians is more than sim...</td>\n",
       "      <td>1</td>\n",
       "    </tr>\n",
       "    <tr>\n",
       "      <th>185</th>\n",
       "      <td>baptistnews.com</td>\n",
       "      <td>Survivors may be grateful for the good fortune...</td>\n",
       "      <td>1</td>\n",
       "    </tr>\n",
       "    <tr>\n",
       "      <th>187</th>\n",
       "      <td>baptistnews.com</td>\n",
       "      <td>I did pass even making an A but only because I...</td>\n",
       "      <td>1</td>\n",
       "    </tr>\n",
       "    <tr>\n",
       "      <th>188</th>\n",
       "      <td>baptistnews.com</td>\n",
       "      <td>We have been ogled called quote touched withou...</td>\n",
       "      <td>1</td>\n",
       "    </tr>\n",
       "  </tbody>\n",
       "</table>\n",
       "</div>"
      ],
      "text/plain": [
       "              domain                                            content  label\n",
       "id                                                                            \n",
       "160  baptistnews.com  Massive fail Like many others I have anticipat...      1\n",
       "161  baptistnews.com  Surely the work of Christians is more than sim...      1\n",
       "185  baptistnews.com  Survivors may be grateful for the good fortune...      1\n",
       "187  baptistnews.com  I did pass even making an A but only because I...      1\n",
       "188  baptistnews.com  We have been ogled called quote touched withou...      1"
      ]
     },
     "execution_count": 19,
     "metadata": {},
     "output_type": "execute_result"
    }
   ],
   "source": [
    "reliable = reliable.set_index('id')\n",
    "reliable['content'] = reliable['content'].apply(lambda x: x[0])  # Each content string is a one-item list\n",
    "reliable['label'] = 1\n",
    "reliable.head()"
   ]
  },
  {
   "cell_type": "code",
   "execution_count": 20,
   "metadata": {
    "scrolled": true
   },
   "outputs": [
    {
     "data": {
      "text/html": [
       "<div>\n",
       "<style scoped>\n",
       "    .dataframe tbody tr th:only-of-type {\n",
       "        vertical-align: middle;\n",
       "    }\n",
       "\n",
       "    .dataframe tbody tr th {\n",
       "        vertical-align: top;\n",
       "    }\n",
       "\n",
       "    .dataframe thead th {\n",
       "        text-align: right;\n",
       "    }\n",
       "</style>\n",
       "<table border=\"1\" class=\"dataframe\">\n",
       "  <thead>\n",
       "    <tr style=\"text-align: right;\">\n",
       "      <th></th>\n",
       "      <th>domain</th>\n",
       "      <th>content</th>\n",
       "      <th>label</th>\n",
       "    </tr>\n",
       "    <tr>\n",
       "      <th>id</th>\n",
       "      <th></th>\n",
       "      <th></th>\n",
       "      <th></th>\n",
       "    </tr>\n",
       "  </thead>\n",
       "  <tbody>\n",
       "    <tr>\n",
       "      <th>158</th>\n",
       "      <td>wnd.com</td>\n",
       "      <td>The protest in date was part of a project by t...</td>\n",
       "      <td>0</td>\n",
       "    </tr>\n",
       "    <tr>\n",
       "      <th>841</th>\n",
       "      <td>wnd.com</td>\n",
       "      <td>The protest in date was part of a project by t...</td>\n",
       "      <td>0</td>\n",
       "    </tr>\n",
       "    <tr>\n",
       "      <th>950</th>\n",
       "      <td>wnd.com</td>\n",
       "      <td>The appeals court found that the ordinance vio...</td>\n",
       "      <td>0</td>\n",
       "    </tr>\n",
       "    <tr>\n",
       "      <th>951</th>\n",
       "      <td>wnd.com</td>\n",
       "      <td>The organization primary in place is date pers...</td>\n",
       "      <td>0</td>\n",
       "    </tr>\n",
       "    <tr>\n",
       "      <th>1220</th>\n",
       "      <td>wnd.com</td>\n",
       "      <td>Feminism is the hub of communism Marxism socia...</td>\n",
       "      <td>0</td>\n",
       "    </tr>\n",
       "  </tbody>\n",
       "</table>\n",
       "</div>"
      ],
      "text/plain": [
       "       domain                                            content  label\n",
       "id                                                                     \n",
       "158   wnd.com  The protest in date was part of a project by t...      0\n",
       "841   wnd.com  The protest in date was part of a project by t...      0\n",
       "950   wnd.com  The appeals court found that the ordinance vio...      0\n",
       "951   wnd.com  The organization primary in place is date pers...      0\n",
       "1220  wnd.com  Feminism is the hub of communism Marxism socia...      0"
      ]
     },
     "execution_count": 20,
     "metadata": {},
     "output_type": "execute_result"
    }
   ],
   "source": [
    "unreliable = unreliable.set_index('id')\n",
    "unreliable['content'] = unreliable['content'].apply(lambda x: x[0])  # Each content string is a one-item list\n",
    "unreliable['label'] = 0\n",
    "unreliable.head()"
   ]
  },
  {
   "cell_type": "code",
   "execution_count": 153,
   "metadata": {
    "collapsed": true
   },
   "outputs": [],
   "source": [
    "data = reliable.drop('domain', axis=1).append(unreliable.drop('domain', axis = 1))"
   ]
  },
  {
   "cell_type": "code",
   "execution_count": 154,
   "metadata": {
    "collapsed": true
   },
   "outputs": [],
   "source": [
    "from sklearn.model_selection import train_test_split\n",
    "from sklearn.feature_extraction.text import CountVectorizer, TfidfVectorizer"
   ]
  },
  {
   "cell_type": "code",
   "execution_count": 155,
   "metadata": {
    "collapsed": true
   },
   "outputs": [],
   "source": [
    "X_train, X_test, y_train, y_test = train_test_split(data['content'], data['label'], test_size=0.3, stratify=data['label'],\n",
    "                                                    random_state=77)"
   ]
  },
  {
   "cell_type": "code",
   "execution_count": 156,
   "metadata": {},
   "outputs": [
    {
     "data": {
      "text/plain": [
       "CountVectorizer(analyzer='word', binary=False, decode_error='ignore',\n",
       "        dtype=<class 'numpy.int64'>, encoding='utf-8', input='content',\n",
       "        lowercase=True, max_df=0.9, max_features=None, min_df=0.1,\n",
       "        ngram_range=(1, 1), preprocessor=None, stop_words=None,\n",
       "        strip_accents='unicode', token_pattern='(?u)\\\\b\\\\w\\\\w+\\\\b',\n",
       "        tokenizer=None, vocabulary=None)"
      ]
     },
     "execution_count": 156,
     "metadata": {},
     "output_type": "execute_result"
    }
   ],
   "source": [
    "counter = CountVectorizer(decode_error='ignore', strip_accents='unicode', min_df=0.1, max_df=0.9)\n",
    "counter.fit(X_train)"
   ]
  },
  {
   "cell_type": "code",
   "execution_count": 157,
   "metadata": {},
   "outputs": [
    {
     "data": {
      "text/plain": [
       "242"
      ]
     },
     "execution_count": 157,
     "metadata": {},
     "output_type": "execute_result"
    }
   ],
   "source": [
    "len(list(counter.vocabulary_))"
   ]
  },
  {
   "cell_type": "code",
   "execution_count": 158,
   "metadata": {},
   "outputs": [
    {
     "data": {
      "text/plain": [
       "CountVectorizer(analyzer='word', binary=False, decode_error='ignore',\n",
       "        dtype=<class 'numpy.int64'>, encoding='utf-8', input='content',\n",
       "        lowercase=True, max_df=0.995, max_features=None, min_df=0.005,\n",
       "        ngram_range=(1, 1), preprocessor=None, stop_words=None,\n",
       "        strip_accents='unicode', token_pattern='(?u)\\\\b\\\\w\\\\w+\\\\b',\n",
       "        tokenizer=None, vocabulary=None)"
      ]
     },
     "execution_count": 158,
     "metadata": {},
     "output_type": "execute_result"
    }
   ],
   "source": [
    "counter = CountVectorizer(decode_error='ignore', strip_accents='unicode', min_df=0.005, max_df=0.995)\n",
    "counter.fit(data['content'])"
   ]
  },
  {
   "cell_type": "code",
   "execution_count": 159,
   "metadata": {},
   "outputs": [
    {
     "data": {
      "text/plain": [
       "4712"
      ]
     },
     "execution_count": 159,
     "metadata": {},
     "output_type": "execute_result"
    }
   ],
   "source": [
    "len(list(counter.vocabulary_))"
   ]
  },
  {
   "cell_type": "code",
   "execution_count": 160,
   "metadata": {
    "collapsed": true
   },
   "outputs": [],
   "source": [
    "train_vecs = counter.transform(X_train)\n",
    "test_vecs = counter.transform(X_test)"
   ]
  },
  {
   "cell_type": "code",
   "execution_count": 57,
   "metadata": {},
   "outputs": [],
   "source": [
    "rows = [count_vectors.getrow(i) for i in range(len(data))]"
   ]
  },
  {
   "cell_type": "code",
   "execution_count": 59,
   "metadata": {},
   "outputs": [],
   "source": [
    "data['count_vectors'] = rows"
   ]
  },
  {
   "cell_type": "code",
   "execution_count": 161,
   "metadata": {},
   "outputs": [
    {
     "data": {
      "text/plain": [
       "<function matplotlib.pyplot.show>"
      ]
     },
     "execution_count": 161,
     "metadata": {},
     "output_type": "execute_result"
    },
    {
     "data": {
      "image/png": "[encoded data removed]",
      "text/plain": [
       "<matplotlib.figure.Figure at 0x1a2902f2b0>"
      ]
     },
     "metadata": {},
     "output_type": "display_data"
    }
   ],
   "source": [
    "counts = train_vecs.getnnz(axis=0) # Any number of occurences in the same document is counted as 1, otherwise 0\n",
    "min_count = counts.min()\n",
    "max_count = counts.max()\n",
    "logbins = np.geomspace(min_count, max_count, 30)\n",
    "plt.hist(list(counts), bins=logbins)\n",
    "plt.xscale('log')\n",
    "plt.title('Distribution of word frequencies by document', size=12)\n",
    "plt.xlabel('Number of docs word appears in')\n",
    "plt.ylabel('Number of words')\n",
    "plt.show"
   ]
  },
  {
   "cell_type": "markdown",
   "metadata": {},
   "source": [
    "The great majority of the 12,000+ words of interest appear in 10,000 or fewer documents, the area to the left of the $10^4$ mark on the x-axis."
   ]
  },
  {
   "cell_type": "code",
   "execution_count": 162,
   "metadata": {},
   "outputs": [
    {
     "data": {
      "image/png": "[encoded data removed]",
      "text/plain": [
       "<matplotlib.figure.Figure at 0x1aed8f4160>"
      ]
     },
     "metadata": {},
     "output_type": "display_data"
    }
   ],
   "source": [
    "train_lengths = np.ravel(train_vecs.sum(axis=1))\n",
    "plt.hist(train_lengths, bins=25)\n",
    "plt.title('')\n",
    "plt.show()"
   ]
  },
  {
   "cell_type": "markdown",
   "metadata": {},
   "source": [
    "Relatively few, less than 10,000 or so, of the truncated articles have less than 100 or more than 700 words of interest. This combined with the previous graphic indicates that a simple bag-of-words approach could work reasonably well. This also means that limiting sentence length to 30 in the hierarchichal attention network will result in very little loss of content."
   ]
  },
  {
   "cell_type": "code",
   "execution_count": 163,
   "metadata": {},
   "outputs": [
    {
     "name": "stdout",
     "output_type": "stream",
     "text": [
      "0 1253\n"
     ]
    }
   ],
   "source": [
    "print(train_lengths.min(), train_lengths.max())"
   ]
  },
  {
   "cell_type": "code",
   "execution_count": 164,
   "metadata": {},
   "outputs": [
    {
     "data": {
      "text/plain": [
       "104"
      ]
     },
     "execution_count": 164,
     "metadata": {},
     "output_type": "execute_result"
    }
   ],
   "source": [
    "train_nulls = [i for i, v in enumerate(train_lengths) if v == 0]\n",
    "len(train_nulls)"
   ]
  },
  {
   "cell_type": "markdown",
   "metadata": {},
   "source": [
    "Apparently, some of the processed articles have no words of interest. As such, these are indeterminate and should not be included in the data."
   ]
  },
  {
   "cell_type": "code",
   "execution_count": 169,
   "metadata": {},
   "outputs": [
    {
     "data": {
      "text/plain": [
       "43"
      ]
     },
     "execution_count": 169,
     "metadata": {},
     "output_type": "execute_result"
    }
   ],
   "source": [
    "train_mask = np.ones(train_vecs.shape[0], dtype=bool)  # Remove null articles and their labels from the training set\n",
    "train_mask[train_nulls] = False\n",
    "train_vecs = train_vecs[train_mask]\n",
    "y_train = y_train[train_mask]\n",
    "\n",
    "test_lengths = np.ravel(test_vecs.sum(axis=1)) # Check test set for nulls\n",
    "test_nulls = [i for i, v in enumerate(test_lengths) if v == 0]\n",
    "len(test_nulls)"
   ]
  },
  {
   "cell_type": "code",
   "execution_count": 171,
   "metadata": {},
   "outputs": [],
   "source": [
    "test_mask = np.ones(test_vecs.shape[0], dtype=bool)  \n",
    "test_mask[test_nulls] = False\n",
    "test_vecs = test_vecs[test_mask]\n",
    "y_test = y_test[test_mask]"
   ]
  },
  {
   "cell_type": "code",
   "execution_count": 174,
   "metadata": {},
   "outputs": [
    {
     "data": {
      "text/plain": [
       "447999"
      ]
     },
     "execution_count": 174,
     "metadata": {},
     "output_type": "execute_result"
    }
   ],
   "source": [
    "len(y_train)"
   ]
  },
  {
   "cell_type": "code",
   "execution_count": 175,
   "metadata": {},
   "outputs": [
    {
     "data": {
      "text/plain": [
       "447999"
      ]
     },
     "execution_count": 175,
     "metadata": {},
     "output_type": "execute_result"
    }
   ],
   "source": [
    "y_train.shape[0]"
   ]
  },
  {
   "cell_type": "markdown",
   "metadata": {},
   "source": [
    "Based on the article cited in the scikit-learn documentation (*Spam Filtering with Naive Bayes -- Which Naive Bayes?* by Vangelis Metsis, et al.), the multinomial Naive Bayes classifier with Boolean feature counts will be used. The paper is dated, published in 2006, but the algorithms have long been in use. A more sophisticted tf-idf approach also will be used with Naive Bayes and logistic regression classifiers in determining the best baseline model. "
   ]
  },
  {
   "cell_type": "code",
   "execution_count": 194,
   "metadata": {
    "collapsed": true
   },
   "outputs": [],
   "source": [
    "from sklearn.naive_bayes import MultinomialNB\n",
    "from sklearn.linear_model import LogisticRegression\n",
    "from sklearn.model_selection import cross_validate"
   ]
  },
  {
   "cell_type": "code",
   "execution_count": 179,
   "metadata": {},
   "outputs": [],
   "source": [
    "train_bool = train_vecs.astype(bool)\n",
    "test_bool = test_vecs.astype(bool)"
   ]
  },
  {
   "cell_type": "code",
   "execution_count": 196,
   "metadata": {
    "collapsed": true
   },
   "outputs": [],
   "source": [
    "MNB = MultinomialNB()"
   ]
  },
  {
   "cell_type": "code",
   "execution_count": 193,
   "metadata": {},
   "outputs": [
    {
     "data": {
      "text/plain": [
       "{'fit_time': array([ 0.91121817,  0.849334  ,  0.82035708]),\n",
       " 'score_time': array([ 0.4035511 ,  0.36255193,  0.36588812]),\n",
       " 'test_f1': array([ 0.71967364,  0.71786256,  0.71978458]),\n",
       " 'test_precision': array([ 0.85489755,  0.85615689,  0.85910678])}"
      ]
     },
     "execution_count": 193,
     "metadata": {},
     "output_type": "execute_result"
    }
   ],
   "source": [
    "cross_validate(MNB, X=train_bool, y=y_train, cv=3, scoring=['f1', 'precision'], return_train_score=False)"
   ]
  },
  {
   "cell_type": "markdown",
   "metadata": {},
   "source": [
    "The precision score is respectable, showing that relatively few unreliable articles are being classified as reliable. But the significantly lower f1 score shows that a high percentage of reliable articles are being misclassified as unreliable. Precision is more important in this case, but there is a lot of room for improvement."
   ]
  },
  {
   "cell_type": "code",
   "execution_count": 195,
   "metadata": {
    "collapsed": true
   },
   "outputs": [],
   "source": [
    "from sklearn.feature_extraction.text import TfidfTransformer\n",
    "tfidf = TfidfTransformer()"
   ]
  },
  {
   "cell_type": "code",
   "execution_count": 198,
   "metadata": {},
   "outputs": [
    {
     "data": {
      "text/plain": [
       "{'fit_time': array([ 0.95875287,  0.91884899,  0.91789913]),\n",
       " 'score_time': array([ 0.20963907,  0.21117806,  0.20758605]),\n",
       " 'test_f1': array([ 0.69853684,  0.69785068,  0.69949205]),\n",
       " 'test_precision': array([ 0.86948196,  0.87118372,  0.87252017])}"
      ]
     },
     "execution_count": 198,
     "metadata": {},
     "output_type": "execute_result"
    }
   ],
   "source": [
    "cross_validate(MNB, X=tfidf.fit_transform(train_vecs), y=y_train, cv=3, scoring=['f1', 'precision'],\n",
    "               return_train_score=False)"
   ]
  },
  {
   "cell_type": "markdown",
   "metadata": {},
   "source": [
    "For the multinomial Naive Bayes model using tf-idf vectorization, precision increased, but f1 decreased, hence no real improvement."
   ]
  },
  {
   "cell_type": "code",
   "execution_count": 205,
   "metadata": {
    "collapsed": true
   },
   "outputs": [],
   "source": [
    "lr = LogisticRegression(solver='sag', max_iter=200)"
   ]
  },
  {
   "cell_type": "code",
   "execution_count": 206,
   "metadata": {},
   "outputs": [
    {
     "name": "stderr",
     "output_type": "stream",
     "text": [
      "/Users/vince/anaconda/envs/thinkful/lib/python3.6/site-packages/sklearn/linear_model/sag.py:334: ConvergenceWarning: The max_iter was reached which means the coef_ did not converge\n",
      "  \"the coef_ did not converge\", ConvergenceWarning)\n"
     ]
    },
    {
     "data": {
      "text/plain": [
       "{'fit_time': array([ 122.67330098,  120.9482069 ,  120.88513994]),\n",
       " 'score_time': array([ 0.30912614,  0.30594206,  0.29783106]),\n",
       " 'test_f1': array([ 0.82411227,  0.82054026,  0.82335354]),\n",
       " 'test_precision': array([ 0.84377061,  0.8410203 ,  0.84362441])}"
      ]
     },
     "execution_count": 206,
     "metadata": {},
     "output_type": "execute_result"
    }
   ],
   "source": [
    "cross_validate(lr, X=train_bool, y=y_train, cv=3, scoring=['f1', 'precision'], return_train_score=False)"
   ]
  },
  {
   "cell_type": "code",
   "execution_count": 207,
   "metadata": {},
   "outputs": [
    {
     "data": {
      "text/plain": [
       "{'fit_time': array([ 12.77375269,  11.56666207,  12.09868622]),\n",
       " 'score_time': array([ 0.13476419,  0.12797284,  0.13610077]),\n",
       " 'test_f1': array([ 0.82807909,  0.82561246,  0.82715078]),\n",
       " 'test_precision': array([ 0.84526649,  0.84287488,  0.84531283])}"
      ]
     },
     "execution_count": 207,
     "metadata": {},
     "output_type": "execute_result"
    }
   ],
   "source": [
    "cross_validate(lr, X=tfidf.fit_transform(train_vecs), y=y_train, cv=3, scoring=['f1', 'precision'],\n",
    "               return_train_score=False)"
   ]
  },
  {
   "cell_type": "code",
   "execution_count": null,
   "metadata": {
    "collapsed": true
   },
   "outputs": [],
   "source": []
  }
 ],
 "metadata": {
  "kernelspec": {
   "display_name": "Python 3",
   "language": "python",
   "name": "python3"
  },
  "language_info": {
   "codemirror_mode": {
    "name": "ipython",
    "version": 3
   },
   "file_extension": ".py",
   "mimetype": "text/x-python",
   "name": "python",
   "nbconvert_exporter": "python",
   "pygments_lexer": "ipython3",
   "version": "3.6.8"
  }
 },
 "nbformat": 4,
 "nbformat_minor": 2
}
