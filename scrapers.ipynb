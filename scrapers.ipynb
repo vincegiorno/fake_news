{
 "cells": [
  {
   "cell_type": "code",
   "execution_count": 1,
   "metadata": {
    "collapsed": true
   },
   "outputs": [],
   "source": [
    "import scrapy\n",
    "import re\n",
    "from scrapy.crawler import CrawlerProcess\n",
    "import datetime"
   ]
  },
  {
   "cell_type": "code",
   "execution_count": 2,
   "metadata": {},
   "outputs": [],
   "source": [
    "date = datetime.datetime.today().strftime('%Y%m%d')"
   ]
  },
  {
   "cell_type": "code",
   "execution_count": 3,
   "metadata": {},
   "outputs": [],
   "source": [
    "class APSpider(scrapy.Spider):\n",
    "    name = 'Associated Press'\n",
    "    uri = 'data/ap_{}.json'.format(date)\n",
    "    custom_settings = {'FEED_URI': uri}\n",
    "    start_urls = ['https://www.apnews.com']\n",
    "    \n",
    "    def parse(self, response):\n",
    "        for link in response.xpath('//a[@class=\"main-story-extract\" or @class=\"content-container\"]/@href').extract():\n",
    "            article_id = link\n",
    "            link = response.urljoin(link)\n",
    "            yield scrapy.Request(link, callback=self.parse_article, meta={'article_id': article_id})\n",
    "            \n",
    "    def parse_article(self, response):\n",
    "        article= ''\n",
    "        for para in response.xpath('//div[@class=\"Article\"]/p/text()').extract():\n",
    "            if para.count('\\u201c') == para.count('\\u201d'):\n",
    "                article = article + para + ' '\n",
    "        yield {\n",
    "            'id': response.meta['article_id'],\n",
    "            'article': article.strip()\n",
    "        }"
   ]
  },
  {
   "cell_type": "code",
   "execution_count": 4,
   "metadata": {
    "collapsed": true
   },
   "outputs": [],
   "source": [
    "class ReutSpider(scrapy.Spider):\n",
    "    name = 'Reuters'\n",
    "    uri = 'data/reut_{}.json'.format(date)\n",
    "    custom_settings = {'FEED_URI': uri}\n",
    "    \n",
    "    start_urls = ['https://www.reuters.com']\n",
    "    \n",
    "    def parse(self, response):\n",
    "        for link in response.xpath('//h3[@class=\"article-heading\"]/a/@href | h2[@class=\"story-title\"]/a/@href').extract():\n",
    "            link = response.urljoin(link)\n",
    "            article_id = link\n",
    "            yield scrapy.Request(link, callback=self.parse_article, meta={'article_id': article_id})\n",
    "        \n",
    "    def parse_article(self, response):\n",
    "        article= ''\n",
    "        for para in response.xpath('//div[@class=\"StandardArticleBody_body\"]/p/text()').extract():\n",
    "            if para.count('\\u201c') == para.count('\\u201d'):\n",
    "                article = article + para + ' '\n",
    "        yield {\n",
    "            'id': response.meta['article_id'],\n",
    "            'article': article.strip()\n",
    "        }"
   ]
  },
  {
   "cell_type": "code",
   "execution_count": 5,
   "metadata": {
    "collapsed": true
   },
   "outputs": [],
   "source": [
    "class CSMSpider(scrapy.Spider):\n",
    "    name = 'Christian Science Monitor'\n",
    "    uri = 'data/csm_{}.json'.format(date)\n",
    "    custom_settings = {'FEED_URI': uri}\n",
    "    \n",
    "    start_urls = ['https://www.csmonitor.com/USA']\n",
    "    \n",
    "    def parse(self, response):\n",
    "        for link in response.xpath('//h3[@class=\"story_headline\"]/a[not(@title=\"ID  jtPhotos\")]/@href').extract():\n",
    "            link = response.urljoin(link)\n",
    "            article_id = link\n",
    "            if \"csmlists\" not in link and \"Photo-Galleries\" not in link:\n",
    "                yield scrapy.Request(link, callback=self.parse_article, meta={'article_id': article_id})\n",
    "        \n",
    "    def parse_article(self, response):\n",
    "        article= ''\n",
    "        for para in response.xpath('//p/text()').extract():\n",
    "            if para.count('\\u201c') == para.count('\\u201d'):\n",
    "                article = article + para + ' '\n",
    "        yield {\n",
    "            'id': response.meta['article_id'],\n",
    "            'article': article.strip()\n",
    "        }"
   ]
  },
  {
   "cell_type": "code",
   "execution_count": 6,
   "metadata": {},
   "outputs": [
    {
     "name": "stdout",
     "output_type": "stream",
     "text": [
      "Success!\n"
     ]
    }
   ],
   "source": [
    "process = CrawlerProcess({\n",
    "    'FEED_FORMAT': 'json',\n",
    "    'LOG_ENABLED': False,\n",
    "    'AUTOTHROTTLE_ENABLED': True,\n",
    "    'HTTPCACHE_ENABLED': True,\n",
    "    'ROBOTSTXT_OBEY': True,\n",
    "    'USER_AGENT': 'Vince Giorno (Thinkful Data Science Bootcamp)' \n",
    "})\n",
    "\n",
    "process.crawl(APSpider)\n",
    "process.crawl(ReutSpider)\n",
    "process.crawl(CSMSpider)\n",
    "process.start()\n",
    "print('Success!')"
   ]
  }
 ],
 "metadata": {
  "kernelspec": {
   "display_name": "Python 3",
   "language": "python",
   "name": "python3"
  },
  "language_info": {
   "codemirror_mode": {
    "name": "ipython",
    "version": 3
   },
   "file_extension": ".py",
   "mimetype": "text/x-python",
   "name": "python",
   "nbconvert_exporter": "python",
   "pygments_lexer": "ipython3",
   "version": "3.6.2"
  }
 },
 "nbformat": 4,
 "nbformat_minor": 2
}
