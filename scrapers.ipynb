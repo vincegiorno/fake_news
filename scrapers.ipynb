{
 "cells": [
  {
   "cell_type": "code",
   "execution_count": 1,
   "metadata": {
    "collapsed": true
   },
   "outputs": [],
   "source": [
    "import scrapy\n",
    "import re\n",
    "from scrapy.crawler import CrawlerProcess\n",
    "import datetime"
   ]
  },
  {
   "cell_type": "code",
   "execution_count": 2,
   "metadata": {},
   "outputs": [],
   "source": [
    "date = datetime.datetime.today().strftime('%Y%m%d')"
   ]
  },
  {
   "cell_type": "code",
   "execution_count": 3,
   "metadata": {},
   "outputs": [],
   "source": [
    "class APSpider(scrapy.Spider):\n",
    "    name = 'Associated Press'\n",
    "    uri = 'data/ap_{}.json'.format(date)\n",
    "    custom_settings = {'FEED_URI': uri}\n",
    "    start_urls = ['https://www.apnews.com']\n",
    "    \n",
    "    def parse(self, response):\n",
    "        for link in response.xpath('//a[@class=\"main-story-extract\" or @class=\"content-container\"]/@href').extract():\n",
    "            link = response.urljoin(link)\n",
    "            yield scrapy.Request(link, callback=self.parse_article, meta={'article_id': link})\n",
    "            \n",
    "    def parse_article(self, response):\n",
    "        article= ''\n",
    "        for para in response.xpath('//div[@class=\"Article\"]/p//text()').extract():\n",
    "            if (not '___' in para and not 'AP\\u2019' in para and not 'AP ' in para and not 'http' in para\n",
    "                and not 'Associated Press' in para and para.count('\\u201c') == para.count('\\u201d') \n",
    "                and para.count('\"') % 2 == 0):\n",
    "                article = article + para + ' '\n",
    "        yield {\n",
    "            'id': response.meta['article_id'],\n",
    "            'article': article.strip()\n",
    "        }"
   ]
  },
  {
   "cell_type": "code",
   "execution_count": 4,
   "metadata": {
    "collapsed": true
   },
   "outputs": [],
   "source": [
    "class ReutSpider(scrapy.Spider):\n",
    "    name = 'Reuters'\n",
    "    uri = 'data/reut_{}.json'.format(date)\n",
    "    custom_settings = {'FEED_URI': uri}\n",
    "    \n",
    "    start_urls = ['https://www.reuters.com']\n",
    "    \n",
    "    def parse(self, response):\n",
    "        for link in response.xpath('//h3[@class=\"article-heading\"]/a/@href | h2[@class=\"story-title\"]/a/@href').extract():\n",
    "            link = response.urljoin(link)\n",
    "            yield scrapy.Request(link, callback=self.parse_article, meta={'article_id': link})\n",
    "        \n",
    "    def parse_article(self, response):\n",
    "        article= ''\n",
    "        for para in response.xpath('//div[@class=\"StandardArticleBody_body\"]/p//text()').extract():\n",
    "            if \"tmsnrt\" not in para and para.count('\\u201c') == para.count('\\u201d') and para.count('\"') % 2 == 0:\n",
    "                article = article + para + ' '\n",
    "        yield {\n",
    "            'id': response.meta['article_id'],\n",
    "            'article': article.strip()\n",
    "        }"
   ]
  },
  {
   "cell_type": "code",
   "execution_count": 5,
   "metadata": {},
   "outputs": [],
   "source": [
    "class CSMSpider(scrapy.Spider):\n",
    "    name = 'Christian Science Monitor'\n",
    "    uri = 'data/csm_{}.json'.format(date)\n",
    "    custom_settings = {'FEED_URI': uri}\n",
    "    \n",
    "    start_urls = ['https://www.csmonitor.com/USA']\n",
    "    \n",
    "    def parse(self, response):\n",
    "        for link in response.xpath('//h3[@class=\"story_headline\"]/a/@href').extract():\n",
    "            link = response.urljoin(link)\n",
    "            if \"csmlists\" not in link and \"Photo-Galleries\" not in link:\n",
    "                yield scrapy.Request(link, callback=self.parse_article, meta={'article_id': link})\n",
    "        \n",
    "    def parse_article(self, response):\n",
    "        article= ''\n",
    "        for para in response.xpath('//p[not(@id=\"contact-dialog-text\")]//text()').extract():\n",
    "            if ('Link copied' in para or 'Get unlimited' in para or 'Log in' in para or 'Less noise' in para\n",
    "                or 'Already a Monitor' in para or 'unlimited digital access' in para\n",
    "                or para.count('\\u201c') != para.count('\\u201d') or para.count('\"') % 2 != 0):\n",
    "                continue\n",
    "            article = article + para + ' '\n",
    "        yield {\n",
    "            'id': response.meta['article_id'],\n",
    "            'article': article.strip()\n",
    "        }"
   ]
  },
  {
   "cell_type": "code",
   "execution_count": 6,
   "metadata": {
    "collapsed": true
   },
   "outputs": [],
   "source": [
    "class NPRSpider(scrapy.Spider):\n",
    "    name = 'National Public Radio'\n",
    "    uri = 'data/npr_{}.json'.format(date)\n",
    "    custom_settings = {'FEED_URI': uri}\n",
    "    \n",
    "    start_urls = ['https://www.npr.org/sections/news']\n",
    "    \n",
    "    def parse(self, response):\n",
    "        for link in response.xpath('//h2[@class=\"title\"]/a/@href').extract():\n",
    "            yield scrapy.Request(link, callback=self.parse_article, meta={'article_id': link})\n",
    "        \n",
    "    def parse_article(self, response):\n",
    "        article= ''\n",
    "        for para in response.xpath('//div[@id=\"storytext\"]/p//text()').extract():\n",
    "            if para.count('\\u201c') == para.count('\\u201d') and para.count('\"') % 2 == 0:\n",
    "                article = article + para + ' '\n",
    "        yield {\n",
    "            'id': response.meta['article_id'],\n",
    "            'article': article.strip()\n",
    "        }"
   ]
  },
  {
   "cell_type": "code",
   "execution_count": 7,
   "metadata": {},
   "outputs": [],
   "source": [
    "class HillSpider(scrapy.Spider):\n",
    "    name = 'National Public Radio'\n",
    "    uri = 'data/hill_{}.json'.format(date)\n",
    "    custom_settings = {'FEED_URI': uri}\n",
    "    \n",
    "    start_urls = ['https://thehill.com']\n",
    "    \n",
    "    def parse(self, response):\n",
    "        for link in response.xpath('//span[@class=\"field-content\"]/a/@href | //h4/a/@href \\\n",
    "                                   | //ul[@class=\"more_headlines\"]//a/@href').extract():\n",
    "            if 'overnights' not in link and 'morning-report' not in link:\n",
    "                link = response.urljoin(link)\n",
    "                yield scrapy.Request(link, callback=self.parse_article, meta={'article_id': link})\n",
    "        \n",
    "    def parse_article(self, response):\n",
    "        article= ''\n",
    "        for para in response.xpath('//div[@class=\"field-items\"]/div/p/text() \\\n",
    "                                   | //div[@class=\"field-items\"]/div/p/a/text() \\\n",
    "                                   | //div[@class=\"field-items\"]/div/p/span/text() \\\n",
    "                                   | //div[@class=\"field-items\"]/div/p/span/a/text() \\\n",
    "                                   | //div[@class=\"field-items\"]/div/p/span/span/a/text() \\\n",
    "                                   | //div[@class=\"field-items\"]/div/div/text() \\\n",
    "                                   | //div[@class=\"field-items\"]/div/div/a/text() \\\n",
    "                                   | //div[@class=\"field-items\"]/div/div/span/text() \\\n",
    "                                   | //div[@class=\"field-items\"]/div/div/span/a/text()').extract():\n",
    "            if para.count('\\u201c') == para.count('\\u201d') and para.count('\"') % 2 == 0:\n",
    "                article = article + para + ' '\n",
    "        yield {\n",
    "            'id': response.meta['article_id'],\n",
    "            'article': article.strip()\n",
    "        }"
   ]
  },
  {
   "cell_type": "code",
   "execution_count": 8,
   "metadata": {
    "collapsed": true
   },
   "outputs": [],
   "source": [
    "class NRSpider(scrapy.Spider):\n",
    "    name = 'National Review'\n",
    "    uri = 'data/nr_{}.json'.format(date)\n",
    "    custom_settings = {'FEED_URI': uri}\n",
    "    \n",
    "    start_urls = ['https://www.nationalreview.com']\n",
    "    \n",
    "    def parse(self, response):\n",
    "        for link in response.xpath('//h4/a/@href').extract():\n",
    "            if \"nationalreview.com\" in link:\n",
    "                if \"photos\" in link or \"videos\" in link or \"magazine\" in link or \"interview\" in link or \"podcasts\" in link:\n",
    "                    continue\n",
    "                yield scrapy.Request(link, callback=self.parse_article, meta={'article_id': link})\n",
    "        \n",
    "    def parse_article(self, response):\n",
    "        article= ''\n",
    "        for para in response.xpath('//div[@class=\"article-content\"]/p//text()').extract():\n",
    "            if para.count('\\u201c') == para.count('\\u201d') and para.count('\"') % 2 == 0:\n",
    "                article = article + para + ' '\n",
    "        yield {\n",
    "            'id': response.meta['article_id'],\n",
    "            'article': article.strip()\n",
    "        }"
   ]
  },
  {
   "cell_type": "code",
   "execution_count": 9,
   "metadata": {},
   "outputs": [],
   "source": [
    "class ABCSpider(scrapy.Spider):\n",
    "    name = 'National Review'\n",
    "    uri = 'data/abc_{}.json'.format(date)\n",
    "    custom_settings = {'FEED_URI': uri}\n",
    "    \n",
    "    start_urls = ['https://abcnews.go.com/']\n",
    "    \n",
    "    def parse(self, response):\n",
    "        for link in response.xpath('//h1/a/@href').extract():\n",
    "            if \"void\" not in link and link != \"https://abcnews.go.com\":\n",
    "                yield scrapy.Request(link, callback=self.parse_article, meta={'article_id': link})\n",
    "        \n",
    "    def parse_article(self, response):\n",
    "        article= ''\n",
    "        for para in response.xpath('//div[@class=\"article-copy\"]/p[count(em)=0 and count(strong)=0]//text()').extract():\n",
    "            if '\\u2014\\u2014\\u2014' in para:\n",
    "                break\n",
    "            if para.count('\\u201c') == para.count('\\u201d') and para.count('\"') % 2 == 0:\n",
    "                article = article + para + ' '\n",
    "        yield {\n",
    "            'id': response.meta['article_id'],\n",
    "            'article': article.strip()\n",
    "        }"
   ]
  },
  {
   "cell_type": "code",
   "execution_count": 10,
   "metadata": {},
   "outputs": [],
   "source": [
    "class PolcoSpider(scrapy.Spider):\n",
    "    name = 'Politico'\n",
    "    uri = 'data/polco_{}.json'.format(date)\n",
    "    custom_settings = {'FEED_URI': uri}\n",
    "    \n",
    "    start_urls = ['https://www.politico.com/']\n",
    "    \n",
    "    def parse(self, response):\n",
    "        for link in response.xpath('//h1/a/@href').extract():\n",
    "            if (\"gallery\" not in link and \"list\" not in link and \"nerdcast\" not in link and \n",
    "                \"video\" not in link and \"news-tips\" not in link and link != \"https://www.politico.com/\"):\n",
    "                link = response.urljoin(link)\n",
    "                yield scrapy.Request(link, callback=self.parse_article, meta={'article_id': link})\n",
    "\n",
    "    def parse_article(self, response):\n",
    "        article= ''\n",
    "        for para in response.xpath('//article/div[1]/section[2]/div/div/p[not(@class=\"story-continued\") and \\\n",
    "                                   not(count(em)) and not(count(i))]//text() | \\\n",
    "                        //div[@class=\"story-text has-sidebar\"]/p[not(@class=\"story-continued\")]//text()').extract():\n",
    "            if para.count('\\u201c') == para.count('\\u201d') and para.count('\"') % 2 == 0:\n",
    "                article = article + para + ' '\n",
    "        yield {\n",
    "            'id': response.meta['article_id'],\n",
    "            'article': article.strip()\n",
    "        }"
   ]
  },
  {
   "cell_type": "code",
   "execution_count": 11,
   "metadata": {},
   "outputs": [
    {
     "name": "stdout",
     "output_type": "stream",
     "text": [
      "Success!\n"
     ]
    }
   ],
   "source": [
    "process = CrawlerProcess({\n",
    "    'FEED_FORMAT': 'json',\n",
    "    'LOG_ENABLED': False,\n",
    "    'AUTOTHROTTLE_ENABLED': True,\n",
    "    'HTTPCACHE_ENABLED': True,\n",
    "    'ROBOTSTXT_OBEY': True,\n",
    "    'USER_AGENT': 'Vince Giorno (Thinkful Data Science Bootcamp)' \n",
    "})\n",
    "\n",
    "#process.crawl(APSpider)\n",
    "#process.crawl(ReutSpider)\n",
    "#process.crawl(CSMSpider)\n",
    "#process.crawl(NPRSpider)\n",
    "#process.crawl(HillSpider)\n",
    "#process.crawl(NRSpider)\n",
    "#process.crawl(ABCSpider)\n",
    "#process.crawl(PolcoSpider)\n",
    "\n",
    "process.start()\n",
    "print('Success!')"
   ]
  }
 ],
 "metadata": {
  "kernelspec": {
   "display_name": "Python 3",
   "language": "python",
   "name": "python3"
  },
  "language_info": {
   "codemirror_mode": {
    "name": "ipython",
    "version": 3
   },
   "file_extension": ".py",
   "mimetype": "text/x-python",
   "name": "python",
   "nbconvert_exporter": "python",
   "pygments_lexer": "ipython3",
   "version": "3.6.2"
  }
 },
 "nbformat": 4,
 "nbformat_minor": 2
}
