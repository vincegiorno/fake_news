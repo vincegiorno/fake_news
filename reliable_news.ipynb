{
 "cells": [
  {
   "cell_type": "code",
   "execution_count": 108,
   "metadata": {
    "collapsed": true
   },
   "outputs": [],
   "source": [
    "import pandas as pd\n",
    "import numpy as np\n",
    "import matplotlib.pyplot as plt\n",
    "import seaborn as sns\n",
    "import pickle\n",
    "\n",
    "%matplotlib inline"
   ]
  },
  {
   "cell_type": "markdown",
   "metadata": {},
   "source": [
    "The number of articles that can be used turns out to be limited by the fact that the data is dominated by huge numbers of articles from three sites: Daily Kos (unreliable), and the National Review and New York Times (both reliable). Through some upsampling of the other articles in the reliable category, a total of 320,000 articles will be used from that category, so the same number will be used from the unreliable category."
   ]
  },
  {
   "cell_type": "code",
   "execution_count": 109,
   "metadata": {},
   "outputs": [],
   "source": [
    "names = ['bias', 'conspiracy', 'fake', 'hate', 'pol_bogus']\n",
    "fnames = ['cleaned/{}_cleaned.csv'.format(name) for name in names]\n",
    "unreliable = pd.concat([pd.read_csv(fname) for fname in fnames], ignore_index=True)"
   ]
  },
  {
   "cell_type": "code",
   "execution_count": 110,
   "metadata": {},
   "outputs": [
    {
     "data": {
      "text/html": [
       "<div>\n",
       "<style scoped>\n",
       "    .dataframe tbody tr th:only-of-type {\n",
       "        vertical-align: middle;\n",
       "    }\n",
       "\n",
       "    .dataframe tbody tr th {\n",
       "        vertical-align: top;\n",
       "    }\n",
       "\n",
       "    .dataframe thead th {\n",
       "        text-align: right;\n",
       "    }\n",
       "</style>\n",
       "<table border=\"1\" class=\"dataframe\">\n",
       "  <thead>\n",
       "    <tr style=\"text-align: right;\">\n",
       "      <th></th>\n",
       "      <th>Unnamed: 0</th>\n",
       "      <th>id</th>\n",
       "      <th>domain</th>\n",
       "      <th>content</th>\n",
       "    </tr>\n",
       "  </thead>\n",
       "  <tbody>\n",
       "    <tr>\n",
       "      <th>0</th>\n",
       "      <td>0</td>\n",
       "      <td>158</td>\n",
       "      <td>wnd.com</td>\n",
       "      <td>number black leaders who were prevented from d...</td>\n",
       "    </tr>\n",
       "    <tr>\n",
       "      <th>1</th>\n",
       "      <td>1</td>\n",
       "      <td>841</td>\n",
       "      <td>wnd.com</td>\n",
       "      <td>number black leaders who were prevented from d...</td>\n",
       "    </tr>\n",
       "    <tr>\n",
       "      <th>2</th>\n",
       "      <td>2</td>\n",
       "      <td>950</td>\n",
       "      <td>wnd.com</td>\n",
       "      <td>After date of various courts forcing Christian...</td>\n",
       "    </tr>\n",
       "    <tr>\n",
       "      <th>3</th>\n",
       "      <td>3</td>\n",
       "      <td>951</td>\n",
       "      <td>wnd.com</td>\n",
       "      <td>conservative organization Rep. person organiza...</td>\n",
       "    </tr>\n",
       "    <tr>\n",
       "      <th>4</th>\n",
       "      <td>4</td>\n",
       "      <td>1220</td>\n",
       "      <td>wnd.com</td>\n",
       "      <td>Next to illegal immigration, feminism is the s...</td>\n",
       "    </tr>\n",
       "  </tbody>\n",
       "</table>\n",
       "</div>"
      ],
      "text/plain": [
       "   Unnamed: 0    id   domain  \\\n",
       "0           0   158  wnd.com   \n",
       "1           1   841  wnd.com   \n",
       "2           2   950  wnd.com   \n",
       "3           3   951  wnd.com   \n",
       "4           4  1220  wnd.com   \n",
       "\n",
       "                                             content  \n",
       "0  number black leaders who were prevented from d...  \n",
       "1  number black leaders who were prevented from d...  \n",
       "2  After date of various courts forcing Christian...  \n",
       "3  conservative organization Rep. person organiza...  \n",
       "4  Next to illegal immigration, feminism is the s...  "
      ]
     },
     "execution_count": 110,
     "metadata": {},
     "output_type": "execute_result"
    }
   ],
   "source": [
    "unreliable.head()"
   ]
  },
  {
   "cell_type": "code",
   "execution_count": 111,
   "metadata": {},
   "outputs": [
    {
     "data": {
      "text/plain": [
       "603482"
      ]
     },
     "execution_count": 111,
     "metadata": {},
     "output_type": "execute_result"
    }
   ],
   "source": [
    "len(unreliable)"
   ]
  },
  {
   "cell_type": "code",
   "execution_count": 112,
   "metadata": {},
   "outputs": [
    {
     "data": {
      "text/plain": [
       "domain\n",
       "usanewsflash.com                     1\n",
       "uspoln.com                           3\n",
       "usafirstinformation.com              3\n",
       "countdowntozerotime.com              3\n",
       "goneleft.com                         4\n",
       "viralliberty.com                     5\n",
       "glaringhypocrisy.com                 5\n",
       "newslogue.com                        5\n",
       "dataasylum.com                       6\n",
       "winningdemocrats.com                 9\n",
       "thelastgreatstand.com                9\n",
       "flashnewscorner.com                 10\n",
       "sonsoflibertyradio.com              11\n",
       "sheepkillers.com                    12\n",
       "redcountry.us                       12\n",
       "enhlive.com                         12\n",
       "donaldtrumpnews.co                  13\n",
       "onepoliticalplaza.com               13\n",
       "readconservatives.news              15\n",
       "jamesrgrangerjr.com                 15\n",
       "yesimright.com                      18\n",
       "nasamoonhoax.com                    20\n",
       "usadosenews.com                     21\n",
       "americanpatriotdaily.com            27\n",
       "newcoldwar.org                      35\n",
       "platosguns.com                      36\n",
       "100percentfedup.com                 42\n",
       "learnprogress.org                   47\n",
       "angrypatriotmovement.com            63\n",
       "usadailytime.com                    64\n",
       "                                 ...  \n",
       "shoebat.com                       2331\n",
       "dailywire.com                     2332\n",
       "antiwar.com                       2359\n",
       "russia-insider.com                2501\n",
       "thefreepatriot.org                3096\n",
       "counterpunch.org                  3317\n",
       "themuslimissue.wordpress.com      3695\n",
       "pamelageller.com                  4427\n",
       "wnd.com                           4546\n",
       "returnofkings.com                 4593\n",
       "thefifthcolumnnews.com            5348\n",
       "frontpagemag.com                  6147\n",
       "commondreams.org                  6186\n",
       "commentarymagazine.com            6470\n",
       "americablog.com                   6900\n",
       "truthrevolt.org                   6908\n",
       "patriotpost.us                    6914\n",
       "darkpolitricks.com                6995\n",
       "conservativetribune.com           7663\n",
       "thefederalistpapers.org           8086\n",
       "vdare.com                         8272\n",
       "alternet.org                      8726\n",
       "redstate.com                     10889\n",
       "americanthinker.com              11192\n",
       "weeklystandard.com               15730\n",
       "breitbart.com                    23550\n",
       "pjmedia.com                      24804\n",
       "thinkprogress.org                25300\n",
       "dailycaller.com                  31432\n",
       "dailykos.com                    309064\n",
       "Name: Unnamed: 0, Length: 107, dtype: int64"
      ]
     },
     "execution_count": 112,
     "metadata": {},
     "output_type": "execute_result"
    }
   ],
   "source": [
    "unreliable.groupby('domain').count().iloc[:,0].sort_values()"
   ]
  },
  {
   "cell_type": "code",
   "execution_count": 113,
   "metadata": {},
   "outputs": [],
   "source": [
    "unreliable = unreliable.loc[:, ['id', 'domain', 'content']]"
   ]
  },
  {
   "cell_type": "code",
   "execution_count": 114,
   "metadata": {
    "collapsed": true
   },
   "outputs": [],
   "source": [
    "unreliable = unreliable.set_index('id')"
   ]
  },
  {
   "cell_type": "code",
   "execution_count": 115,
   "metadata": {
    "collapsed": true
   },
   "outputs": [],
   "source": [
    "weekly_standard = unreliable[unreliable['domain'].eq('weeklystandard.com')] # this site is credible"
   ]
  },
  {
   "cell_type": "code",
   "execution_count": 116,
   "metadata": {},
   "outputs": [],
   "source": [
    "unreliable = unreliable[~unreliable['domain'].eq('weeklystandard.com')]"
   ]
  },
  {
   "cell_type": "markdown",
   "metadata": {},
   "source": [
    "Only keep as many Daily Kos articles as needed, although a number larger than any other site is ok since this site runs articles from a very wide variety of authors."
   ]
  },
  {
   "cell_type": "code",
   "execution_count": 117,
   "metadata": {},
   "outputs": [],
   "source": [
    "dailykos = unreliable[unreliable['domain'].eq('dailykos.com')]"
   ]
  },
  {
   "cell_type": "code",
   "execution_count": 118,
   "metadata": {},
   "outputs": [
    {
     "data": {
      "text/plain": [
       "41312"
      ]
     },
     "execution_count": 118,
     "metadata": {},
     "output_type": "execute_result"
    }
   ],
   "source": [
    "needed = 320000 - len(unreliable[~unreliable['domain'].eq('dailykos.com')])\n",
    "needed"
   ]
  },
  {
   "cell_type": "code",
   "execution_count": 119,
   "metadata": {
    "collapsed": true
   },
   "outputs": [],
   "source": [
    "dk_keepers = dailykos.sample(needed, random_state=24)"
   ]
  },
  {
   "cell_type": "code",
   "execution_count": 120,
   "metadata": {
    "collapsed": true
   },
   "outputs": [],
   "source": [
    "unreliable = unreliable[~unreliable['domain'].eq('dailykos.com')].append(dk_keepers)"
   ]
  },
  {
   "cell_type": "code",
   "execution_count": 121,
   "metadata": {},
   "outputs": [
    {
     "data": {
      "text/plain": [
       "320000"
      ]
     },
     "execution_count": 121,
     "metadata": {},
     "output_type": "execute_result"
    }
   ],
   "source": [
    "len(unreliable)"
   ]
  },
  {
   "cell_type": "code",
   "execution_count": 122,
   "metadata": {
    "collapsed": true
   },
   "outputs": [],
   "source": [
    "reliable = pd.concat([pd.read_csv(fname) for fname in ['cleaned/pol_cred_cleaned.csv',\n",
    "                                                      'cleaned/credible1_cleaned.csv']], ignore_index=True)"
   ]
  },
  {
   "cell_type": "code",
   "execution_count": 123,
   "metadata": {},
   "outputs": [],
   "source": [
    "reliable = reliable.loc[:, ['id', 'domain', 'content']]\n",
    "reliable = reliable.set_index('id')\n",
    "reliable = reliable.append(weekly_standard)"
   ]
  },
  {
   "cell_type": "code",
   "execution_count": 124,
   "metadata": {},
   "outputs": [
    {
     "data": {
      "text/plain": [
       "368917"
      ]
     },
     "execution_count": 124,
     "metadata": {},
     "output_type": "execute_result"
    }
   ],
   "source": [
    "len(reliable)"
   ]
  },
  {
   "cell_type": "code",
   "execution_count": 125,
   "metadata": {},
   "outputs": [
    {
     "data": {
      "text/plain": [
       "domain\n",
       "www.wsj.com                    115\n",
       "www.theatlantic.com            141\n",
       "www.buzzfeed.com               251\n",
       "www.politico.com               592\n",
       "www.nbcnews.com                625\n",
       "foreignpolicyjournal.com       806\n",
       "www.npr.org                    846\n",
       "www.cbsnews.com               1240\n",
       "www.usatoday.com              1849\n",
       "www.bloomberg.com             2121\n",
       "abcnews.go.com                2300\n",
       "heritage.org                  2309\n",
       "www.latimes.com               2348\n",
       "jacobinmag.com                2390\n",
       "theintercept.com              2556\n",
       "www.nytimes.com               2848\n",
       "www.washingtonpost.com        3001\n",
       "baptistnews.com               6153\n",
       "mintpressnews.com             7586\n",
       "weeklystandard.com           30241\n",
       "nationalreview.com          298599\n",
       "Name: content, dtype: int64"
      ]
     },
     "execution_count": 125,
     "metadata": {},
     "output_type": "execute_result"
    }
   ],
   "source": [
    "reliable.groupby('domain').count().iloc[:,0].sort_values()"
   ]
  },
  {
   "cell_type": "code",
   "execution_count": 126,
   "metadata": {},
   "outputs": [],
   "source": [
    "reliable['domain'] = reliable['domain'].str.replace('www.', '')"
   ]
  },
  {
   "cell_type": "code",
   "execution_count": 127,
   "metadata": {},
   "outputs": [
    {
     "data": {
      "text/html": [
       "<div>\n",
       "<style scoped>\n",
       "    .dataframe tbody tr th:only-of-type {\n",
       "        vertical-align: middle;\n",
       "    }\n",
       "\n",
       "    .dataframe tbody tr th {\n",
       "        vertical-align: top;\n",
       "    }\n",
       "\n",
       "    .dataframe thead th {\n",
       "        text-align: right;\n",
       "    }\n",
       "</style>\n",
       "<table border=\"1\" class=\"dataframe\">\n",
       "  <thead>\n",
       "    <tr style=\"text-align: right;\">\n",
       "      <th></th>\n",
       "      <th>Unnamed: 0</th>\n",
       "      <th>id</th>\n",
       "      <th>domain</th>\n",
       "      <th>content</th>\n",
       "    </tr>\n",
       "  </thead>\n",
       "  <tbody>\n",
       "    <tr>\n",
       "      <th>0</th>\n",
       "      <td>0</td>\n",
       "      <td>100000000</td>\n",
       "      <td>https://www.reuters.com/article/us-venezuela-p...</td>\n",
       "      <td>Venezuelan opposition leader person place on ...</td>\n",
       "    </tr>\n",
       "    <tr>\n",
       "      <th>1</th>\n",
       "      <td>1</td>\n",
       "      <td>100000001</td>\n",
       "      <td>https://www.reuters.com/article/us-nigeria-ele...</td>\n",
       "      <td>Nigerian voters returned to the polls on date...</td>\n",
       "    </tr>\n",
       "    <tr>\n",
       "      <th>2</th>\n",
       "      <td>2</td>\n",
       "      <td>100000002</td>\n",
       "      <td>https://www.reuters.com/article/us-italy-polit...</td>\n",
       "      <td>place's prime minister said on date tenders f...</td>\n",
       "    </tr>\n",
       "    <tr>\n",
       "      <th>3</th>\n",
       "      <td>3</td>\n",
       "      <td>100000003</td>\n",
       "      <td>https://www.reuters.com/article/us-mideast-cri...</td>\n",
       "      <td>The U.S. backed organization paused military ...</td>\n",
       "    </tr>\n",
       "    <tr>\n",
       "      <th>4</th>\n",
       "      <td>4</td>\n",
       "      <td>100000004</td>\n",
       "      <td>https://www.reuters.com/article/us-mideast-cri...</td>\n",
       "      <td>The organization refugee agency should have a...</td>\n",
       "    </tr>\n",
       "  </tbody>\n",
       "</table>\n",
       "</div>"
      ],
      "text/plain": [
       "   Unnamed: 0         id                                             domain  \\\n",
       "0           0  100000000  https://www.reuters.com/article/us-venezuela-p...   \n",
       "1           1  100000001  https://www.reuters.com/article/us-nigeria-ele...   \n",
       "2           2  100000002  https://www.reuters.com/article/us-italy-polit...   \n",
       "3           3  100000003  https://www.reuters.com/article/us-mideast-cri...   \n",
       "4           4  100000004  https://www.reuters.com/article/us-mideast-cri...   \n",
       "\n",
       "                                             content  \n",
       "0   Venezuelan opposition leader person place on ...  \n",
       "1   Nigerian voters returned to the polls on date...  \n",
       "2   place's prime minister said on date tenders f...  \n",
       "3   The U.S. backed organization paused military ...  \n",
       "4   The organization refugee agency should have a...  "
      ]
     },
     "execution_count": 127,
     "metadata": {},
     "output_type": "execute_result"
    }
   ],
   "source": [
    "scraped = pd.read_csv('cleaned/scraped_cleaned.csv')\n",
    "scraped.head()"
   ]
  },
  {
   "cell_type": "code",
   "execution_count": 128,
   "metadata": {},
   "outputs": [
    {
     "data": {
      "text/html": [
       "<div>\n",
       "<style scoped>\n",
       "    .dataframe tbody tr th:only-of-type {\n",
       "        vertical-align: middle;\n",
       "    }\n",
       "\n",
       "    .dataframe tbody tr th {\n",
       "        vertical-align: top;\n",
       "    }\n",
       "\n",
       "    .dataframe thead th {\n",
       "        text-align: right;\n",
       "    }\n",
       "</style>\n",
       "<table border=\"1\" class=\"dataframe\">\n",
       "  <thead>\n",
       "    <tr style=\"text-align: right;\">\n",
       "      <th></th>\n",
       "      <th>Unnamed: 0</th>\n",
       "      <th>id</th>\n",
       "      <th>domain</th>\n",
       "      <th>content</th>\n",
       "    </tr>\n",
       "  </thead>\n",
       "  <tbody>\n",
       "    <tr>\n",
       "      <th>0</th>\n",
       "      <td>0</td>\n",
       "      <td>100000000</td>\n",
       "      <td>reuters.com</td>\n",
       "      <td>Venezuelan opposition leader person place on ...</td>\n",
       "    </tr>\n",
       "    <tr>\n",
       "      <th>1</th>\n",
       "      <td>1</td>\n",
       "      <td>100000001</td>\n",
       "      <td>reuters.com</td>\n",
       "      <td>Nigerian voters returned to the polls on date...</td>\n",
       "    </tr>\n",
       "    <tr>\n",
       "      <th>2</th>\n",
       "      <td>2</td>\n",
       "      <td>100000002</td>\n",
       "      <td>reuters.com</td>\n",
       "      <td>place's prime minister said on date tenders f...</td>\n",
       "    </tr>\n",
       "    <tr>\n",
       "      <th>3</th>\n",
       "      <td>3</td>\n",
       "      <td>100000003</td>\n",
       "      <td>reuters.com</td>\n",
       "      <td>The U.S. backed organization paused military ...</td>\n",
       "    </tr>\n",
       "    <tr>\n",
       "      <th>4</th>\n",
       "      <td>4</td>\n",
       "      <td>100000004</td>\n",
       "      <td>reuters.com</td>\n",
       "      <td>The organization refugee agency should have a...</td>\n",
       "    </tr>\n",
       "    <tr>\n",
       "      <th>5</th>\n",
       "      <td>5</td>\n",
       "      <td>100000005</td>\n",
       "      <td>reuters.com</td>\n",
       "      <td>place's government said on date it would rele...</td>\n",
       "    </tr>\n",
       "    <tr>\n",
       "      <th>6</th>\n",
       "      <td>6</td>\n",
       "      <td>100000006</td>\n",
       "      <td>reuters.com</td>\n",
       "      <td>Saudi oil minister person person said on date...</td>\n",
       "    </tr>\n",
       "    <tr>\n",
       "      <th>7</th>\n",
       "      <td>7</td>\n",
       "      <td>100000007</td>\n",
       "      <td>reuters.com</td>\n",
       "      <td>An organization fighter detained in place urg...</td>\n",
       "    </tr>\n",
       "    <tr>\n",
       "      <th>8</th>\n",
       "      <td>8</td>\n",
       "      <td>100000008</td>\n",
       "      <td>cbsnews.com</td>\n",
       "      <td>place Rep. person hosted his date quote event ...</td>\n",
       "    </tr>\n",
       "    <tr>\n",
       "      <th>9</th>\n",
       "      <td>9</td>\n",
       "      <td>100000009</td>\n",
       "      <td>cbsnews.com</td>\n",
       "      <td>Scientists have discovered that grey seals can...</td>\n",
       "    </tr>\n",
       "  </tbody>\n",
       "</table>\n",
       "</div>"
      ],
      "text/plain": [
       "   Unnamed: 0         id       domain  \\\n",
       "0           0  100000000  reuters.com   \n",
       "1           1  100000001  reuters.com   \n",
       "2           2  100000002  reuters.com   \n",
       "3           3  100000003  reuters.com   \n",
       "4           4  100000004  reuters.com   \n",
       "5           5  100000005  reuters.com   \n",
       "6           6  100000006  reuters.com   \n",
       "7           7  100000007  reuters.com   \n",
       "8           8  100000008  cbsnews.com   \n",
       "9           9  100000009  cbsnews.com   \n",
       "\n",
       "                                             content  \n",
       "0   Venezuelan opposition leader person place on ...  \n",
       "1   Nigerian voters returned to the polls on date...  \n",
       "2   place's prime minister said on date tenders f...  \n",
       "3   The U.S. backed organization paused military ...  \n",
       "4   The organization refugee agency should have a...  \n",
       "5   place's government said on date it would rele...  \n",
       "6   Saudi oil minister person person said on date...  \n",
       "7   An organization fighter detained in place urg...  \n",
       "8  place Rep. person hosted his date quote event ...  \n",
       "9  Scientists have discovered that grey seals can...  "
      ]
     },
     "execution_count": 128,
     "metadata": {},
     "output_type": "execute_result"
    }
   ],
   "source": [
    "scraped['domain'] = scraped['domain'].str.extract(\"https?://(?:www.)([\\w\\d\\.-]*)/.*\")\n",
    "scraped.head(10)"
   ]
  },
  {
   "cell_type": "code",
   "execution_count": 129,
   "metadata": {},
   "outputs": [],
   "source": [
    "scraped = scraped.loc[:, ['id', 'domain', 'content']]\n",
    "scraped = scraped.set_index('id')\n",
    "reliable = reliable.append(scraped)"
   ]
  },
  {
   "cell_type": "code",
   "execution_count": 130,
   "metadata": {},
   "outputs": [
    {
     "data": {
      "text/plain": [
       "390567"
      ]
     },
     "execution_count": 130,
     "metadata": {},
     "output_type": "execute_result"
    }
   ],
   "source": [
    "len(reliable)"
   ]
  },
  {
   "cell_type": "code",
   "execution_count": 131,
   "metadata": {},
   "outputs": [
    {
     "data": {
      "text/plain": [
       "domain\n",
       "politico.eu                     26\n",
       "wsj.com                        115\n",
       "theatlantic.com                141\n",
       "buzzfeed.com                   273\n",
       "buzzfeednews.com               588\n",
       "foreignpolicyjournal.com       806\n",
       "reuters.com                    980\n",
       "csmonitor.com                 1038\n",
       "aljazeera.com                 1686\n",
       "bloomberg.com                 2121\n",
       "npr.org                       2292\n",
       "abcnews.go.com                2300\n",
       "heritage.org                  2309\n",
       "latimes.com                   2348\n",
       "jacobinmag.com                2390\n",
       "theintercept.com              2556\n",
       "apnews.com                    2604\n",
       "politico.com                  2732\n",
       "nytimes.com                   2848\n",
       "washingtonpost.com            3001\n",
       "usatoday.com                  3060\n",
       "nbcnews.com                   3755\n",
       "cbsnews.com                   5190\n",
       "baptistnews.com               6153\n",
       "mintpressnews.com             7586\n",
       "weeklystandard.com           30241\n",
       "nationalreview.com          299420\n",
       "Name: content, dtype: int64"
      ]
     },
     "execution_count": 131,
     "metadata": {},
     "output_type": "execute_result"
    }
   ],
   "source": [
    "reliable.groupby('domain').count().iloc[:,0].sort_values()"
   ]
  },
  {
   "cell_type": "code",
   "execution_count": 132,
   "metadata": {
    "collapsed": true
   },
   "outputs": [],
   "source": [
    "nat_review = reliable[reliable['domain'].eq('nationalreview.com')]\n",
    "nat_review = nat_review.reset_index()"
   ]
  },
  {
   "cell_type": "code",
   "execution_count": 133,
   "metadata": {},
   "outputs": [
    {
     "data": {
      "text/plain": [
       "91147"
      ]
     },
     "execution_count": 133,
     "metadata": {},
     "output_type": "execute_result"
    }
   ],
   "source": [
    "reliable = reliable[~reliable['domain'].eq('nationalreview.com')]\n",
    "len(reliable)"
   ]
  },
  {
   "cell_type": "code",
   "execution_count": 134,
   "metadata": {},
   "outputs": [],
   "source": [
    "reliable = reliable.reset_index()"
   ]
  },
  {
   "cell_type": "code",
   "execution_count": 135,
   "metadata": {},
   "outputs": [
    {
     "data": {
      "text/plain": [
       "212959"
      ]
     },
     "execution_count": 135,
     "metadata": {},
     "output_type": "execute_result"
    }
   ],
   "source": [
    "# Oversample (triple) all the remaining sites except weeklystandard.com, which already is well represented\n",
    "reliable = pd.concat([reliable, reliable[~reliable['domain'].eq('weeklystandard.com')],\n",
    "                                         reliable[~reliable['domain'].eq('weeklystandard.com')]], ignore_index=True)\n",
    "len(reliable)"
   ]
  },
  {
   "cell_type": "code",
   "execution_count": 136,
   "metadata": {},
   "outputs": [
    {
     "data": {
      "text/plain": [
       "266480"
      ]
     },
     "execution_count": 136,
     "metadata": {},
     "output_type": "execute_result"
    }
   ],
   "source": [
    "# Add in half again as many articles from the National Review and New York Times, evenly split among them\n",
    "reliable = reliable.append(nat_review.sample(53521, random_state=24))\n",
    "len(reliable)"
   ]
  },
  {
   "cell_type": "code",
   "execution_count": 137,
   "metadata": {},
   "outputs": [],
   "source": [
    "reliable = reliable.append(pd.read_csv('cleaned/credible2_cleaned.csv', index_col=0), ignore_index=True)"
   ]
  },
  {
   "cell_type": "code",
   "execution_count": 138,
   "metadata": {},
   "outputs": [
    {
     "data": {
      "text/plain": [
       "320000"
      ]
     },
     "execution_count": 138,
     "metadata": {},
     "output_type": "execute_result"
    }
   ],
   "source": [
    "len(reliable)"
   ]
  }
 ],
 "metadata": {
  "kernelspec": {
   "display_name": "Python 3",
   "language": "python",
   "name": "python3"
  },
  "language_info": {
   "codemirror_mode": {
    "name": "ipython",
    "version": 3
   },
   "file_extension": ".py",
   "mimetype": "text/x-python",
   "name": "python",
   "nbconvert_exporter": "python",
   "pygments_lexer": "ipython3",
   "version": "3.6.8"
  }
 },
 "nbformat": 4,
 "nbformat_minor": 2
}
