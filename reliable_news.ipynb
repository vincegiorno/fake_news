{
 "cells": [
  {
   "cell_type": "code",
   "execution_count": 1,
   "metadata": {
    "collapsed": true
   },
   "outputs": [],
   "source": [
    "import pandas as pd\n",
    "import numpy as np\n",
    "import matplotlib.pyplot as plt\n",
    "import seaborn as sns\n",
    "import pickle\n",
    "\n",
    "%matplotlib inline"
   ]
  },
  {
   "cell_type": "code",
   "execution_count": 15,
   "metadata": {
    "collapsed": true
   },
   "outputs": [],
   "source": [
    "unreliable = pd.DataFrame()\n",
    "for fname in ['bias', 'conspiracy', 'fake', 'hate', 'pol_bogus']:\n",
    "    unreliable = unreliable.append(pd.read_csv('cleaned/{}_cleaned.csv'.format(fname)))   "
   ]
  },
  {
   "cell_type": "code",
   "execution_count": 4,
   "metadata": {},
   "outputs": [
    {
     "data": {
      "text/plain": [
       "domain\n",
       "usanewsflash.com                     1\n",
       "uspoln.com                           3\n",
       "usafirstinformation.com              3\n",
       "countdowntozerotime.com              3\n",
       "goneleft.com                         4\n",
       "viralliberty.com                     5\n",
       "glaringhypocrisy.com                 5\n",
       "newslogue.com                        5\n",
       "dataasylum.com                       6\n",
       "winningdemocrats.com                 9\n",
       "thelastgreatstand.com                9\n",
       "flashnewscorner.com                 10\n",
       "sonsoflibertyradio.com              11\n",
       "sheepkillers.com                    12\n",
       "redcountry.us                       12\n",
       "enhlive.com                         12\n",
       "donaldtrumpnews.co                  13\n",
       "onepoliticalplaza.com               13\n",
       "readconservatives.news              15\n",
       "jamesrgrangerjr.com                 15\n",
       "yesimright.com                      18\n",
       "nasamoonhoax.com                    20\n",
       "usadosenews.com                     21\n",
       "americanpatriotdaily.com            27\n",
       "newcoldwar.org                      35\n",
       "platosguns.com                      36\n",
       "100percentfedup.com                 42\n",
       "learnprogress.org                   47\n",
       "angrypatriotmovement.com            63\n",
       "usadailytime.com                    64\n",
       "                                 ...  \n",
       "shoebat.com                       2331\n",
       "dailywire.com                     2332\n",
       "antiwar.com                       2359\n",
       "russia-insider.com                2501\n",
       "thefreepatriot.org                3096\n",
       "counterpunch.org                  3317\n",
       "themuslimissue.wordpress.com      3695\n",
       "pamelageller.com                  4427\n",
       "wnd.com                           4546\n",
       "returnofkings.com                 4593\n",
       "thefifthcolumnnews.com            5348\n",
       "frontpagemag.com                  6147\n",
       "commondreams.org                  6186\n",
       "commentarymagazine.com            6470\n",
       "americablog.com                   6900\n",
       "truthrevolt.org                   6908\n",
       "patriotpost.us                    6914\n",
       "darkpolitricks.com                6995\n",
       "conservativetribune.com           7663\n",
       "thefederalistpapers.org           8086\n",
       "vdare.com                         8272\n",
       "alternet.org                      8726\n",
       "redstate.com                     10889\n",
       "americanthinker.com              11192\n",
       "weeklystandard.com               15730\n",
       "breitbart.com                    23550\n",
       "pjmedia.com                      24804\n",
       "thinkprogress.org                25300\n",
       "dailycaller.com                  31432\n",
       "dailykos.com                    309064\n",
       "Name: Unnamed: 0, Length: 107, dtype: int64"
      ]
     },
     "execution_count": 4,
     "metadata": {},
     "output_type": "execute_result"
    }
   ],
   "source": [
    "unreliable.groupby('domain').count().iloc[:,0].sort_values()"
   ]
  },
  {
   "cell_type": "code",
   "execution_count": 17,
   "metadata": {},
   "outputs": [],
   "source": [
    "unreliable = unreliable.loc[:, ['id', 'domain', 'content']]"
   ]
  },
  {
   "cell_type": "code",
   "execution_count": 20,
   "metadata": {
    "collapsed": true
   },
   "outputs": [],
   "source": [
    "unreliable = unreliable.set_index('id')"
   ]
  },
  {
   "cell_type": "code",
   "execution_count": null,
   "metadata": {
    "collapsed": true
   },
   "outputs": [],
   "source": [
    "# take 100,000 from dailykos to balance right-leaning orgs"
   ]
  }
 ],
 "metadata": {
  "kernelspec": {
   "display_name": "Python 3",
   "language": "python",
   "name": "python3"
  },
  "language_info": {
   "codemirror_mode": {
    "name": "ipython",
    "version": 3
   },
   "file_extension": ".py",
   "mimetype": "text/x-python",
   "name": "python",
   "nbconvert_exporter": "python",
   "pygments_lexer": "ipython3",
   "version": "3.6.8"
  }
 },
 "nbformat": 4,
 "nbformat_minor": 2
}
