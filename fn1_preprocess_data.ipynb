{
 "cells": [
  {
   "cell_type": "code",
   "execution_count": 1,
   "metadata": {
    "collapsed": true
   },
   "outputs": [],
   "source": [
    "import pandas as pd\n",
    "import numpy as np\n",
    "import matplotlib.pyplot as plt\n",
    "import seaborn as sns\n",
    "import pickle\n",
    "\n",
    "%matplotlib inline"
   ]
  },
  {
   "cell_type": "code",
   "execution_count": 2,
   "metadata": {
    "collapsed": true
   },
   "outputs": [],
   "source": [
    "import spacy\n",
    "import re\n",
    "from unidecode import unidecode\n",
    "from spacy_langdetect import LanguageDetector\n",
    "nlp = spacy.load('en')\n",
    "nlp.add_pipe(LanguageDetector(), name=\"language_detector\", last=True)"
   ]
  },
  {
   "cell_type": "code",
   "execution_count": 3,
   "metadata": {
    "collapsed": true
   },
   "outputs": [],
   "source": [
    "class Cleaner(dict):\n",
    "    \"\"\" Multiple-string-substitution dict \"\"\"\n",
    "    def _make_regex(self):\n",
    "        \"\"\" Build re object based on the keys of the dictionary it is instantiated with\"\"\"\n",
    "        return re.compile(\"|\".join(map(re.escape, self.keys())))\n",
    "\n",
    "    def __call__(self, match):\n",
    "        \"\"\" Handler invoked for each regex match \"\"\"\n",
    "        return self[match.group(0)]\n",
    "\n",
    "    def clean(self, text):\n",
    "        \"\"\" Substitutes with value for each key and returns the modified text. \"\"\"\n",
    "        return self._make_regex().sub(self, text)"
   ]
  },
  {
   "cell_type": "code",
   "execution_count": 4,
   "metadata": {
    "collapsed": true
   },
   "outputs": [],
   "source": [
    "replacements = {\"\\n\": \" \",\n",
    "                \"\\t\": \" \",\n",
    "                \"-\": \" \",\n",
    "                \"...\": \" \",\n",
    "                \"won't\": \"will not\",\n",
    "                \"can't\": \"can not\",\n",
    "                \"&\": \" and \",\n",
    "                \"\\$*\": \"$\",\n",
    "                \"Loading...\": \" \",\n",
    "                \"Continued...\": \" \",\n",
    "                \"\\N{COPYRIGHT SIGN}\": \" \",\n",
    "                \"\\N{NO-BREAK SPACE}\": \" \",\n",
    "                \"\\N{LEFT-POINTING DOUBLE ANGLE QUOTATION MARK}\": \" \",\n",
    "                \"\\N{RIGHT-POINTING DOUBLE ANGLE QUOTATION MARK}\": \" \",\n",
    "                '.\"': '\".',\n",
    "                '?\"': '\"?',\n",
    "                '!\"': '\"!'\n",
    "               }"
   ]
  },
  {
   "cell_type": "code",
   "execution_count": 5,
   "metadata": {
    "collapsed": true
   },
   "outputs": [],
   "source": [
    "entities = {'PERSON': 'person',\n",
    "            'FAC': 'landmark',\n",
    "            'ORG': 'organization',\n",
    "            'GPE': 'place',\n",
    "            'LOC': 'location',\n",
    "            'EVENT': 'event',\n",
    "            'WORK_OF_ART': 'artwork',\n",
    "            'LAW': 'law',\n",
    "            'DATE': 'date',\n",
    "            'TIME': 'time',\n",
    "            'PERCENT': 'percent',\n",
    "            'MONEY': 'money',\n",
    "            'QUANTITY': 'quantity',\n",
    "            'CARDINAL': 'number'\n",
    "}\n",
    "\n",
    "ent_order = {'PERSON': 8,\n",
    "            'FAC': 2,\n",
    "            'ORG': 1,\n",
    "            'GPE': 6,\n",
    "            'LOC': 7,\n",
    "            'EVENT': 3,\n",
    "            'WORK_OF_ART': 5,\n",
    "            'LAW': 4,\n",
    "            'DATE': 9,\n",
    "            'TIME': 10,\n",
    "            'PERCENT': 12,\n",
    "            'MONEY': 11,\n",
    "            'QUANTITY': 13,\n",
    "            'CARDINAL': 14,\n",
    "}\n",
    "\n",
    "drop_ents = ['NORP', 'PRODUCT', 'LANGUAGE','ORDINAL']"
   ]
  },
  {
   "cell_type": "code",
   "execution_count": 6,
   "metadata": {
    "collapsed": true
   },
   "outputs": [],
   "source": [
    "preprocess = Cleaner(replacements)"
   ]
  },
  {
   "cell_type": "code",
   "execution_count": 7,
   "metadata": {
    "collapsed": true
   },
   "outputs": [],
   "source": [
    "def process(in_doc):\n",
    "    count = 0\n",
    "    out_doc = \"\"\n",
    "    doc = nlp(in_doc)\n",
    "    if doc._.language['language'] != 'en':\n",
    "        return None\n",
    "    colon_count = 0\n",
    "    for sent in doc.sents:\n",
    "        text = sent.text\n",
    "        if ':' in text:\n",
    "            colon_count += 1\n",
    "        if not re.search('[.?!] *$', text) or re.search(r'(?i)you', text): # direct appeal to reader or not a sentence\n",
    "            continue\n",
    "        out_doc += sent.text + ' '\n",
    "        count += 1\n",
    "    if count < 13 or colon_count > 6: # too short for training or likely contains many unquoted quotations\n",
    "        return None\n",
    "    ents = list(set([ent for ent in doc.ents if ent.label_ not in drop_ents]))\n",
    "    ents = sorted(ents, key=lambda ent: ent_order[ent.label_])\n",
    "    for ent in ents:\n",
    "        if ent.text[0] == '$':\n",
    "            pattern = r'\\{}\\b'.format(ent.text) # match money strings, not first word\n",
    "        else:\n",
    "            pattern = r'\\b{}\\b'.format(ent.text) # only match pattern as a word, not part of a word\n",
    "        out_doc = re.sub(pattern, entities.get(ent.label_, ent.text), out_doc)\n",
    "    ents2 = set([ent for ent in nlp(out_doc).ents if ent.label_ == 'PERSON'])\n",
    "    for ent in ents2:\n",
    "        pattern = r'\\b{}\\b'.format(ent.text) \n",
    "        out_doc = re.sub(pattern, 'person', out_doc)\n",
    "    return out_doc"
   ]
  },
  {
   "cell_type": "code",
   "execution_count": 8,
   "metadata": {
    "collapsed": true
   },
   "outputs": [],
   "source": [
    "def convert_quotes(qq):\n",
    "    num = 0\n",
    "    if qq[-2] in ['.', '?', '!']:\n",
    "        punct = qq[-2]\n",
    "    else:\n",
    "        punct = ''\n",
    "    length = len(qq.split())\n",
    "    if length <= 2:\n",
    "        num = 1\n",
    "    elif length <= 12:\n",
    "        num = 2\n",
    "    elif length <= 25:\n",
    "        num = 3\n",
    "    else:\n",
    "        num = 4\n",
    "    return 'quote ' * num + punct\n",
    "\n",
    "def reformat(article):\n",
    "    if not article:\n",
    "        return None\n",
    "    if type(article) is not str:\n",
    "        return None\n",
    "    text = unidecode(article)\n",
    "    if text.count('\\N{QUOTATION MARK}') % 2 != 0:\n",
    "        return None\n",
    "    text = preprocess.clean(text)\n",
    "    text = re.sub(r'^(.{0,50})\\(\\w+\\)', ' ', text) # delete dateline\n",
    "    text = re.sub(r'\\|.*\\|', ' ', text) # delete category headers, bylines, etc. between pipe symbols\n",
    "    text = re.sub(r'\\S*@\\S+', 'email', text) # replace email address or Twitter handle with \"email\"\n",
    "    text = re.sub(r'[-a-zA-Z0-9@:%_\\+.~#?&\\/=]{2,256}\\.[a-z]{2,4}(\\/[-a-zA-Z0-9@:%_\\+.~#?&\\/=]*)?', ' website',\n",
    "                  text) # URLs\n",
    "    text = re.sub('[\\[\\(][^\\[\\(]*[\\]\\)]', '', text) # delete text inside parentheses or brackets\n",
    "    text = re.sub(r\"\\b(\\w*)n't\", lambda m: m.group(1) + ' not', text) # replace remaining \"xxn't\" contractions with \"xx not\"\n",
    "    text = re.sub(r'(\"[^\"]*\")', lambda m: convert_quotes(m.group(1)), text) # replace quoted text\n",
    "    text = re.sub(r\"^'|'$|(?<= )'|(?<!s)'(?= )\", '\"', text) # replace single quotes, but not apostrophes, with double quotes\n",
    "    if text.count('\\N{QUOTATION MARK}') % 2 != 0: # unbalanced quotation marks would cause improper processing \n",
    "        return None\n",
    "    text = re.sub(r'(\"[^\"]*\")', lambda m: convert_quotes(m.group(1)), text) # replace quoted text\n",
    "    text = re.sub(r'(?i)please share this.*', '', text)\n",
    "    text = re.sub(' +', ' ', text) # reduce all multiple spaces to single spaces\n",
    "    try:\n",
    "        output = process(text)\n",
    "    except:\n",
    "        output = None\n",
    "    return output"
   ]
  },
  {
   "cell_type": "code",
   "execution_count": 9,
   "metadata": {
    "collapsed": true
   },
   "outputs": [],
   "source": [
    "def show_articles(df):\n",
    "    for ix, row in df.sample(10).iterrows():\n",
    "        yield helper(ix, row)\n",
    "        \n",
    "def helper(ix, row):\n",
    "    print(ix, ', ', row['domain'])\n",
    "    print(reformat(row['content']))"
   ]
  },
  {
   "cell_type": "code",
   "execution_count": 10,
   "metadata": {
    "collapsed": true
   },
   "outputs": [],
   "source": [
    "def show_contents(df):\n",
    "    for domain in df['domain'].unique():\n",
    "        print(domain)\n",
    "        num = min(len(df[df['domain'] == domain]), 10)\n",
    "        yield df[df['domain'] == domain].sample(num)"
   ]
  },
  {
   "cell_type": "code",
   "execution_count": 236,
   "metadata": {
    "collapsed": true
   },
   "outputs": [],
   "source": [
    "conspiracy = pd.read_csv('corpus/conspiracy.csv')"
   ]
  },
  {
   "cell_type": "code",
   "execution_count": 12,
   "metadata": {},
   "outputs": [
    {
     "data": {
      "text/plain": [
       "array(['blackgenocide.org', 'canadafreepress.com', 'awarenessact.com',\n",
       "       'familysecuritymatters.org', 'zerohedge.com', 'jihadwatch.org',\n",
       "       'themindunleashed.com', 'activistpost.com', 'infowars.com',\n",
       "       'humansarefree.com', 'informationclearinghouse.info',\n",
       "       'wikispooks.com', 'rense.com', 'prisonplanet.com',\n",
       "       '21stcenturywire.com', 'thelibertybeacon.com', 'dcclothesline.com',\n",
       "       'educate-yourself.org', 'henrymakow.com', 'americanfreepress.net',\n",
       "       'nodisinfo.com', 'thedailysheeple.com', '82.221.129.208',\n",
       "       'intellihub.com', 'assassinationscience.com',\n",
       "       'whatreallyhappened.com', 'conspiracyplanet.com',\n",
       "       'abovetopsecret.com', 'gaia.com', 'corbettreport.com',\n",
       "       'whowhatwhy.org', 'govtslaves.info', 'pamelageller.com',\n",
       "       'infiniteunknown.net', 'theeconomiccollapseblog.com', 'shoebat.com',\n",
       "       'endoftheamericandream.com', 'fromthetrenchesworldreport.com',\n",
       "       'countdowntozerotime.com', 'politicalblindspot.com',\n",
       "       'jesus-is-savior.com', 'thepoliticalinsider.com',\n",
       "       'greanvillepost.com', 'whatdoesitmean.com', 'illuminati-news.com',\n",
       "       'worldtruth.tv', 'angrypatriotmovement.com', 'awdnews.com',\n",
       "       'hangthebankers.com', 'newstarget.com', 'davidwolfe.com',\n",
       "       'theeventchronicle.com', 'skeptiko.com', 'rumormillnews.com',\n",
       "       'investmentresearchdynamics.com', 'nowtheendbegins.com',\n",
       "       'fellowshipoftheminds.com', 'zootfeed.com', 'secretsofthefed.com',\n",
       "       'fprnradio.com', 'eyeopening.info', 'counterpsyops.com',\n",
       "       'freedomoutpost.com', 'truthbroadcastnetwork.com',\n",
       "       'conservativerefocus.com', 'dataasylum.com',\n",
       "       'theforbiddenknowledge.com', 'concisepolitics.com',\n",
       "       'sonsoflibertyradio.com', 'electionnightgatekeepers.com',\n",
       "       'oilgeopolitics.net', 'thephaser.com', 'libertyvideos.org',\n",
       "       'nasamoonhoax.com', 'knowledgeoftoday.org', 'sheepkillers.com',\n",
       "       'NoMoreFakeNews.com', 'ufoholic.com', 'weshapelife.org',\n",
       "       'dailyoccupation.com', 'cryptogon.com', 'prepperwebsite.com',\n",
       "       'libertytalk.fm', 'neonnettle.com'], dtype=object)"
      ]
     },
     "execution_count": 12,
     "metadata": {},
     "output_type": "execute_result"
    }
   ],
   "source": [
    "conspiracy['domain'].unique()"
   ]
  },
  {
   "cell_type": "code",
   "execution_count": 237,
   "metadata": {
    "collapsed": true
   },
   "outputs": [],
   "source": [
    "consp_domains = show_contents(conspiracy)"
   ]
  },
  {
   "cell_type": "code",
   "execution_count": 269,
   "metadata": {},
   "outputs": [
    {
     "name": "stdout",
     "output_type": "stream",
     "text": [
      "prisonplanet.com\n"
     ]
    },
    {
     "data": {
      "text/html": [
       "<div>\n",
       "<style scoped>\n",
       "    .dataframe tbody tr th:only-of-type {\n",
       "        vertical-align: middle;\n",
       "    }\n",
       "\n",
       "    .dataframe tbody tr th {\n",
       "        vertical-align: top;\n",
       "    }\n",
       "\n",
       "    .dataframe thead th {\n",
       "        text-align: right;\n",
       "    }\n",
       "</style>\n",
       "<table border=\"1\" class=\"dataframe\">\n",
       "  <thead>\n",
       "    <tr style=\"text-align: right;\">\n",
       "      <th></th>\n",
       "      <th>id</th>\n",
       "      <th>type</th>\n",
       "      <th>domain</th>\n",
       "      <th>content</th>\n",
       "    </tr>\n",
       "  </thead>\n",
       "  <tbody>\n",
       "    <tr>\n",
       "      <th>105889</th>\n",
       "      <td>781497</td>\n",
       "      <td>conspiracy</td>\n",
       "      <td>prisonplanet.com</td>\n",
       "      <td>France proposes NATO military intervention\\n\\n...</td>\n",
       "    </tr>\n",
       "    <tr>\n",
       "      <th>99355</th>\n",
       "      <td>475689</td>\n",
       "      <td>conspiracy</td>\n",
       "      <td>prisonplanet.com</td>\n",
       "      <td>Zero Hedge\\n\\nNovember 9, 2016\\n\\nFor months, ...</td>\n",
       "    </tr>\n",
       "    <tr>\n",
       "      <th>323329</th>\n",
       "      <td>3532680</td>\n",
       "      <td>conspiracy</td>\n",
       "      <td>prisonplanet.com</td>\n",
       "      <td>Get Alex Jones and Paul Joseph Watson's books,...</td>\n",
       "    </tr>\n",
       "    <tr>\n",
       "      <th>97965</th>\n",
       "      <td>452748</td>\n",
       "      <td>conspiracy</td>\n",
       "      <td>prisonplanet.com</td>\n",
       "      <td>Paul Craig Roberts\\n\\nPrison Planet.com\\n\\nOct...</td>\n",
       "    </tr>\n",
       "    <tr>\n",
       "      <th>50476</th>\n",
       "      <td>299023</td>\n",
       "      <td>conspiracy</td>\n",
       "      <td>prisonplanet.com</td>\n",
       "      <td>Steve Watson\\n\\nPrison Planet.com\\n\\nDecember ...</td>\n",
       "    </tr>\n",
       "    <tr>\n",
       "      <th>308762</th>\n",
       "      <td>3104834</td>\n",
       "      <td>conspiracy</td>\n",
       "      <td>prisonplanet.com</td>\n",
       "      <td>Homeland Security prepares to entrench total o...</td>\n",
       "    </tr>\n",
       "    <tr>\n",
       "      <th>322784</th>\n",
       "      <td>3466492</td>\n",
       "      <td>conspiracy</td>\n",
       "      <td>prisonplanet.com</td>\n",
       "      <td>Dyncorp and Halliburton Sex Slave Scandal Won'...</td>\n",
       "    </tr>\n",
       "    <tr>\n",
       "      <th>403092</th>\n",
       "      <td>3997060</td>\n",
       "      <td>conspiracy</td>\n",
       "      <td>prisonplanet.com</td>\n",
       "      <td>Another Dubious Osama Tape Appears When The Ne...</td>\n",
       "    </tr>\n",
       "    <tr>\n",
       "      <th>223028</th>\n",
       "      <td>2295196</td>\n",
       "      <td>conspiracy</td>\n",
       "      <td>prisonplanet.com</td>\n",
       "      <td>Survey finds more Americans now believe UAVs u...</td>\n",
       "    </tr>\n",
       "    <tr>\n",
       "      <th>350872</th>\n",
       "      <td>3762903</td>\n",
       "      <td>conspiracy</td>\n",
       "      <td>prisonplanet.com</td>\n",
       "      <td>McCain Bill Is Lethal Injection For Internet F...</td>\n",
       "    </tr>\n",
       "  </tbody>\n",
       "</table>\n",
       "</div>"
      ],
      "text/plain": [
       "             id        type            domain  \\\n",
       "105889   781497  conspiracy  prisonplanet.com   \n",
       "99355    475689  conspiracy  prisonplanet.com   \n",
       "323329  3532680  conspiracy  prisonplanet.com   \n",
       "97965    452748  conspiracy  prisonplanet.com   \n",
       "50476    299023  conspiracy  prisonplanet.com   \n",
       "308762  3104834  conspiracy  prisonplanet.com   \n",
       "322784  3466492  conspiracy  prisonplanet.com   \n",
       "403092  3997060  conspiracy  prisonplanet.com   \n",
       "223028  2295196  conspiracy  prisonplanet.com   \n",
       "350872  3762903  conspiracy  prisonplanet.com   \n",
       "\n",
       "                                                  content  \n",
       "105889  France proposes NATO military intervention\\n\\n...  \n",
       "99355   Zero Hedge\\n\\nNovember 9, 2016\\n\\nFor months, ...  \n",
       "323329  Get Alex Jones and Paul Joseph Watson's books,...  \n",
       "97965   Paul Craig Roberts\\n\\nPrison Planet.com\\n\\nOct...  \n",
       "50476   Steve Watson\\n\\nPrison Planet.com\\n\\nDecember ...  \n",
       "308762  Homeland Security prepares to entrench total o...  \n",
       "322784  Dyncorp and Halliburton Sex Slave Scandal Won'...  \n",
       "403092  Another Dubious Osama Tape Appears When The Ne...  \n",
       "223028  Survey finds more Americans now believe UAVs u...  \n",
       "350872  McCain Bill Is Lethal Injection For Internet F...  "
      ]
     },
     "execution_count": 269,
     "metadata": {},
     "output_type": "execute_result"
    }
   ],
   "source": [
    "next(consp_domains)"
   ]
  },
  {
   "cell_type": "code",
   "execution_count": 270,
   "metadata": {},
   "outputs": [
    {
     "data": {
      "text/plain": [
       "'Homeland Security prepares to entrench total occupation of America\\n\\nPaul Joseph Watson\\n\\nPrison Planet.com [1]\\n\\nThursday, January 20, 2011\\n\\nThe Department of Homeland Security has released a trio of chilling PSA video clips in which ordinary everyday activities are characterized as signs of potential terrorism, with the public being indoctrinated to assume the role of domestic spies reporting on their friends and neighbors as America sinks deeper into a decaying police state.\\n\\nFollowing the January 1st implementation of the stasi-style “See Something, Say Something” campaign, in which Americans were urged to report “suspicious activity” by means of Orwellian telescreens placed at Wal-Mart checkouts which played a looped message from Janet Napolitano, the DHS announced that the program was set to be expanded [2] to include 9,000 federal buildings, as well as sports stadiums, businesses and communities in general.\\n\\nWe now know how that expansion will manifest itself – with Americans at every level of society being trained that activities such as using cash, not having a credit card, taking pictures or video footage, asking questions, and wearing certain items of clothing are all suspicious and should be reported, while being coerced into living in constant fear of terror, when in reality they are more likely to die from peanut allergies, lightning strikes, or accident-causing deer [3] than terrorist attacks.\\n\\nDHS will no longer be limited to the airport in the form of the TSA, but will become a ubiquitous entity policing everyone through a network of citizen spies and infrastructure security technology. The agency will also assume the mantle of regulating Americans’ every behavior and activity. DHS signs are already in place [4] all over the country telling people where they can and can’t park their cars.\\n\\nAs we have documented [5], every historical example of such informant programs illustrates that they never lead to a more secure society, but instead breed suspicion, distrust, fear and resentment amongst the population. The only “benefit”\\n\\nthat such programs have ever achieved is allowing the state to more easily identify and persecute political dissidents while discouraging the wider population from engaging in any criticism against the government.\\n\\nA d v e r t i s e m e n t\\n\\n\\n\\nAs we have seen from a myriad of reports put out by the DHS and threat fusion centers across the country – the primary targets of Homeland Security in their campaign [6] to have everyone treated with suspicion are gun owners, people who know their rights, and people who exercise their freedoms.\\n\\nAs part of the Commercial Facilities Sector Training and Resources, the following PSA videos have been released by Department of Homeland Security (DHS).\\n\\nDHS Video No Reservations – Extension of “See Something, Say Something” program.\\n\\nThis video equates people who use cash or have a distrust of credit cards as suspicious and potential terrorists.\\n\\nDHS Video Retail Sector – Extension of “See Something, Say Something” program.\\n\\nThis video instigates paranoia by turning everyday activity into potential terrorist warning signs.\\n\\nDHS Video Bag check– Extension of “See Something, Say Something” program\\n\\nThis video shows that anyone attending public events will be under the scrutiny of DHS.\\n\\nWe’ll have more on this chilling DHS takeover of society tomorrow, which will see the launch of a new resistance campaign to protest the unraveling occupation of America by federal goon squads.\\n\\n*********************\\n\\nPaul Joseph Watson is the editor and writer for Prison Planet.com [7]. He is the author of Order Out Of Chaos. Watson is also a fill-in host for The Alex Jones Show. Watson has been interviewed by many publications and radio shows, including Vanity Fair and Coast to Coast AM, America’s most listened to late night talk show.'"
      ]
     },
     "execution_count": 270,
     "metadata": {},
     "output_type": "execute_result"
    }
   ],
   "source": [
    "conspiracy.loc[308762, 'content']"
   ]
  },
  {
   "cell_type": "code",
   "execution_count": 272,
   "metadata": {
    "collapsed": true
   },
   "outputs": [],
   "source": [
    "consp_keepers = ['infowars.com', 'prisonplanet.com', '21stcenturywire.com',\n",
    "                'educate-yourself.org', 'henrymakow.com', 'nodisinfo.com', 'intellihub.com',\n",
    "                'pamelageller.com', 'shoebat.com', 'countdowntozerotime.com', 'thepoliticalinsider.com',\n",
    "                'greanvillepost.com', 'whatdoesitmean.com', 'angrypatriotmovement.com', 'dataasylum.com',\n",
    "                'sonsoflibertyradio.com', 'nasamoonhoax.com', 'sheepkillers.com']"
   ]
  },
  {
   "cell_type": "code",
   "execution_count": 271,
   "metadata": {},
   "outputs": [
    {
     "data": {
      "text/plain": [
       "\"organization prepares to entrench total occupation of place person person person website date The organization has released a trio of chilling organization video clips in which ordinary everyday activities are characterized as signs of potential terrorism, with the public being indoctrinated to assume the role of domestic spies reporting on their friends and neighbors as place sinks deeper into a decaying police state. Following the date implementation of the stasi style quote quote campaign, in which Americans were urged to report quote by means of Orwellian telescreens placed at organization checkouts which played a looped message from person, the organization announced that the program was set to be expanded to include number federal buildings, as well as sports stadiums, businesses and communities in general. We now know how that expansion will manifest itself with Americans at every level of society being trained that activities such as using cash, not having a credit card, taking pictures or video footage, asking questions, and wearing certain items of clothing are all suspicious and should be reported, while being coerced into living in constant fear of terror, when in reality they are more likely to die from peanut allergies, lightning strikes, or accident causing deer than terrorist attacks. organization will no longer be limited to the airport in the form of the organization, but will become a ubiquitous entity policing everyone through a network of citizen spies and infrastructure security technology. The agency will also assume the mantle of regulating Americans' every behavior and activity. organization signs are already in place all over the country telling people where they can and can not park their cars. As we have documented , every historical example of such informant programs illustrates that they never lead to a more secure society, but instead breed suspicion, distrust, fear and resentment amongst the population. The only quote that such programs have ever achieved is allowing the state to more easily identify and persecute political dissidents while discouraging the wider population from engaging in any criticism against the government. n t As we have seen from a myriad of reports put out by the organization and threat fusion centers across the country the primary targets of organization in their campaign to have everyone treated with suspicion are gun owners, people who know their rights, and people who exercise their freedoms. As part of organization, the following organization videos have been released by organization . organization Video No Reservations Extension of quote quote program. This video equates people who use cash or have a distrust of credit cards as suspicious and potential terrorists. organization Video Retail Sector Extension of quote quote program. This video instigates paranoia by turning everyday activity into potential terrorist warning signs. This video shows that anyone attending public events will be under the scrutiny of organization. We'll have more on this chilling organization takeover of society tomorrow, which will see the launch of a new resistance campaign to protest the unraveling occupation of place by federal goon squads. ******************* person person is the editor and writer for person website . He is the author of event. person is also a fill in host for artwork. person has been interviewed by many publications and radio shows, including organization and Coast to Coast AM, place's most listened to time talk show. \""
      ]
     },
     "execution_count": 271,
     "metadata": {},
     "output_type": "execute_result"
    }
   ],
   "source": [
    "reformat(conspiracy.loc[308762, 'content'])"
   ]
  },
  {
   "cell_type": "code",
   "execution_count": 11,
   "metadata": {
    "collapsed": true
   },
   "outputs": [],
   "source": [
    "def clean_file(infile, domains, outfile, outcount):\n",
    "    reader = pd.read_csv(infile, chunksize=10000)\n",
    "    cleaned = []\n",
    "    count = 0\n",
    "    for chunk in reader:\n",
    "        count += 1\n",
    "        if count % 10 == 0:\n",
    "            print(count)\n",
    "        for row in chunk.itertuples():\n",
    "            if row.domain in domains:\n",
    "                article = reformat(row.content)\n",
    "                if article:\n",
    "                    cleaned.append((row.id, row.domain, article))\n",
    "    df_cleaned = pd.DataFrame(cleaned, columns=['id', 'domain', 'content'])\n",
    "    outcount = len(df_cleaned)\n",
    "    print(outcount)\n",
    "    df_cleaned.to_csv(outfile)\n",
    "    return outcount"
   ]
  },
  {
   "cell_type": "code",
   "execution_count": 36,
   "metadata": {
    "collapsed": true
   },
   "outputs": [],
   "source": [
    "hate_keepers = ['barenakedislam.com', 'barnesreview.org', 'ihr.org', 'drrichswier.com', 'davidduke.com',\n",
    "               'returnofkings.com', 'nationalvanguard.org', 'themuslimissue.wordpress.com', 'darkmoon.me',\n",
    "               'glaringhypocrisy.com', 'truthfeed.com']"
   ]
  },
  {
   "cell_type": "code",
   "execution_count": 24,
   "metadata": {
    "collapsed": true
   },
   "outputs": [],
   "source": [
    "hate_count = clean_file('corpus/hate.csv', hate_keepers, 'cleaned/hate_cleaned.csv')"
   ]
  },
  {
   "cell_type": "code",
   "execution_count": 161,
   "metadata": {},
   "outputs": [
    {
     "data": {
      "text/plain": [
       "[13700]"
      ]
     },
     "execution_count": 161,
     "metadata": {},
     "output_type": "execute_result"
    }
   ],
   "source": [
    "unreliable_counts = [hate_count]\n",
    "unreliable_counts"
   ]
  },
  {
   "cell_type": "code",
   "execution_count": 16,
   "metadata": {
    "collapsed": true
   },
   "outputs": [],
   "source": [
    "political_credible = ['baptistnews.com', 'nationalreview.com', 'mintpressnews.com', 'theintercept.com', 'jacobinmag.com',\n",
    "                     'foreignpolicyjournal.com', 'heritage.org', ]"
   ]
  },
  {
   "cell_type": "code",
   "execution_count": 30,
   "metadata": {},
   "outputs": [
    {
     "name": "stdout",
     "output_type": "stream",
     "text": [
      "10\n",
      "20\n",
      "30\n",
      "40\n",
      "50\n",
      "60\n",
      "70\n",
      "80\n",
      "90\n",
      "100\n",
      "110\n",
      "120\n",
      "130\n",
      "140\n",
      "150\n",
      "160\n",
      "315751\n"
     ]
    }
   ],
   "source": [
    "pol_cred_count = clean_file('corpus/political.csv', political_credible, 'cleaned/pol_cred_cleaned.csv', )"
   ]
  },
  {
   "cell_type": "code",
   "execution_count": 165,
   "metadata": {},
   "outputs": [
    {
     "data": {
      "text/plain": [
       "[315751]"
      ]
     },
     "execution_count": 165,
     "metadata": {},
     "output_type": "execute_result"
    }
   ],
   "source": [
    "reliable_counts = [pol_cred_count]\n",
    "reliable_counts"
   ]
  },
  {
   "cell_type": "code",
   "execution_count": 36,
   "metadata": {
    "collapsed": true
   },
   "outputs": [],
   "source": [
    "political_bogus = ['dailycaller.com', 'breitbart.com', 'weeklystandard.com', 'pjmedia.com', 'freedomworks.org',\n",
    "                  'alternet.org', 'conservativereview.com', 'commondreams.org', 'dailykos.com', 'thinkprogress.org',\n",
    "                  'counterpunch.org', 'americannewsx.com', 'ronpaulinstitute.org', 'theblaze.com', 'newcoldwar.org',\n",
    "                  'commentarymagazine.com', 'redstate.com', 'economicnoise.com', 'mrc.org', 'ijr.com', 'thefifthcolumnnews.com'\n",
    "                  ]"
   ]
  },
  {
   "cell_type": "code",
   "execution_count": 37,
   "metadata": {},
   "outputs": [
    {
     "name": "stdout",
     "output_type": "stream",
     "text": [
      "10\n",
      "20\n",
      "30\n",
      "40\n",
      "50\n",
      "60\n",
      "70\n",
      "80\n",
      "90\n",
      "100\n",
      "110\n",
      "120\n",
      "130\n",
      "140\n",
      "150\n",
      "160\n",
      "477775\n"
     ]
    }
   ],
   "source": [
    "pol_bogus_count = clean_file('corpus/political.csv', political_bogus, 'cleaned/pol_bogus_cleaned.csv')"
   ]
  },
  {
   "cell_type": "code",
   "execution_count": 166,
   "metadata": {},
   "outputs": [
    {
     "data": {
      "text/plain": [
       "[13700, 477775]"
      ]
     },
     "execution_count": 166,
     "metadata": {},
     "output_type": "execute_result"
    }
   ],
   "source": [
    "unreliable_counts.append(pol_bogus_count)\n",
    "unreliable_counts"
   ]
  },
  {
   "cell_type": "code",
   "execution_count": 31,
   "metadata": {
    "collapsed": true
   },
   "outputs": [],
   "source": [
    "fake_keepers = ['thecommonsenseshow.com', 'rickwells.us', 'viralliberty.com', 'downtrend.com', 'thelastgreatstand.com',\n",
    "              'yesimright.com', 'usasupreme.com', 'usadailytime.com', 'freedomdaily.com', 'uspoln.com', 'usanewsflash.com',\n",
    "              'onepoliticalplaza.com', 'thefreepatriot.org', 'donaldtrumpnews.co', 'goneleft.com', 'onlineconservativepress.com',\n",
    "              'redrocktribune.com', 'redcountry.us', 'learnprogress.org', 'usadosenews.com', 'usafirstinformation.com',\n",
    "              'enhlive.com', 'flashnewscorner.com']"
   ]
  },
  {
   "cell_type": "code",
   "execution_count": 32,
   "metadata": {},
   "outputs": [
    {
     "name": "stdout",
     "output_type": "stream",
     "text": [
      "10\n",
      "20\n",
      "30\n",
      "40\n",
      "50\n",
      "60\n",
      "70\n",
      "80\n",
      "90\n",
      "6081\n"
     ]
    }
   ],
   "source": [
    "fake_count = clean_file('corpus/fake.csv', fake_keepers, 'cleaned/fake_cleaned.csv')"
   ]
  },
  {
   "cell_type": "code",
   "execution_count": 167,
   "metadata": {
    "collapsed": true
   },
   "outputs": [],
   "source": [
    "unreliable_counts.append(fake_count)"
   ]
  },
  {
   "cell_type": "code",
   "execution_count": 33,
   "metadata": {
    "collapsed": true
   },
   "outputs": [],
   "source": [
    "bias_keepers = ['wnd.com', 'frontpagemag.com', 'americanthinker.com', 'dailywire.com', 'thegatewaypundit.com', \n",
    "               'antiwar.com', 'truthrevolt.org', 'patriotpost.us', 'russia-insider.com', 'paulcraigroberts.org',\n",
    "               'vdare.com', 'off-guardian.org', 'jamesrgrangerjr.com', 'americablog.com', 'americasfreedomfighters.com',\n",
    "               'heartland.org', 'palmerreport.com', 'thefederalistpapers.org', 'conservativetribune.com',\n",
    "               'winningdemocrats.com', '100percentfedup.com', 'cowgernation.com', 'usherald.com', 'darkpolitricks.com',\n",
    "               'newslogue.com', 'usapoliticstoday.com', 'counterjihad.com', 'platosguns.com', 'meanlefthook.com',\n",
    "               'americanpatriotdaily.com', 'endingthefed.com', 'conservativefiringline.com', 'politicalcult.com',\n",
    "               'readconservatives.news']"
   ]
  },
  {
   "cell_type": "code",
   "execution_count": 34,
   "metadata": {},
   "outputs": [
    {
     "name": "stdout",
     "output_type": "stream",
     "text": [
      "10\n",
      "20\n",
      "30\n",
      "40\n",
      "50\n",
      "60\n",
      "70\n",
      "80\n",
      "90\n",
      "100\n",
      "110\n",
      "88823\n"
     ]
    }
   ],
   "source": [
    "bias_count = clean_file('corpus/bias.csv', bias_keepers, 'cleaned/bias_cleaned.csv')"
   ]
  },
  {
   "cell_type": "code",
   "execution_count": 168,
   "metadata": {
    "collapsed": true
   },
   "outputs": [],
   "source": [
    "unreliable_counts.append(bias_count)"
   ]
  },
  {
   "cell_type": "code",
   "execution_count": 277,
   "metadata": {},
   "outputs": [
    {
     "name": "stdout",
     "output_type": "stream",
     "text": [
      "10\n",
      "20\n",
      "30\n",
      "40\n",
      "50\n",
      "60\n",
      "70\n",
      "80\n",
      "17103\n"
     ]
    }
   ],
   "source": [
    "conspiracy_count = clean_file('corpus/conspiracy.csv', consp_keepers, 'cleaned/conspiracy_cleaned.csv')"
   ]
  },
  {
   "cell_type": "code",
   "execution_count": 169,
   "metadata": {
    "collapsed": true
   },
   "outputs": [],
   "source": [
    "unreliable_counts.append(conspiracy_count)"
   ]
  },
  {
   "cell_type": "code",
   "execution_count": 170,
   "metadata": {},
   "outputs": [
    {
     "data": {
      "text/plain": [
       "603482"
      ]
     },
     "execution_count": 170,
     "metadata": {},
     "output_type": "execute_result"
    }
   ],
   "source": [
    "sum(unreliable_counts)"
   ]
  },
  {
   "cell_type": "markdown",
   "metadata": {},
   "source": [
    "Too many of the articles (309,063) come from dailykos.com, so this set will be reduced to 450,000."
   ]
  },
  {
   "cell_type": "code",
   "execution_count": 31,
   "metadata": {
    "collapsed": true
   },
   "outputs": [],
   "source": [
    "import os"
   ]
  },
  {
   "cell_type": "code",
   "execution_count": 171,
   "metadata": {
    "collapsed": true
   },
   "outputs": [],
   "source": [
    "scraper_data = os.listdir('./data')\n",
    "scraped = pd.DataFrame()\n",
    "for file in scraper_data:\n",
    "    try:\n",
    "        df = pd.read_json('./data/{}'.format(file))\n",
    "        scraped = pd.concat([scraped, df])\n",
    "    except:\n",
    "        pass"
   ]
  },
  {
   "cell_type": "code",
   "execution_count": 172,
   "metadata": {},
   "outputs": [
    {
     "data": {
      "text/plain": [
       "70024"
      ]
     },
     "execution_count": 172,
     "metadata": {},
     "output_type": "execute_result"
    }
   ],
   "source": [
    "len(scraped)"
   ]
  },
  {
   "cell_type": "code",
   "execution_count": 179,
   "metadata": {},
   "outputs": [
    {
     "data": {
      "text/plain": [
       "31194"
      ]
     },
     "execution_count": 179,
     "metadata": {},
     "output_type": "execute_result"
    }
   ],
   "source": [
    "scraped = scraped.drop_duplicates(['id'], keep='last')\n",
    "len(scraped)"
   ]
  },
  {
   "cell_type": "code",
   "execution_count": 180,
   "metadata": {
    "collapsed": true
   },
   "outputs": [],
   "source": [
    "scraped.to_csv('corpus/scraped.csv')"
   ]
  },
  {
   "cell_type": "code",
   "execution_count": 181,
   "metadata": {},
   "outputs": [
    {
     "data": {
      "text/html": [
       "<div>\n",
       "<style scoped>\n",
       "    .dataframe tbody tr th:only-of-type {\n",
       "        vertical-align: middle;\n",
       "    }\n",
       "\n",
       "    .dataframe tbody tr th {\n",
       "        vertical-align: top;\n",
       "    }\n",
       "\n",
       "    .dataframe thead th {\n",
       "        text-align: right;\n",
       "    }\n",
       "</style>\n",
       "<table border=\"1\" class=\"dataframe\">\n",
       "  <thead>\n",
       "    <tr style=\"text-align: right;\">\n",
       "      <th></th>\n",
       "      <th>article</th>\n",
       "      <th>id</th>\n",
       "    </tr>\n",
       "  </thead>\n",
       "  <tbody>\n",
       "    <tr>\n",
       "      <th>0</th>\n",
       "      <td>CARACAS (Reuters) - Venezuelan opposition lead...</td>\n",
       "      <td>https://www.reuters.com/article/us-venezuela-p...</td>\n",
       "    </tr>\n",
       "    <tr>\n",
       "      <th>1</th>\n",
       "      <td>TRIPOLI (Reuters) - The airport in the Libyan ...</td>\n",
       "      <td>https://www.reuters.com/article/us-libya-secur...</td>\n",
       "    </tr>\n",
       "    <tr>\n",
       "      <th>2</th>\n",
       "      <td>BERLIN (Reuters) - The leader of Germany’s rul...</td>\n",
       "      <td>https://www.reuters.com/article/us-eu-reform-g...</td>\n",
       "    </tr>\n",
       "    <tr>\n",
       "      <th>3</th>\n",
       "      <td>DUBAI (Reuters) - Iranian President Hassan Rou...</td>\n",
       "      <td>https://www.reuters.com/article/us-iran-pakist...</td>\n",
       "    </tr>\n",
       "    <tr>\n",
       "      <th>4</th>\n",
       "      <td>LAGOS (Reuters) - Nigerian voters returned to ...</td>\n",
       "      <td>https://www.reuters.com/article/us-nigeria-ele...</td>\n",
       "    </tr>\n",
       "  </tbody>\n",
       "</table>\n",
       "</div>"
      ],
      "text/plain": [
       "                                             article  \\\n",
       "0  CARACAS (Reuters) - Venezuelan opposition lead...   \n",
       "1  TRIPOLI (Reuters) - The airport in the Libyan ...   \n",
       "2  BERLIN (Reuters) - The leader of Germany’s rul...   \n",
       "3  DUBAI (Reuters) - Iranian President Hassan Rou...   \n",
       "4  LAGOS (Reuters) - Nigerian voters returned to ...   \n",
       "\n",
       "                                                  id  \n",
       "0  https://www.reuters.com/article/us-venezuela-p...  \n",
       "1  https://www.reuters.com/article/us-libya-secur...  \n",
       "2  https://www.reuters.com/article/us-eu-reform-g...  \n",
       "3  https://www.reuters.com/article/us-iran-pakist...  \n",
       "4  https://www.reuters.com/article/us-nigeria-ele...  "
      ]
     },
     "execution_count": 181,
     "metadata": {},
     "output_type": "execute_result"
    }
   ],
   "source": [
    "scraped.head()"
   ]
  },
  {
   "cell_type": "code",
   "execution_count": 183,
   "metadata": {},
   "outputs": [
    {
     "data": {
      "text/plain": [
       "[315751, 31194, 31194]"
      ]
     },
     "execution_count": 183,
     "metadata": {},
     "output_type": "execute_result"
    }
   ],
   "source": [
    "cleaned = []\n",
    "count = 99999999\n",
    "for row in scraped.itertuples():\n",
    "    article = reformat(row.article)\n",
    "    if article:\n",
    "        count += 1\n",
    "        cleaned.append((count, row.id, article))\n",
    "scraped_cleaned = pd.DataFrame(cleaned, columns=['id', 'domain', 'content'])"
   ]
  },
  {
   "cell_type": "code",
   "execution_count": 197,
   "metadata": {},
   "outputs": [
    {
     "data": {
      "text/plain": [
       "[315751, 21650]"
      ]
     },
     "execution_count": 197,
     "metadata": {},
     "output_type": "execute_result"
    }
   ],
   "source": [
    "scraped_count = len(scraped_cleaned)\n",
    "reliable_counts.append(scraped_count)\n",
    "#scraped_cleaned.to_csv('cleaned/scraped_cleaned.csv')\n",
    "reliable_counts"
   ]
  },
  {
   "cell_type": "code",
   "execution_count": 187,
   "metadata": {},
   "outputs": [
    {
     "data": {
      "text/html": [
       "<div>\n",
       "<style scoped>\n",
       "    .dataframe tbody tr th:only-of-type {\n",
       "        vertical-align: middle;\n",
       "    }\n",
       "\n",
       "    .dataframe tbody tr th {\n",
       "        vertical-align: top;\n",
       "    }\n",
       "\n",
       "    .dataframe thead th {\n",
       "        text-align: right;\n",
       "    }\n",
       "</style>\n",
       "<table border=\"1\" class=\"dataframe\">\n",
       "  <thead>\n",
       "    <tr style=\"text-align: right;\">\n",
       "      <th></th>\n",
       "      <th>id</th>\n",
       "      <th>domain</th>\n",
       "      <th>content</th>\n",
       "    </tr>\n",
       "  </thead>\n",
       "  <tbody>\n",
       "    <tr>\n",
       "      <th>0</th>\n",
       "      <td>100000000</td>\n",
       "      <td>https://www.reuters.com/article/us-venezuela-p...</td>\n",
       "      <td>Venezuelan opposition leader person place on ...</td>\n",
       "    </tr>\n",
       "    <tr>\n",
       "      <th>1</th>\n",
       "      <td>100000001</td>\n",
       "      <td>https://www.reuters.com/article/us-nigeria-ele...</td>\n",
       "      <td>Nigerian voters returned to the polls on date...</td>\n",
       "    </tr>\n",
       "    <tr>\n",
       "      <th>2</th>\n",
       "      <td>100000002</td>\n",
       "      <td>https://www.reuters.com/article/us-italy-polit...</td>\n",
       "      <td>place's prime minister said on date tenders f...</td>\n",
       "    </tr>\n",
       "    <tr>\n",
       "      <th>3</th>\n",
       "      <td>100000003</td>\n",
       "      <td>https://www.reuters.com/article/us-mideast-cri...</td>\n",
       "      <td>The U.S. backed organization paused military ...</td>\n",
       "    </tr>\n",
       "    <tr>\n",
       "      <th>4</th>\n",
       "      <td>100000004</td>\n",
       "      <td>https://www.reuters.com/article/us-mideast-cri...</td>\n",
       "      <td>The organization refugee agency should have a...</td>\n",
       "    </tr>\n",
       "  </tbody>\n",
       "</table>\n",
       "</div>"
      ],
      "text/plain": [
       "          id                                             domain  \\\n",
       "0  100000000  https://www.reuters.com/article/us-venezuela-p...   \n",
       "1  100000001  https://www.reuters.com/article/us-nigeria-ele...   \n",
       "2  100000002  https://www.reuters.com/article/us-italy-polit...   \n",
       "3  100000003  https://www.reuters.com/article/us-mideast-cri...   \n",
       "4  100000004  https://www.reuters.com/article/us-mideast-cri...   \n",
       "\n",
       "                                             content  \n",
       "0   Venezuelan opposition leader person place on ...  \n",
       "1   Nigerian voters returned to the polls on date...  \n",
       "2   place's prime minister said on date tenders f...  \n",
       "3   The U.S. backed organization paused military ...  \n",
       "4   The organization refugee agency should have a...  "
      ]
     },
     "execution_count": 187,
     "metadata": {},
     "output_type": "execute_result"
    }
   ],
   "source": [
    "scraped_cleaned.head()"
   ]
  },
  {
   "cell_type": "code",
   "execution_count": 206,
   "metadata": {},
   "outputs": [
    {
     "data": {
      "text/plain": [
       "75163"
      ]
     },
     "execution_count": 206,
     "metadata": {},
     "output_type": "execute_result"
    }
   ],
   "source": [
    "needed = 450000 - sum(reliable_counts)\n",
    "needed"
   ]
  },
  {
   "cell_type": "code",
   "execution_count": 44,
   "metadata": {
    "collapsed": true
   },
   "outputs": [],
   "source": [
    "credible = pd.read_csv('corpus/credible.csv')"
   ]
  },
  {
   "cell_type": "code",
   "execution_count": 45,
   "metadata": {},
   "outputs": [
    {
     "data": {
      "text/plain": [
       "2015498"
      ]
     },
     "execution_count": 45,
     "metadata": {},
     "output_type": "execute_result"
    }
   ],
   "source": [
    "len(credible)"
   ]
  },
  {
   "cell_type": "code",
   "execution_count": 143,
   "metadata": {
    "collapsed": true
   },
   "outputs": [],
   "source": [
    "cred_samples = show_contents(credible)"
   ]
  },
  {
   "cell_type": "code",
   "execution_count": 158,
   "metadata": {},
   "outputs": [
    {
     "name": "stdout",
     "output_type": "stream",
     "text": [
      "www.cbsnews.com\n"
     ]
    },
    {
     "data": {
      "text/html": [
       "<div>\n",
       "<style scoped>\n",
       "    .dataframe tbody tr th:only-of-type {\n",
       "        vertical-align: middle;\n",
       "    }\n",
       "\n",
       "    .dataframe tbody tr th {\n",
       "        vertical-align: top;\n",
       "    }\n",
       "\n",
       "    .dataframe thead th {\n",
       "        text-align: right;\n",
       "    }\n",
       "</style>\n",
       "<table border=\"1\" class=\"dataframe\">\n",
       "  <thead>\n",
       "    <tr style=\"text-align: right;\">\n",
       "      <th></th>\n",
       "      <th>Unnamed: 0</th>\n",
       "      <th>id</th>\n",
       "      <th>type</th>\n",
       "      <th>domain</th>\n",
       "      <th>content</th>\n",
       "    </tr>\n",
       "  </thead>\n",
       "  <tbody>\n",
       "    <tr>\n",
       "      <th>358371</th>\n",
       "      <td>358373</td>\n",
       "      <td>7993238</td>\n",
       "      <td>reliable</td>\n",
       "      <td>www.cbsnews.com</td>\n",
       "      <td>Father reveals 4-year-old's \"true face of canc...</td>\n",
       "    </tr>\n",
       "    <tr>\n",
       "      <th>375559</th>\n",
       "      <td>376728</td>\n",
       "      <td>8046599</td>\n",
       "      <td>reliable</td>\n",
       "      <td>www.cbsnews.com</td>\n",
       "      <td>Singer Adele hints she is pregnant at concert ...</td>\n",
       "    </tr>\n",
       "    <tr>\n",
       "      <th>413479</th>\n",
       "      <td>417364</td>\n",
       "      <td>8162997</td>\n",
       "      <td>reliable</td>\n",
       "      <td>www.cbsnews.com</td>\n",
       "      <td>The Battle for Mosul, The National Mood, The Z...</td>\n",
       "    </tr>\n",
       "    <tr>\n",
       "      <th>395324</th>\n",
       "      <td>397924</td>\n",
       "      <td>8111131</td>\n",
       "      <td>reliable</td>\n",
       "      <td>www.cbsnews.com</td>\n",
       "      <td>By Reena Flores CBS News November 27, 2016, 10...</td>\n",
       "    </tr>\n",
       "    <tr>\n",
       "      <th>469562</th>\n",
       "      <td>476951</td>\n",
       "      <td>8324610</td>\n",
       "      <td>reliable</td>\n",
       "      <td>www.cbsnews.com</td>\n",
       "      <td>Cabinet hopefuls include Trump critics Novembe...</td>\n",
       "    </tr>\n",
       "    <tr>\n",
       "      <th>387124</th>\n",
       "      <td>389111</td>\n",
       "      <td>8084683</td>\n",
       "      <td>reliable</td>\n",
       "      <td>www.cbsnews.com</td>\n",
       "      <td>Stumble \\nDETROIT -- Aretha Franklin’s lengthy...</td>\n",
       "    </tr>\n",
       "    <tr>\n",
       "      <th>414060</th>\n",
       "      <td>417983</td>\n",
       "      <td>8164659</td>\n",
       "      <td>reliable</td>\n",
       "      <td>www.cbsnews.com</td>\n",
       "      <td>AP November 5, 2016, 12:35 PM Supreme Court OK...</td>\n",
       "    </tr>\n",
       "    <tr>\n",
       "      <th>444452</th>\n",
       "      <td>450168</td>\n",
       "      <td>8250493</td>\n",
       "      <td>reliable</td>\n",
       "      <td>www.cbsnews.com</td>\n",
       "      <td>PARIS -- The flashbacks come to Denys Plaud un...</td>\n",
       "    </tr>\n",
       "    <tr>\n",
       "      <th>395957</th>\n",
       "      <td>398589</td>\n",
       "      <td>8113038</td>\n",
       "      <td>reliable</td>\n",
       "      <td>www.cbsnews.com</td>\n",
       "      <td>SALEM, Mass. — Authorities say a drunken drive...</td>\n",
       "    </tr>\n",
       "    <tr>\n",
       "      <th>375286</th>\n",
       "      <td>376438</td>\n",
       "      <td>8045695</td>\n",
       "      <td>reliable</td>\n",
       "      <td>www.cbsnews.com</td>\n",
       "      <td>Kanye West is on the road to recovery.\\nThe 39...</td>\n",
       "    </tr>\n",
       "  </tbody>\n",
       "</table>\n",
       "</div>"
      ],
      "text/plain": [
       "        Unnamed: 0       id      type           domain  \\\n",
       "358371      358373  7993238  reliable  www.cbsnews.com   \n",
       "375559      376728  8046599  reliable  www.cbsnews.com   \n",
       "413479      417364  8162997  reliable  www.cbsnews.com   \n",
       "395324      397924  8111131  reliable  www.cbsnews.com   \n",
       "469562      476951  8324610  reliable  www.cbsnews.com   \n",
       "387124      389111  8084683  reliable  www.cbsnews.com   \n",
       "414060      417983  8164659  reliable  www.cbsnews.com   \n",
       "444452      450168  8250493  reliable  www.cbsnews.com   \n",
       "395957      398589  8113038  reliable  www.cbsnews.com   \n",
       "375286      376438  8045695  reliable  www.cbsnews.com   \n",
       "\n",
       "                                                  content  \n",
       "358371  Father reveals 4-year-old's \"true face of canc...  \n",
       "375559  Singer Adele hints she is pregnant at concert ...  \n",
       "413479  The Battle for Mosul, The National Mood, The Z...  \n",
       "395324  By Reena Flores CBS News November 27, 2016, 10...  \n",
       "469562  Cabinet hopefuls include Trump critics Novembe...  \n",
       "387124  Stumble \\nDETROIT -- Aretha Franklin’s lengthy...  \n",
       "414060  AP November 5, 2016, 12:35 PM Supreme Court OK...  \n",
       "444452  PARIS -- The flashbacks come to Denys Plaud un...  \n",
       "395957  SALEM, Mass. — Authorities say a drunken drive...  \n",
       "375286  Kanye West is on the road to recovery.\\nThe 39...  "
      ]
     },
     "execution_count": 158,
     "metadata": {},
     "output_type": "execute_result"
    }
   ],
   "source": [
    "next(cred_samples)"
   ]
  },
  {
   "cell_type": "code",
   "execution_count": 159,
   "metadata": {},
   "outputs": [
    {
     "data": {
      "text/plain": [
       "'By Reena Flores CBS News November 27, 2016, 10:06 AM Donald Trump rages against Hillary Clinton team over recount efforts in Wisconsin Jill Stein recount attempt in Wisconsin: What you need to know \\nMr. Trump took to his favorite social media platform, Twitter, calling the efforts “sad” and declared that “nothing will change” despite the time and money that will be spent. Hillary Clinton conceded the election when she called me just prior to the victory speech and after the results were in. Nothing will change — Donald J. Trump (@realDonaldTrump) November 27, 2016 \\nThe president-elect also mentioned Clinton’s remarks during one presidential debate, when she called it “horrifying” that Mr. Trump was declining to say he would absolutely accept the general election results. Hillary\\'s debate answer on delay: \"That is horrifying. That is not the way our democracy works. Been around for 240 years. We\\'ve had free -- — Donald J. Trump (@realDonaldTrump) November 27, 2016 and fair elections. We\\'ve accepted the outcomes when we may not have liked them, and that is what must be expected of anyone standing on a - — Donald J. Trump (@realDonaldTrump) November 27, 2016 during a general election. I, for one, am appalled that somebody that is the nominee of one of our two major parties would take that kind -- — Donald J. Trump (@realDonaldTrump) November 27, 2016 of position.\" Then, separately she stated, \"He said something truly horrifying ... he refused to say that he would respect the results of -- — Donald J. Trump (@realDonaldTrump) November 27, 2016 this election. That is a direct threat to our democracy.\" She then said, \"We have to accept the results and look to the future, Donald -- — Donald J. Trump (@realDonaldTrump) November 27, 2016 Trump is going to be our President. We owe him an open mind and the chance to lead.\" So much time and money will be spent - same result! Sad — Donald J. Trump (@realDonaldTrump) November 27, 2016 \\nOn the Wednesday after the election tallies came in, Clinton, in a concession speech , had urged her supporters to “accept” the results. \\n“Donald Trump is going to be our president,” she said at the time. “We owe him an open mind and the chance to lead.” \\nThe tweetstorm early Sunday was a continuation of the president-elect’s rampage Saturday on Stein’s “ridiculous” recount attempts, when he issued a lengthy statement about how the donations -- now amounting to over $6 million -- were just meant to “fill her coffers with money.” \\n“This is a scam by the Green Party for an election that has already been conceded, and the results of this election should be respected instead of being challenged and abused, which is exactly what Jill Stein is doing,” he said in a statement issued by his transition team. \\nOn Saturday, Marc Elias, the Clinton campaign’s general counsel, announced that the campaign would “participate” in the Wisconsin recount , for which Stein’s representatives have already filed the paperwork. (If Stein follows through with petitioning for recounts in Pennsylvania and Michigan, the Clinton campaign also intends to join their efforts in those states.) In Wisconsin, Mr. Trump’s vote margin numbered just over 27,000 ballots. If the three states were to flip to Clinton victories, she would win the general election with 278 electoral votes, though that scenario seems very unlikely. It is rare that recounts change the result of a race. \\nWisconsin’s elections commission is slated to discuss the state’s recount timeline early Monday morning on a conference call with reporters. \\nThe state will be working to complete the recount by the Dec. 13 federal deadline. © 2016 CBS Interactive Inc. All Rights Reserved.'"
      ]
     },
     "execution_count": 159,
     "metadata": {},
     "output_type": "execute_result"
    }
   ],
   "source": [
    "credible.loc[395324, 'content']"
   ]
  },
  {
   "cell_type": "code",
   "execution_count": 160,
   "metadata": {},
   "outputs": [
    {
     "data": {
      "text/plain": [
       "\"person conceded the election when she called me just prior to the victory speech and after the results were in. Nothing will change Donald J. person email date The president elect also mentioned person's remarks during number presidential debate, when she called it quote that Mr. person was declining to say he would absolutely accept the general election results. quote quote quote quote . Then, separately she stated, quote quote quote quote . She then said, quote quote quote quote . So much time and money will be spent same result! On date after the election tallies came in, person, in a concession speech , had urged her supporters to quote the results. quote quote she said at the time. quote quote . The tweetstorm date was a continuation of the president elect's rampage date on person's quote recount attempts, when he issued a lengthy statement about how the donations now amounting to over $6 million were just meant to quote quote . quote quote quote quote he said in a statement issued by his transition team. On date, person, the person campaign's general counsel, announced that the campaign would quote in the place recount , for which person's representatives have already filed the paperwork. In place, Mr. person's vote margin numbered number ballots. If the number states were to flip to person victories, she would win the general election with number electoral votes, though that scenario seems very unlikely. It is rare that recounts change the result of a race. place's elections commission is slated to discuss the state's recount timeline time on a conference call with reporters. The state will be working to complete the recount by the date federal deadline. date CBS Interactive Inc. All Rights Reserved. \""
      ]
     },
     "execution_count": 160,
     "metadata": {},
     "output_type": "execute_result"
    }
   ],
   "source": [
    "reformat(credible.loc[395324, 'content']) # another example of what the reformat() function does"
   ]
  },
  {
   "cell_type": "code",
   "execution_count": 130,
   "metadata": {
    "collapsed": true
   },
   "outputs": [],
   "source": [
    "credible = credible[~credible['domain'].isin(['in.reuters.com', 'af.reuters.com', 'uk.reuters.com',\n",
    "                                             'washpost.bloomberg.com', 'www.theguardian.com', 'www.reuters.com',\n",
    "                                             'feeds.reuters.com', 'online.wsj.com', 'ca.reuters.com'\n",
    "                                            ])]"
   ]
  },
  {
   "cell_type": "code",
   "execution_count": 199,
   "metadata": {},
   "outputs": [
    {
     "data": {
      "text/plain": [
       "1948505"
      ]
     },
     "execution_count": 199,
     "metadata": {},
     "output_type": "execute_result"
    }
   ],
   "source": [
    "len(credible)"
   ]
  },
  {
   "cell_type": "code",
   "execution_count": 131,
   "metadata": {},
   "outputs": [
    {
     "data": {
      "text/plain": [
       "domain\n",
       "www.theatlantic.com             612\n",
       "www.buzzfeed.com                619\n",
       "foreignpolicyjournal.com        889\n",
       "www.politico.com               1556\n",
       "www.nbcnews.com                1576\n",
       "theintercept.com               2198\n",
       "www.npr.org                    2736\n",
       "www.cbsnews.com                3253\n",
       "www.usatoday.com               4061\n",
       "www.bloomberg.com              4156\n",
       "www.nytimes.com                4550\n",
       "www.washingtonpost.com         5067\n",
       "www.latimes.com                5146\n",
       "www.wsj.com                    5546\n",
       "baptistnews.com                7642\n",
       "abcnews.go.com                 8652\n",
       "weeklystandard.com            28005\n",
       "nationalreview.com           319556\n",
       "nytimes.com                 1542685\n",
       "Name: Unnamed: 0, dtype: int64"
      ]
     },
     "execution_count": 131,
     "metadata": {},
     "output_type": "execute_result"
    }
   ],
   "source": [
    "credible.groupby('domain').count().iloc[:,0].sort_values()"
   ]
  },
  {
   "cell_type": "code",
   "execution_count": 189,
   "metadata": {
    "collapsed": true
   },
   "outputs": [],
   "source": [
    "credible1 = credible[~credible['domain'].isin(['nationalreview.com', 'nytimes.com'])]"
   ]
  },
  {
   "cell_type": "code",
   "execution_count": 190,
   "metadata": {},
   "outputs": [
    {
     "data": {
      "text/plain": [
       "86264"
      ]
     },
     "execution_count": 190,
     "metadata": {},
     "output_type": "execute_result"
    }
   ],
   "source": [
    "len(credible1)"
   ]
  },
  {
   "cell_type": "code",
   "execution_count": 202,
   "metadata": {
    "collapsed": true
   },
   "outputs": [],
   "source": [
    "cleaned = []\n",
    "for row in credible1.itertuples():\n",
    "    article = reformat(row.content)\n",
    "    if article:\n",
    "        cleaned.append((row.id, row.domain, article))\n",
    "credible1_cleaned = pd.DataFrame(cleaned, columns=['id', 'domain', 'content'])"
   ]
  },
  {
   "cell_type": "code",
   "execution_count": 209,
   "metadata": {},
   "outputs": [
    {
     "data": {
      "text/plain": [
       "37727"
      ]
     },
     "execution_count": 209,
     "metadata": {},
     "output_type": "execute_result"
    }
   ],
   "source": [
    "credible1_count = len(credible1_cleaned)\n",
    "credible1_cleaned.to_csv('cleaned/credible1_cleaned.csv')\n",
    "reliable_counts.append(credible1_count)\n",
    "needed = needed - credible1_count\n",
    "needed"
   ]
  },
  {
   "cell_type": "code",
   "execution_count": 214,
   "metadata": {
    "collapsed": true
   },
   "outputs": [],
   "source": [
    "credible2 = credible[credible['domain'] == 'nytimes.com']"
   ]
  },
  {
   "cell_type": "code",
   "execution_count": 215,
   "metadata": {},
   "outputs": [
    {
     "data": {
      "text/plain": [
       "1542685"
      ]
     },
     "execution_count": 215,
     "metadata": {},
     "output_type": "execute_result"
    }
   ],
   "source": [
    "len(credible2)"
   ]
  },
  {
   "cell_type": "code",
   "execution_count": 227,
   "metadata": {},
   "outputs": [
    {
     "data": {
      "text/plain": [
       "53520"
      ]
     },
     "execution_count": 227,
     "metadata": {},
     "output_type": "execute_result"
    }
   ],
   "source": [
    "cleaned = []\n",
    "limit = 53520 # Assembly of data sets in reliable_news.ipynb requires 53,520 NYT articles\n",
    "count = 0\n",
    "for row in credible2.itertuples():\n",
    "    article = reformat(row.content)\n",
    "    if article and count < limit:\n",
    "        cleaned.append((row.id, row.domain, article))\n",
    "        count += 1\n",
    "    if count == limit:\n",
    "        break\n",
    "\n",
    "credible2_cleaned = pd.DataFrame(cleaned, columns=['id', 'domain', 'content'])\n",
    "credible2_cleaned.to_csv('cleaned/credible2_cleaned.csv')\n",
    "len(credible2_cleaned)"
   ]
  },
  {
   "cell_type": "code",
   "execution_count": 228,
   "metadata": {},
   "outputs": [
    {
     "data": {
      "text/html": [
       "<div>\n",
       "<style scoped>\n",
       "    .dataframe tbody tr th:only-of-type {\n",
       "        vertical-align: middle;\n",
       "    }\n",
       "\n",
       "    .dataframe tbody tr th {\n",
       "        vertical-align: top;\n",
       "    }\n",
       "\n",
       "    .dataframe thead th {\n",
       "        text-align: right;\n",
       "    }\n",
       "</style>\n",
       "<table border=\"1\" class=\"dataframe\">\n",
       "  <thead>\n",
       "    <tr style=\"text-align: right;\">\n",
       "      <th></th>\n",
       "      <th>id</th>\n",
       "      <th>domain</th>\n",
       "      <th>content</th>\n",
       "    </tr>\n",
       "  </thead>\n",
       "  <tbody>\n",
       "    <tr>\n",
       "      <th>0</th>\n",
       "      <td>8335330</td>\n",
       "      <td>nytimes.com</td>\n",
       "      <td>Groomed by a golden age of national triumph, A...</td>\n",
       "    </tr>\n",
       "    <tr>\n",
       "      <th>1</th>\n",
       "      <td>8335331</td>\n",
       "      <td>nytimes.com</td>\n",
       "      <td>date, the organization arcades are light, brig...</td>\n",
       "    </tr>\n",
       "    <tr>\n",
       "      <th>2</th>\n",
       "      <td>8335333</td>\n",
       "      <td>nytimes.com</td>\n",
       "      <td>But the number dissimilar sets of characters s...</td>\n",
       "    </tr>\n",
       "    <tr>\n",
       "      <th>3</th>\n",
       "      <td>8335334</td>\n",
       "      <td>nytimes.com</td>\n",
       "      <td>President Boris N. person's resignation date d...</td>\n",
       "    </tr>\n",
       "    <tr>\n",
       "      <th>4</th>\n",
       "      <td>8335335</td>\n",
       "      <td>nytimes.com</td>\n",
       "      <td>The tradition, which began date at the church,...</td>\n",
       "    </tr>\n",
       "  </tbody>\n",
       "</table>\n",
       "</div>"
      ],
      "text/plain": [
       "        id       domain                                            content\n",
       "0  8335330  nytimes.com  Groomed by a golden age of national triumph, A...\n",
       "1  8335331  nytimes.com  date, the organization arcades are light, brig...\n",
       "2  8335333  nytimes.com  But the number dissimilar sets of characters s...\n",
       "3  8335334  nytimes.com  President Boris N. person's resignation date d...\n",
       "4  8335335  nytimes.com  The tradition, which began date at the church,..."
      ]
     },
     "execution_count": 228,
     "metadata": {},
     "output_type": "execute_result"
    }
   ],
   "source": [
    "credible2_cleaned.head()"
   ]
  }
 ],
 "metadata": {
  "kernelspec": {
   "display_name": "Python 3",
   "language": "python",
   "name": "python3"
  },
  "language_info": {
   "codemirror_mode": {
    "name": "ipython",
    "version": 3
   },
   "file_extension": ".py",
   "mimetype": "text/x-python",
   "name": "python",
   "nbconvert_exporter": "python",
   "pygments_lexer": "ipython3",
   "version": "3.6.8"
  }
 },
 "nbformat": 4,
 "nbformat_minor": 2
}
